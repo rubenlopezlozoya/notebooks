{
 "cells": [
  {
   "cell_type": "code",
   "execution_count": null,
   "metadata": {},
   "outputs": [],
   "source": [
    "import pandas as pd\n",
    "import http.client\n",
    "import json\n",
    "import requests\n",
    "from bs4 import BeautifulSoup\n",
    "import time\n",
    "import concurrent.futures\n",
    "import re\n",
    "\n",
    "def find_linkedin_url(full_name, company_name):\n",
    "    conn = http.client.HTTPSConnection(\"google.serper.dev\")\n",
    "    payload = json.dumps({\n",
    "        \"q\": f\"{full_name} {company_name} linkedin\"\n",
    "    })\n",
    "    headers = {\n",
    "        'X-API-KEY': '46e6377865b21659da0a212efadbadf2129740f5',\n",
    "        'Content-Type': 'application/json'\n",
    "    }\n",
    "    conn.request(\"POST\", \"/search\", payload, headers)\n",
    "    res = conn.getresponse()\n",
    "    data = res.read().decode(\"utf-8\")\n",
    "    results = json.loads(data)\n",
    "    if not results:\n",
    "        return None\n",
    "    if not results['organic']:\n",
    "        return None\n",
    "    website = results['organic'][0]['link']\n",
    "    return website\n",
    "\n",
    "def extract_linkedin_person_id(linkedin_url):\n",
    "    if not linkedin_url:\n",
    "        return None\n",
    "    match = re.search(r'/in/([^/?#]+)', linkedin_url)\n",
    "    return match.group(1) if match else None\n",
    "\n",
    "def get_linkedin_id(full_name, company_name):\n",
    "    linkedin_url = find_linkedin_url(full_name, company_name)\n",
    "    if not linkedin_url:\n",
    "        return None\n",
    "    linkedin_id = extract_linkedin_person_id(linkedin_url)\n",
    "    return linkedin_id\n",
    "\n",
    "def process_company(full_name, company_name):\n",
    "    linkedin_id = get_linkedin_id(full_name, company_name)\n",
    "    return full_name, linkedin_id\n",
    "\n",
    "df = pd.read_csv('experimentillo.csv')\n",
    "\n",
    "# Create a full names Series using apply\n",
    "df['full_name'] = df.apply(lambda row: f\"{row['First Name']} {row['Last Name']}\", axis=1)\n",
    "\n",
    "# Pass to executor.map\n",
    "\n",
    "# Using ThreadPoolExecutor to run 10 concurrent rows at a time\n",
    "with concurrent.futures.ThreadPoolExecutor(max_workers=7) as executor:\n",
    "    results = list(executor.map(process_company, df['full_name'], df['Domain']))\n",
    "\n",
    "# Convert the results into a DataFrame\n",
    "results_df = pd.DataFrame(results, columns=['full_name', 'linkedin_id'])\n",
    "\n",
    "# Merge the new DataFrame with the original one\n",
    "df = df.merge(results_df, on='full_name')\n",
    "\n",
    "df.to_csv('person_ids.csv')"
   ]
  },
  {
   "cell_type": "code",
   "execution_count": null,
   "metadata": {},
   "outputs": [],
   "source": [
    "df = pd.read_csv('person_ids.csv')"
   ]
  }
 ],
 "metadata": {
  "kernelspec": {
   "display_name": "maquinillo-h_Y_WDD6-py3.10",
   "language": "python",
   "name": "python3"
  },
  "language_info": {
   "codemirror_mode": {
    "name": "ipython",
    "version": 3
   },
   "file_extension": ".py",
   "mimetype": "text/x-python",
   "name": "python",
   "nbconvert_exporter": "python",
   "pygments_lexer": "ipython3",
   "version": "3.10.8"
  }
 },
 "nbformat": 4,
 "nbformat_minor": 2
}

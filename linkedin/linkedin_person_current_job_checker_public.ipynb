{
 "cells": [
  {
   "cell_type": "code",
   "execution_count": 15,
   "metadata": {},
   "outputs": [
    {
     "name": "stdout",
     "output_type": "stream",
     "text": [
      "Starting from the beginning.\n"
     ]
    },
    {
     "name": "stderr",
     "output_type": "stream",
     "text": [
      "Processing LinkedIn data:   1%|          | 23/2152 [00:08<14:55,  2.38it/s] "
     ]
    },
    {
     "name": "stdout",
     "output_type": "stream",
     "text": [
      "Attempt 1 failed for https://www.linkedin.com/in/lluispiqueras with status code 404. Retrying...\n"
     ]
    },
    {
     "name": "stderr",
     "output_type": "stream",
     "text": [
      "Processing LinkedIn data:   3%|▎         | 58/2152 [00:15<07:04,  4.93it/s]"
     ]
    },
    {
     "name": "stdout",
     "output_type": "stream",
     "text": [
      "Attempt 1 failed for https://www.linkedin.com/in/kyle-smyth-34460512 with status code 404. Retrying...\n"
     ]
    },
    {
     "name": "stderr",
     "output_type": "stream",
     "text": [
      "Processing LinkedIn data:   3%|▎         | 73/2152 [00:19<08:06,  4.28it/s]"
     ]
    },
    {
     "name": "stdout",
     "output_type": "stream",
     "text": [
      "Attempt 1 failed for https://www.linkedin.com/in/mar-pillado with status code 404. Retrying...\n",
      "Attempt 1 failed for https://www.linkedin.com/in/nick-hollinger-ba9aaa1b8 with status code 404. Retrying...\n"
     ]
    },
    {
     "name": "stderr",
     "output_type": "stream",
     "text": [
      "Processing LinkedIn data:   4%|▍         | 87/2152 [00:23<10:43,  3.21it/s]"
     ]
    },
    {
     "name": "stdout",
     "output_type": "stream",
     "text": [
      "Attempt 2 failed for https://www.linkedin.com/in/mar-pillado with status code 404. Retrying...\n"
     ]
    },
    {
     "name": "stderr",
     "output_type": "stream",
     "text": [
      "Processing LinkedIn data:   5%|▌         | 111/2152 [00:31<06:07,  5.56it/s]"
     ]
    },
    {
     "name": "stdout",
     "output_type": "stream",
     "text": [
      "Attempt 1 failed for https://www.linkedin.com/in/audrey-bouchard-cpa-30a49a80 with status code 404. Retrying...\n"
     ]
    },
    {
     "name": "stderr",
     "output_type": "stream",
     "text": [
      "Processing LinkedIn data:   6%|▌         | 120/2152 [00:34<08:09,  4.15it/s]"
     ]
    },
    {
     "name": "stdout",
     "output_type": "stream",
     "text": [
      "Attempt 1 failed for https://www.linkedin.com/in/ninaspirou with status code 404. Retrying...\n"
     ]
    },
    {
     "name": "stderr",
     "output_type": "stream",
     "text": [
      "Processing LinkedIn data:   6%|▌         | 123/2152 [00:35<09:57,  3.40it/s]"
     ]
    },
    {
     "name": "stdout",
     "output_type": "stream",
     "text": [
      "Attempt 2 failed for https://www.linkedin.com/in/audrey-bouchard-cpa-30a49a80 with status code 404. Retrying...\n"
     ]
    },
    {
     "name": "stderr",
     "output_type": "stream",
     "text": [
      "Processing LinkedIn data:   7%|▋         | 149/2152 [00:39<04:01,  8.30it/s]"
     ]
    },
    {
     "name": "stdout",
     "output_type": "stream",
     "text": [
      "Attempt 3 failed for https://www.linkedin.com/in/audrey-bouchard-cpa-30a49a80 with status code 404. Retrying...\n"
     ]
    },
    {
     "name": "stderr",
     "output_type": "stream",
     "text": [
      "Processing LinkedIn data:   7%|▋         | 156/2152 [00:41<06:56,  4.79it/s]"
     ]
    },
    {
     "name": "stdout",
     "output_type": "stream",
     "text": [
      "Attempt 1 failed for https://www.linkedin.com/in/timsex with status code 404. Retrying...\n"
     ]
    },
    {
     "name": "stderr",
     "output_type": "stream",
     "text": [
      "Processing LinkedIn data:   8%|▊         | 167/2152 [00:43<09:13,  3.59it/s]"
     ]
    },
    {
     "name": "stdout",
     "output_type": "stream",
     "text": [
      "Failed to retrieve data for https://www.linkedin.com/in/audrey-bouchard-cpa-30a49a80 after 3 attempts.\n"
     ]
    },
    {
     "name": "stderr",
     "output_type": "stream",
     "text": [
      "Processing LinkedIn data:   8%|▊         | 174/2152 [00:45<07:31,  4.38it/s]"
     ]
    },
    {
     "name": "stdout",
     "output_type": "stream",
     "text": [
      "Attempt 1 failed for https://www.linkedin.com/in/neel-bali-47b96b149 with status code 422. Retrying...\n"
     ]
    },
    {
     "name": "stderr",
     "output_type": "stream",
     "text": [
      "Processing LinkedIn data:   8%|▊         | 176/2152 [00:47<11:19,  2.91it/s]"
     ]
    },
    {
     "name": "stdout",
     "output_type": "stream",
     "text": [
      "Attempt 1 failed for https://www.linkedin.com/in/patersonian with status code 404. Retrying...\n",
      "Attempt 1 failed for https://www.linkedin.com/in/thedarkartmentor with status code 404. Retrying...\n"
     ]
    },
    {
     "name": "stderr",
     "output_type": "stream",
     "text": [
      "Processing LinkedIn data:   8%|▊         | 178/2152 [00:47<09:17,  3.54it/s]"
     ]
    },
    {
     "name": "stdout",
     "output_type": "stream",
     "text": [
      "Attempt 1 failed for https://www.linkedin.com/in/karina-sinclair-2282a518b with status code 404. Retrying...\n"
     ]
    },
    {
     "name": "stderr",
     "output_type": "stream",
     "text": [
      "Processing LinkedIn data:   9%|▊         | 188/2152 [00:51<10:55,  3.00it/s]"
     ]
    },
    {
     "name": "stdout",
     "output_type": "stream",
     "text": [
      "Attempt 2 failed for https://www.linkedin.com/in/karina-sinclair-2282a518b with status code 404. Retrying...\n"
     ]
    },
    {
     "name": "stderr",
     "output_type": "stream",
     "text": [
      "Processing LinkedIn data:   9%|▉         | 195/2152 [00:52<07:12,  4.53it/s]"
     ]
    },
    {
     "name": "stdout",
     "output_type": "stream",
     "text": [
      "Attempt 1 failed for https://www.linkedin.com/in/billhildreth with status code 422. Retrying...\n"
     ]
    },
    {
     "name": "stderr",
     "output_type": "stream",
     "text": [
      "Processing LinkedIn data:  10%|▉         | 207/2152 [00:56<09:50,  3.29it/s]"
     ]
    },
    {
     "name": "stdout",
     "output_type": "stream",
     "text": [
      "Attempt 3 failed for https://www.linkedin.com/in/karina-sinclair-2282a518b with status code 404. Retrying...\n"
     ]
    },
    {
     "name": "stderr",
     "output_type": "stream",
     "text": [
      "Processing LinkedIn data:  10%|█         | 223/2152 [01:01<05:39,  5.69it/s]"
     ]
    },
    {
     "name": "stdout",
     "output_type": "stream",
     "text": [
      "Failed to retrieve data for https://www.linkedin.com/in/karina-sinclair-2282a518b after 3 attempts.\n"
     ]
    },
    {
     "name": "stderr",
     "output_type": "stream",
     "text": [
      "Processing LinkedIn data:  12%|█▏        | 261/2152 [01:15<10:14,  3.08it/s]"
     ]
    },
    {
     "name": "stdout",
     "output_type": "stream",
     "text": [
      "Attempt 2 failed for https://www.linkedin.com/in/lluispiqueras with status code 404. Retrying...\n"
     ]
    },
    {
     "name": "stderr",
     "output_type": "stream",
     "text": [
      "Processing LinkedIn data:  13%|█▎        | 272/2152 [01:18<10:29,  2.98it/s]"
     ]
    },
    {
     "name": "stdout",
     "output_type": "stream",
     "text": [
      "Attempt 1 failed for https://www.linkedin.com/in/juan-jose-belenguer-6632671b with status code 422. Retrying...\n"
     ]
    },
    {
     "name": "stderr",
     "output_type": "stream",
     "text": [
      "Processing LinkedIn data:  13%|█▎        | 273/2152 [01:19<15:11,  2.06it/s]"
     ]
    },
    {
     "name": "stdout",
     "output_type": "stream",
     "text": [
      "Attempt 1 failed for https://www.linkedin.com/in/sophie-turner-0ab375172 with status code 422. Retrying...\n"
     ]
    },
    {
     "name": "stderr",
     "output_type": "stream",
     "text": [
      "Processing LinkedIn data:  13%|█▎        | 280/2152 [01:22<16:08,  1.93it/s]"
     ]
    },
    {
     "name": "stdout",
     "output_type": "stream",
     "text": [
      "Attempt 2 failed for https://www.linkedin.com/in/ninaspirou with status code 404. Retrying...\n"
     ]
    },
    {
     "name": "stderr",
     "output_type": "stream",
     "text": [
      "Processing LinkedIn data:  14%|█▎        | 292/2152 [01:26<06:04,  5.11it/s]"
     ]
    },
    {
     "name": "stdout",
     "output_type": "stream",
     "text": [
      "Attempt 1 failed for https://www.linkedin.com/in/mikechristie1 with status code 422. Retrying...\n"
     ]
    },
    {
     "name": "stderr",
     "output_type": "stream",
     "text": [
      "Processing LinkedIn data:  14%|█▍        | 298/2152 [01:28<12:55,  2.39it/s]"
     ]
    },
    {
     "name": "stdout",
     "output_type": "stream",
     "text": [
      "Attempt 2 failed for https://www.linkedin.com/in/kyle-smyth-34460512 with status code 422. Retrying...\n"
     ]
    },
    {
     "name": "stderr",
     "output_type": "stream",
     "text": [
      "Processing LinkedIn data:  15%|█▍        | 317/2152 [01:34<06:04,  5.04it/s]"
     ]
    },
    {
     "name": "stdout",
     "output_type": "stream",
     "text": [
      "Attempt 1 failed for https://www.linkedin.com/in/clayton-peterson-a65079108 with status code 422. Retrying...\n"
     ]
    },
    {
     "name": "stderr",
     "output_type": "stream",
     "text": [
      "Processing LinkedIn data:  15%|█▌        | 327/2152 [01:38<09:05,  3.35it/s]"
     ]
    },
    {
     "name": "stdout",
     "output_type": "stream",
     "text": [
      "Attempt 1 failed for https://www.linkedin.com/in/jens-stenquist-a3821616 with status code 422. Retrying...\n"
     ]
    },
    {
     "name": "stderr",
     "output_type": "stream",
     "text": [
      "Processing LinkedIn data:  15%|█▌        | 331/2152 [01:40<16:08,  1.88it/s]"
     ]
    },
    {
     "name": "stdout",
     "output_type": "stream",
     "text": [
      "Attempt 3 failed for https://www.linkedin.com/in/mar-pillado with status code 422. Retrying...\n"
     ]
    },
    {
     "name": "stderr",
     "output_type": "stream",
     "text": [
      "Processing LinkedIn data:  15%|█▌        | 333/2152 [01:42<16:44,  1.81it/s]"
     ]
    },
    {
     "name": "stdout",
     "output_type": "stream",
     "text": [
      "Attempt 3 failed for https://www.linkedin.com/in/kyle-smyth-34460512 with status code 404. Retrying...\n",
      "Attempt 2 failed for https://www.linkedin.com/in/patersonian with status code 404. Retrying...\n",
      "Attempt 1 failed for https://www.linkedin.com/in/john-peters-09b3a168 with status code 422. Retrying...\n"
     ]
    },
    {
     "name": "stderr",
     "output_type": "stream",
     "text": [
      "Processing LinkedIn data:  16%|█▌        | 341/2152 [01:44<08:13,  3.67it/s]"
     ]
    },
    {
     "name": "stdout",
     "output_type": "stream",
     "text": [
      "Attempt 1 failed for https://www.linkedin.com/in/jessica-af-sandeberg with status code 404. Retrying...\n",
      "Failed to retrieve data for https://www.linkedin.com/in/mar-pillado after 3 attempts.\n"
     ]
    },
    {
     "name": "stderr",
     "output_type": "stream",
     "text": [
      "Processing LinkedIn data:  16%|█▌        | 343/2152 [01:45<08:22,  3.60it/s]"
     ]
    },
    {
     "name": "stdout",
     "output_type": "stream",
     "text": [
      "Attempt 1 failed for https://www.linkedin.com/in/adrianthomasregus with status code 404. Retrying...\n"
     ]
    },
    {
     "name": "stderr",
     "output_type": "stream",
     "text": [
      "Processing LinkedIn data:  16%|█▌        | 344/2152 [01:46<11:34,  2.60it/s]"
     ]
    },
    {
     "name": "stdout",
     "output_type": "stream",
     "text": [
      "Failed to retrieve data for https://www.linkedin.com/in/kyle-smyth-34460512 after 3 attempts.\n"
     ]
    },
    {
     "name": "stderr",
     "output_type": "stream",
     "text": [
      "Processing LinkedIn data:  17%|█▋        | 361/2152 [01:53<10:49,  2.76it/s]"
     ]
    },
    {
     "name": "stdout",
     "output_type": "stream",
     "text": [
      "Attempt 1 failed for https://www.linkedin.com/in/camielvdooren with status code 404. Retrying...\n"
     ]
    },
    {
     "name": "stderr",
     "output_type": "stream",
     "text": [
      "Processing LinkedIn data:  17%|█▋        | 362/2152 [01:56<27:47,  1.07it/s]"
     ]
    },
    {
     "name": "stdout",
     "output_type": "stream",
     "text": [
      "Attempt 1 failed for https://www.linkedin.com/in/anne-braakman-he-him-01225969 with status code 404. Retrying...\n"
     ]
    },
    {
     "name": "stderr",
     "output_type": "stream",
     "text": [
      "Processing LinkedIn data:  17%|█▋        | 364/2152 [01:57<22:52,  1.30it/s]"
     ]
    },
    {
     "name": "stdout",
     "output_type": "stream",
     "text": [
      "Attempt 1 failed for https://www.linkedin.com/in/martin-svanteson with status code 404. Retrying...\n"
     ]
    },
    {
     "name": "stderr",
     "output_type": "stream",
     "text": [
      "Processing LinkedIn data:  18%|█▊        | 378/2152 [02:03<12:44,  2.32it/s]"
     ]
    },
    {
     "name": "stdout",
     "output_type": "stream",
     "text": [
      "Attempt 1 failed for https://www.linkedin.com/in/maartentimmerman1971 with status code 422. Retrying...\n"
     ]
    },
    {
     "name": "stderr",
     "output_type": "stream",
     "text": [
      "Processing LinkedIn data:  18%|█▊        | 382/2152 [02:07<18:54,  1.56it/s]"
     ]
    },
    {
     "name": "stdout",
     "output_type": "stream",
     "text": [
      "Attempt 1 failed for https://www.linkedin.com/in/basverkleij with status code 422. Retrying...\n"
     ]
    },
    {
     "name": "stderr",
     "output_type": "stream",
     "text": [
      "Processing LinkedIn data:  18%|█▊        | 397/2152 [02:15<15:55,  1.84it/s]"
     ]
    },
    {
     "name": "stdout",
     "output_type": "stream",
     "text": [
      "Attempt 1 failed for https://www.linkedin.com/in/emeliemsvensson with status code 422. Retrying...\n"
     ]
    },
    {
     "name": "stderr",
     "output_type": "stream",
     "text": [
      "Processing LinkedIn data:  18%|█▊        | 398/2152 [02:15<15:04,  1.94it/s]"
     ]
    },
    {
     "name": "stdout",
     "output_type": "stream",
     "text": [
      "Attempt 2 failed for https://www.linkedin.com/in/nick-hollinger-ba9aaa1b8 with status code 422. Retrying...\n"
     ]
    },
    {
     "name": "stderr",
     "output_type": "stream",
     "text": [
      "Processing LinkedIn data:  19%|█▊        | 402/2152 [02:17<11:36,  2.51it/s]"
     ]
    },
    {
     "name": "stdout",
     "output_type": "stream",
     "text": [
      "Attempt 1 failed for https://www.linkedin.com/in/patrick-kalshoven-lean with status code 422. Retrying...\n"
     ]
    },
    {
     "name": "stderr",
     "output_type": "stream",
     "text": [
      "Processing LinkedIn data:  19%|█▉        | 410/2152 [02:20<08:01,  3.62it/s]"
     ]
    },
    {
     "name": "stdout",
     "output_type": "stream",
     "text": [
      "Attempt 1 failed for https://www.linkedin.com/in/katlego-nicole-sobekwa-8113811b with status code 422. Retrying...\n"
     ]
    },
    {
     "name": "stderr",
     "output_type": "stream",
     "text": [
      "Processing LinkedIn data:  19%|█▉        | 413/2152 [02:21<10:50,  2.67it/s]"
     ]
    },
    {
     "name": "stdout",
     "output_type": "stream",
     "text": [
      "Attempt 1 failed for https://www.linkedin.com/in/gerkoole with status code 422. Retrying...\n"
     ]
    },
    {
     "name": "stderr",
     "output_type": "stream",
     "text": [
      "Processing LinkedIn data:  19%|█▉        | 416/2152 [02:23<13:10,  2.20it/s]"
     ]
    },
    {
     "name": "stdout",
     "output_type": "stream",
     "text": [
      "Attempt 1 failed for https://www.linkedin.com/in/jackie-nguyen-344767141 with status code 404. Retrying...\n"
     ]
    },
    {
     "name": "stderr",
     "output_type": "stream",
     "text": [
      "Processing LinkedIn data:  20%|█▉        | 420/2152 [02:24<10:16,  2.81it/s]"
     ]
    },
    {
     "name": "stdout",
     "output_type": "stream",
     "text": [
      "Attempt 1 failed for https://www.linkedin.com/in/austinashburn with status code 422. Retrying...\n"
     ]
    },
    {
     "name": "stderr",
     "output_type": "stream",
     "text": [
      "Processing LinkedIn data:  20%|█▉        | 424/2152 [02:26<11:01,  2.61it/s]"
     ]
    },
    {
     "name": "stdout",
     "output_type": "stream",
     "text": [
      "Attempt 3 failed for https://www.linkedin.com/in/nick-hollinger-ba9aaa1b8 with status code 404. Retrying...\n"
     ]
    },
    {
     "name": "stderr",
     "output_type": "stream",
     "text": [
      "Processing LinkedIn data:  20%|█▉        | 425/2152 [02:27<13:17,  2.17it/s]"
     ]
    },
    {
     "name": "stdout",
     "output_type": "stream",
     "text": [
      "Attempt 3 failed for https://www.linkedin.com/in/lluispiqueras with status code 404. Retrying...\n"
     ]
    },
    {
     "name": "stderr",
     "output_type": "stream",
     "text": [
      "Processing LinkedIn data:  20%|██        | 434/2152 [02:30<13:31,  2.12it/s]"
     ]
    },
    {
     "name": "stdout",
     "output_type": "stream",
     "text": [
      "Failed to retrieve data for https://www.linkedin.com/in/nick-hollinger-ba9aaa1b8 after 3 attempts.\n"
     ]
    },
    {
     "name": "stderr",
     "output_type": "stream",
     "text": [
      "Processing LinkedIn data:  20%|██        | 435/2152 [02:31<16:43,  1.71it/s]"
     ]
    },
    {
     "name": "stdout",
     "output_type": "stream",
     "text": [
      "Failed to retrieve data for https://www.linkedin.com/in/lluispiqueras after 3 attempts.\n"
     ]
    },
    {
     "name": "stderr",
     "output_type": "stream",
     "text": [
      "Processing LinkedIn data:  20%|██        | 441/2152 [02:33<10:41,  2.67it/s]"
     ]
    },
    {
     "name": "stdout",
     "output_type": "stream",
     "text": [
      "Attempt 1 failed for https://www.linkedin.com/in/rolandpastoor with status code 422. Retrying...\n"
     ]
    },
    {
     "name": "stderr",
     "output_type": "stream",
     "text": [
      "Processing LinkedIn data:  21%|██        | 442/2152 [02:33<11:29,  2.48it/s]"
     ]
    },
    {
     "name": "stdout",
     "output_type": "stream",
     "text": [
      "Attempt 1 failed for https://www.linkedin.com/in/dennis-furey-68898a50 with status code 404. Retrying...\n"
     ]
    },
    {
     "name": "stderr",
     "output_type": "stream",
     "text": [
      "Processing LinkedIn data:  21%|██        | 446/2152 [02:35<09:25,  3.02it/s]"
     ]
    },
    {
     "name": "stdout",
     "output_type": "stream",
     "text": [
      "Attempt 1 failed for https://www.linkedin.com/in/farah-sayed-48758b29 with status code 404. Retrying...\n"
     ]
    },
    {
     "name": "stderr",
     "output_type": "stream",
     "text": [
      "Processing LinkedIn data:  21%|██        | 448/2152 [02:37<14:24,  1.97it/s]"
     ]
    },
    {
     "name": "stdout",
     "output_type": "stream",
     "text": [
      "Attempt 1 failed for https://www.linkedin.com/in/marshall-tomsick-9779553 with status code 404. Retrying...\n"
     ]
    },
    {
     "name": "stderr",
     "output_type": "stream",
     "text": [
      "Processing LinkedIn data:  21%|██        | 451/2152 [02:39<17:38,  1.61it/s]"
     ]
    },
    {
     "name": "stdout",
     "output_type": "stream",
     "text": [
      "Attempt 1 failed for https://www.linkedin.com/in/dmaslarov with status code 404. Retrying...\n"
     ]
    },
    {
     "name": "stderr",
     "output_type": "stream",
     "text": [
      "Processing LinkedIn data:  21%|██        | 454/2152 [02:40<12:43,  2.23it/s]"
     ]
    },
    {
     "name": "stdout",
     "output_type": "stream",
     "text": [
      "Attempt 2 failed for https://www.linkedin.com/in/jackie-nguyen-344767141 with status code 404. Retrying...\n"
     ]
    },
    {
     "name": "stderr",
     "output_type": "stream",
     "text": [
      "Processing LinkedIn data:  21%|██        | 456/2152 [02:41<10:32,  2.68it/s]"
     ]
    },
    {
     "name": "stdout",
     "output_type": "stream",
     "text": [
      "Attempt 2 failed for https://www.linkedin.com/in/marshall-tomsick-9779553 with status code 404. Retrying...\n"
     ]
    },
    {
     "name": "stderr",
     "output_type": "stream",
     "text": [
      "Processing LinkedIn data:  21%|██▏       | 460/2152 [02:42<10:15,  2.75it/s]"
     ]
    },
    {
     "name": "stdout",
     "output_type": "stream",
     "text": [
      "Attempt 2 failed for https://www.linkedin.com/in/dmaslarov with status code 404. Retrying...\n"
     ]
    },
    {
     "name": "stderr",
     "output_type": "stream",
     "text": [
      "Processing LinkedIn data:  22%|██▏       | 465/2152 [02:44<10:00,  2.81it/s]"
     ]
    },
    {
     "name": "stdout",
     "output_type": "stream",
     "text": [
      "Attempt 1 failed for https://www.linkedin.com/in/mike-thompson-q with status code 422. Retrying...\n"
     ]
    },
    {
     "name": "stderr",
     "output_type": "stream",
     "text": [
      "Processing LinkedIn data:  22%|██▏       | 472/2152 [02:46<08:43,  3.21it/s]"
     ]
    },
    {
     "name": "stdout",
     "output_type": "stream",
     "text": [
      "Attempt 3 failed for https://www.linkedin.com/in/dmaslarov with status code 404. Retrying...\n"
     ]
    },
    {
     "name": "stderr",
     "output_type": "stream",
     "text": [
      "Processing LinkedIn data:  22%|██▏       | 479/2152 [02:48<08:43,  3.20it/s]"
     ]
    },
    {
     "name": "stdout",
     "output_type": "stream",
     "text": [
      "Attempt 1 failed for https://www.linkedin.com/in/rshalev with status code 404. Retrying...\n"
     ]
    },
    {
     "name": "stderr",
     "output_type": "stream",
     "text": [
      "Processing LinkedIn data:  22%|██▏       | 483/2152 [02:49<07:49,  3.55it/s]"
     ]
    },
    {
     "name": "stdout",
     "output_type": "stream",
     "text": [
      "Attempt 1 failed for https://www.linkedin.com/in/sandiep-medisetti-b0966133 with status code 404. Retrying...\n"
     ]
    },
    {
     "name": "stderr",
     "output_type": "stream",
     "text": [
      "Processing LinkedIn data:  23%|██▎       | 485/2152 [02:50<11:32,  2.41it/s]"
     ]
    },
    {
     "name": "stdout",
     "output_type": "stream",
     "text": [
      "Failed to retrieve data for https://www.linkedin.com/in/dmaslarov after 3 attempts.\n"
     ]
    },
    {
     "name": "stderr",
     "output_type": "stream",
     "text": [
      "Processing LinkedIn data:  23%|██▎       | 487/2152 [02:51<10:42,  2.59it/s]"
     ]
    },
    {
     "name": "stdout",
     "output_type": "stream",
     "text": [
      "Attempt 2 failed for https://www.linkedin.com/in/rshalev with status code 404. Retrying...\n"
     ]
    },
    {
     "name": "stderr",
     "output_type": "stream",
     "text": [
      "Processing LinkedIn data:  23%|██▎       | 495/2152 [02:54<09:19,  2.96it/s]"
     ]
    },
    {
     "name": "stdout",
     "output_type": "stream",
     "text": [
      "Attempt 1 failed for https://www.linkedin.com/in/francisco-espino-romero-371500173 with status code 404. Retrying...\n"
     ]
    },
    {
     "name": "stderr",
     "output_type": "stream",
     "text": [
      "Processing LinkedIn data:  23%|██▎       | 496/2152 [02:55<11:01,  2.50it/s]"
     ]
    },
    {
     "name": "stdout",
     "output_type": "stream",
     "text": [
      "Attempt 2 failed for https://www.linkedin.com/in/dennis-furey-68898a50 with status code 404. Retrying...\n"
     ]
    },
    {
     "name": "stderr",
     "output_type": "stream",
     "text": [
      "Processing LinkedIn data:  23%|██▎       | 497/2152 [02:55<11:42,  2.36it/s]"
     ]
    },
    {
     "name": "stdout",
     "output_type": "stream",
     "text": [
      "Attempt 3 failed for https://www.linkedin.com/in/ninaspirou with status code 404. Retrying...\n"
     ]
    },
    {
     "name": "stderr",
     "output_type": "stream",
     "text": [
      "Processing LinkedIn data:  23%|██▎       | 498/2152 [02:55<10:33,  2.61it/s]"
     ]
    },
    {
     "name": "stdout",
     "output_type": "stream",
     "text": [
      "Attempt 2 failed for https://www.linkedin.com/in/martin-svanteson with status code 404. Retrying...\n",
      "Attempt 2 failed for https://www.linkedin.com/in/timsex with status code 404. Retrying...\n"
     ]
    },
    {
     "name": "stderr",
     "output_type": "stream",
     "text": [
      "Processing LinkedIn data:  23%|██▎       | 499/2152 [02:56<10:57,  2.52it/s]"
     ]
    },
    {
     "name": "stdout",
     "output_type": "stream",
     "text": [
      "Attempt 3 failed for https://www.linkedin.com/in/rshalev with status code 404. Retrying...\n"
     ]
    },
    {
     "name": "stderr",
     "output_type": "stream",
     "text": [
      "Processing LinkedIn data:  23%|██▎       | 501/2152 [02:58<17:57,  1.53it/s]"
     ]
    },
    {
     "name": "stdout",
     "output_type": "stream",
     "text": [
      "Attempt 1 failed for https://www.linkedin.com/in/tinapreston with status code 404. Retrying...\n"
     ]
    },
    {
     "name": "stderr",
     "output_type": "stream",
     "text": [
      "Processing LinkedIn data:  23%|██▎       | 504/2152 [02:59<11:53,  2.31it/s]"
     ]
    },
    {
     "name": "stdout",
     "output_type": "stream",
     "text": [
      "Failed to retrieve data for https://www.linkedin.com/in/ninaspirou after 3 attempts.\n"
     ]
    },
    {
     "name": "stderr",
     "output_type": "stream",
     "text": [
      "Processing LinkedIn data:  23%|██▎       | 505/2152 [03:00<15:23,  1.78it/s]"
     ]
    },
    {
     "name": "stdout",
     "output_type": "stream",
     "text": [
      "Failed to retrieve data for https://www.linkedin.com/in/rshalev after 3 attempts.Attempt 3 failed for https://www.linkedin.com/in/timsex with status code 404. Retrying...\n",
      "\n",
      "Attempt 3 failed for https://www.linkedin.com/in/martin-svanteson with status code 404. Retrying...\n"
     ]
    },
    {
     "name": "stderr",
     "output_type": "stream",
     "text": [
      "Processing LinkedIn data:  24%|██▍       | 514/2152 [03:02<09:12,  2.96it/s]"
     ]
    },
    {
     "name": "stdout",
     "output_type": "stream",
     "text": [
      "Attempt 1 failed for https://www.linkedin.com/in/amireskafyan with status code 404. Retrying...\n"
     ]
    },
    {
     "name": "stderr",
     "output_type": "stream",
     "text": [
      "Processing LinkedIn data:  24%|██▍       | 516/2152 [03:04<13:25,  2.03it/s]"
     ]
    },
    {
     "name": "stdout",
     "output_type": "stream",
     "text": [
      "Attempt 1 failed for https://www.linkedin.com/in/andrewgilgallon with status code 404. Retrying...\n",
      "Failed to retrieve data for https://www.linkedin.com/in/timsex after 3 attempts.\n",
      "Failed to retrieve data for https://www.linkedin.com/in/martin-svanteson after 3 attempts.\n"
     ]
    },
    {
     "name": "stderr",
     "output_type": "stream",
     "text": [
      "Processing LinkedIn data:  24%|██▍       | 523/2152 [03:07<15:43,  1.73it/s]"
     ]
    },
    {
     "name": "stdout",
     "output_type": "stream",
     "text": [
      "Attempt 2 failed for https://www.linkedin.com/in/tinapreston with status code 404. Retrying...\n"
     ]
    },
    {
     "name": "stderr",
     "output_type": "stream",
     "text": [
      "Processing LinkedIn data:  25%|██▍       | 531/2152 [03:11<15:17,  1.77it/s]"
     ]
    },
    {
     "name": "stdout",
     "output_type": "stream",
     "text": [
      "Attempt 2 failed for https://www.linkedin.com/in/juan-jose-belenguer-6632671b with status code 422. Retrying...\n",
      "Attempt 3 failed for https://www.linkedin.com/in/tinapreston with status code 404. Retrying...\n"
     ]
    },
    {
     "name": "stderr",
     "output_type": "stream",
     "text": [
      "Processing LinkedIn data:  25%|██▍       | 536/2152 [03:14<15:03,  1.79it/s]"
     ]
    },
    {
     "name": "stdout",
     "output_type": "stream",
     "text": [
      "Attempt 2 failed for https://www.linkedin.com/in/emeliemsvensson with status code 404. Retrying...\n"
     ]
    },
    {
     "name": "stderr",
     "output_type": "stream",
     "text": [
      "Processing LinkedIn data:  25%|██▌       | 539/2152 [03:15<12:04,  2.22it/s]"
     ]
    },
    {
     "name": "stdout",
     "output_type": "stream",
     "text": [
      "Attempt 2 failed for https://www.linkedin.com/in/jessica-af-sandeberg with status code 404. Retrying...\n"
     ]
    },
    {
     "name": "stderr",
     "output_type": "stream",
     "text": [
      "Processing LinkedIn data:  25%|██▌       | 541/2152 [03:16<12:07,  2.22it/s]"
     ]
    },
    {
     "name": "stdout",
     "output_type": "stream",
     "text": [
      "Failed to retrieve data for https://www.linkedin.com/in/tinapreston after 3 attempts.\n"
     ]
    },
    {
     "name": "stderr",
     "output_type": "stream",
     "text": [
      "Processing LinkedIn data:  26%|██▌       | 549/2152 [03:19<11:04,  2.41it/s]"
     ]
    },
    {
     "name": "stdout",
     "output_type": "stream",
     "text": [
      "Attempt 3 failed for https://www.linkedin.com/in/jessica-af-sandeberg with status code 404. Retrying...\n"
     ]
    },
    {
     "name": "stderr",
     "output_type": "stream",
     "text": [
      "Processing LinkedIn data:  26%|██▌       | 557/2152 [03:24<17:51,  1.49it/s]"
     ]
    },
    {
     "name": "stdout",
     "output_type": "stream",
     "text": [
      "Failed to retrieve data for https://www.linkedin.com/in/jessica-af-sandeberg after 3 attempts.\n"
     ]
    },
    {
     "name": "stderr",
     "output_type": "stream",
     "text": [
      "Processing LinkedIn data:  26%|██▌       | 559/2152 [03:25<13:53,  1.91it/s]"
     ]
    },
    {
     "name": "stdout",
     "output_type": "stream",
     "text": [
      "Attempt 3 failed for https://www.linkedin.com/in/patersonian with status code 404. Retrying...\n"
     ]
    },
    {
     "name": "stderr",
     "output_type": "stream",
     "text": [
      "Processing LinkedIn data:  26%|██▌       | 562/2152 [03:26<10:32,  2.51it/s]"
     ]
    },
    {
     "name": "stdout",
     "output_type": "stream",
     "text": [
      "Attempt 1 failed for https://www.linkedin.com/in/mario-lazaro-52603783 with status code 404. Retrying...\n"
     ]
    },
    {
     "name": "stderr",
     "output_type": "stream",
     "text": [
      "Processing LinkedIn data:  27%|██▋       | 571/2152 [03:29<06:27,  4.08it/s]"
     ]
    },
    {
     "name": "stdout",
     "output_type": "stream",
     "text": [
      "Failed to retrieve data for https://www.linkedin.com/in/patersonian after 3 attempts.\n",
      "Attempt 2 failed for https://www.linkedin.com/in/farah-sayed-48758b29 with status code 404. Retrying...\n",
      "Attempt 3 failed for https://www.linkedin.com/in/juan-jose-belenguer-6632671b with status code 404. Retrying...\n"
     ]
    },
    {
     "name": "stderr",
     "output_type": "stream",
     "text": [
      "Processing LinkedIn data:  27%|██▋       | 573/2152 [03:31<12:48,  2.06it/s]"
     ]
    },
    {
     "name": "stdout",
     "output_type": "stream",
     "text": [
      "Attempt 3 failed for https://www.linkedin.com/in/emeliemsvensson with status code 404. Retrying...\n"
     ]
    },
    {
     "name": "stderr",
     "output_type": "stream",
     "text": [
      "Processing LinkedIn data:  27%|██▋       | 581/2152 [03:33<07:53,  3.32it/s]"
     ]
    },
    {
     "name": "stdout",
     "output_type": "stream",
     "text": [
      "Failed to retrieve data for https://www.linkedin.com/in/juan-jose-belenguer-6632671b after 3 attempts.\n",
      "Attempt 3 failed for https://www.linkedin.com/in/farah-sayed-48758b29 with status code 404. Retrying...\n"
     ]
    },
    {
     "name": "stderr",
     "output_type": "stream",
     "text": [
      "Processing LinkedIn data:  27%|██▋       | 586/2152 [03:36<12:13,  2.13it/s]"
     ]
    },
    {
     "name": "stdout",
     "output_type": "stream",
     "text": [
      "Failed to retrieve data for https://www.linkedin.com/in/emeliemsvensson after 3 attempts.\n"
     ]
    },
    {
     "name": "stderr",
     "output_type": "stream",
     "text": [
      "Processing LinkedIn data:  27%|██▋       | 589/2152 [03:37<10:00,  2.60it/s]"
     ]
    },
    {
     "name": "stdout",
     "output_type": "stream",
     "text": [
      "Attempt 2 failed for https://www.linkedin.com/in/sandiep-medisetti-b0966133 with status code 404. Retrying...\n"
     ]
    },
    {
     "name": "stderr",
     "output_type": "stream",
     "text": [
      "Processing LinkedIn data:  28%|██▊       | 593/2152 [03:37<07:12,  3.60it/s]"
     ]
    },
    {
     "name": "stdout",
     "output_type": "stream",
     "text": [
      "Failed to retrieve data for https://www.linkedin.com/in/farah-sayed-48758b29 after 3 attempts.\n"
     ]
    },
    {
     "name": "stderr",
     "output_type": "stream",
     "text": [
      "Processing LinkedIn data:  28%|██▊       | 598/2152 [03:40<11:24,  2.27it/s]"
     ]
    },
    {
     "name": "stdout",
     "output_type": "stream",
     "text": [
      "Attempt 2 failed for https://www.linkedin.com/in/anne-braakman-he-him-01225969 with status code 422. Retrying...\n",
      "Attempt 2 failed for https://www.linkedin.com/in/camielvdooren with status code 422. Retrying...\n"
     ]
    },
    {
     "name": "stderr",
     "output_type": "stream",
     "text": [
      "Processing LinkedIn data:  28%|██▊       | 600/2152 [03:41<12:27,  2.08it/s]"
     ]
    },
    {
     "name": "stdout",
     "output_type": "stream",
     "text": [
      "Attempt 1 failed for https://www.linkedin.com/in/robert-pinkerton-17a71635 with status code 404. Retrying...\n"
     ]
    },
    {
     "name": "stderr",
     "output_type": "stream",
     "text": [
      "Processing LinkedIn data:  28%|██▊       | 603/2152 [03:45<22:39,  1.14it/s]"
     ]
    },
    {
     "name": "stdout",
     "output_type": "stream",
     "text": [
      "Attempt 2 failed for https://www.linkedin.com/in/robert-pinkerton-17a71635 with status code 404. Retrying...\n"
     ]
    },
    {
     "name": "stderr",
     "output_type": "stream",
     "text": [
      "Processing LinkedIn data:  28%|██▊       | 608/2152 [03:47<14:14,  1.81it/s]"
     ]
    },
    {
     "name": "stdout",
     "output_type": "stream",
     "text": [
      "Attempt 1 failed for https://www.linkedin.com/in/stephen-hall-2471161a with status code 422. Retrying...\n",
      "Attempt 2 failed for https://www.linkedin.com/in/thedarkartmentor with status code 504. Retrying...\n"
     ]
    },
    {
     "name": "stderr",
     "output_type": "stream",
     "text": [
      "Processing LinkedIn data:  28%|██▊       | 611/2152 [03:50<19:08,  1.34it/s]"
     ]
    },
    {
     "name": "stdout",
     "output_type": "stream",
     "text": [
      "Attempt 3 failed for https://www.linkedin.com/in/robert-pinkerton-17a71635 with status code 404. Retrying...\n",
      "Attempt 3 failed for https://www.linkedin.com/in/camielvdooren with status code 404. Retrying...\n"
     ]
    },
    {
     "name": "stderr",
     "output_type": "stream",
     "text": [
      "Processing LinkedIn data:  28%|██▊       | 612/2152 [03:50<18:29,  1.39it/s]"
     ]
    },
    {
     "name": "stdout",
     "output_type": "stream",
     "text": [
      "Attempt 2 failed for https://www.linkedin.com/in/amireskafyan with status code 404. Retrying...\n",
      "Attempt 1 failed for https://www.linkedin.com/in/popscrap with status code 422. Retrying...\n",
      "Attempt 2 failed for https://www.linkedin.com/in/mike-thompson-q with status code 404. Retrying...\n"
     ]
    },
    {
     "name": "stderr",
     "output_type": "stream",
     "text": [
      "Processing LinkedIn data:  29%|██▊       | 614/2152 [03:51<15:25,  1.66it/s]"
     ]
    },
    {
     "name": "stdout",
     "output_type": "stream",
     "text": [
      "Attempt 1 failed for https://www.linkedin.com/in/natalliabeliakova with status code 404. Retrying...\n",
      "Attempt 3 failed for https://www.linkedin.com/in/jackie-nguyen-344767141 with status code 404. Retrying...\n",
      "Attempt 3 failed for https://www.linkedin.com/in/thedarkartmentor with status code 404. Retrying...\n"
     ]
    },
    {
     "name": "stderr",
     "output_type": "stream",
     "text": [
      "Processing LinkedIn data:  29%|██▊       | 616/2152 [03:53<18:39,  1.37it/s]"
     ]
    },
    {
     "name": "stdout",
     "output_type": "stream",
     "text": [
      "Attempt 2 failed for https://www.linkedin.com/in/stephen-hall-2471161a with status code 404. Retrying...\n"
     ]
    },
    {
     "name": "stderr",
     "output_type": "stream",
     "text": [
      "Processing LinkedIn data:  29%|██▊       | 617/2152 [03:54<18:58,  1.35it/s]"
     ]
    },
    {
     "name": "stdout",
     "output_type": "stream",
     "text": [
      "Failed to retrieve data for https://www.linkedin.com/in/robert-pinkerton-17a71635 after 3 attempts.\n",
      "Failed to retrieve data for https://www.linkedin.com/in/camielvdooren after 3 attempts.\n",
      "Attempt 1 failed for https://www.linkedin.com/in/daniel-feitosa-costa-lima-4a996675 with status code 422. Retrying...\n"
     ]
    },
    {
     "name": "stderr",
     "output_type": "stream",
     "text": [
      "Processing LinkedIn data:  29%|██▉       | 620/2152 [03:54<11:28,  2.23it/s]"
     ]
    },
    {
     "name": "stdout",
     "output_type": "stream",
     "text": [
      "Attempt 3 failed for https://www.linkedin.com/in/amireskafyan with status code 404. Retrying...\n"
     ]
    },
    {
     "name": "stderr",
     "output_type": "stream",
     "text": [
      "Processing LinkedIn data:  29%|██▉       | 623/2152 [03:56<11:12,  2.27it/s]"
     ]
    },
    {
     "name": "stdout",
     "output_type": "stream",
     "text": [
      "Attempt 2 failed for https://www.linkedin.com/in/natalliabeliakova with status code 404. Retrying...\n",
      "Failed to retrieve data for https://www.linkedin.com/in/jackie-nguyen-344767141 after 3 attempts.\n",
      "Failed to retrieve data for https://www.linkedin.com/in/thedarkartmentor after 3 attempts.\n",
      "Attempt 1 failed for https://www.linkedin.com/in/sriharimaneru with status code 422. Retrying...\n"
     ]
    },
    {
     "name": "stderr",
     "output_type": "stream",
     "text": [
      "Processing LinkedIn data:  29%|██▉       | 629/2152 [03:59<09:17,  2.73it/s]"
     ]
    },
    {
     "name": "stdout",
     "output_type": "stream",
     "text": [
      "Failed to retrieve data for https://www.linkedin.com/in/amireskafyan after 3 attempts.\n"
     ]
    },
    {
     "name": "stderr",
     "output_type": "stream",
     "text": [
      "Processing LinkedIn data:  29%|██▉       | 631/2152 [03:59<07:56,  3.19it/s]"
     ]
    },
    {
     "name": "stdout",
     "output_type": "stream",
     "text": [
      "Attempt 1 failed for https://www.linkedin.com/in/rachid-e-a02bb41a1 with status code 422. Retrying...\n",
      "Attempt 2 failed for https://www.linkedin.com/in/sriharimaneru with status code 404. Retrying...\n"
     ]
    },
    {
     "name": "stderr",
     "output_type": "stream",
     "text": [
      "Processing LinkedIn data:  29%|██▉       | 632/2152 [04:00<13:55,  1.82it/s]"
     ]
    },
    {
     "name": "stdout",
     "output_type": "stream",
     "text": [
      "Attempt 3 failed for https://www.linkedin.com/in/natalliabeliakova with status code 404. Retrying...\n"
     ]
    },
    {
     "name": "stderr",
     "output_type": "stream",
     "text": [
      "Processing LinkedIn data:  30%|██▉       | 640/2152 [04:02<07:29,  3.36it/s]"
     ]
    },
    {
     "name": "stdout",
     "output_type": "stream",
     "text": [
      "Attempt 3 failed for https://www.linkedin.com/in/stephen-hall-2471161a with status code 404. Retrying...\n"
     ]
    },
    {
     "name": "stderr",
     "output_type": "stream",
     "text": [
      "Processing LinkedIn data:  30%|██▉       | 642/2152 [04:04<10:32,  2.39it/s]"
     ]
    },
    {
     "name": "stdout",
     "output_type": "stream",
     "text": [
      "Attempt 2 failed for https://www.linkedin.com/in/andrewgilgallon with status code 404. Retrying...\n"
     ]
    },
    {
     "name": "stderr",
     "output_type": "stream",
     "text": [
      "Processing LinkedIn data:  30%|██▉       | 643/2152 [04:04<11:32,  2.18it/s]"
     ]
    },
    {
     "name": "stdout",
     "output_type": "stream",
     "text": [
      "Failed to retrieve data for https://www.linkedin.com/in/natalliabeliakova after 3 attempts.\n"
     ]
    },
    {
     "name": "stderr",
     "output_type": "stream",
     "text": [
      "Processing LinkedIn data:  30%|███       | 646/2152 [04:07<18:40,  1.34it/s]"
     ]
    },
    {
     "name": "stdout",
     "output_type": "stream",
     "text": [
      "Failed to retrieve data for https://www.linkedin.com/in/stephen-hall-2471161a after 3 attempts.\n"
     ]
    },
    {
     "name": "stderr",
     "output_type": "stream",
     "text": [
      "Processing LinkedIn data:  30%|███       | 650/2152 [04:08<11:42,  2.14it/s]"
     ]
    },
    {
     "name": "stdout",
     "output_type": "stream",
     "text": [
      "Attempt 3 failed for https://www.linkedin.com/in/andrewgilgallon with status code 404. Retrying...\n"
     ]
    },
    {
     "name": "stderr",
     "output_type": "stream",
     "text": [
      "Processing LinkedIn data:  30%|███       | 655/2152 [04:10<11:08,  2.24it/s]"
     ]
    },
    {
     "name": "stdout",
     "output_type": "stream",
     "text": [
      "Attempt 1 failed for https://www.linkedin.com/in/kajagjessingnewman with status code 404. Retrying...\n"
     ]
    },
    {
     "name": "stderr",
     "output_type": "stream",
     "text": [
      "Processing LinkedIn data:  31%|███       | 665/2152 [04:12<05:21,  4.63it/s]"
     ]
    },
    {
     "name": "stdout",
     "output_type": "stream",
     "text": [
      "Failed to retrieve data for https://www.linkedin.com/in/andrewgilgallon after 3 attempts.\n",
      "Attempt 3 failed for https://www.linkedin.com/in/sriharimaneru with status code 404. Retrying...\n"
     ]
    },
    {
     "name": "stderr",
     "output_type": "stream",
     "text": [
      "Processing LinkedIn data:  31%|███▏      | 673/2152 [04:16<12:04,  2.04it/s]"
     ]
    },
    {
     "name": "stdout",
     "output_type": "stream",
     "text": [
      "Failed to retrieve data for https://www.linkedin.com/in/sriharimaneru after 3 attempts.\n"
     ]
    },
    {
     "name": "stderr",
     "output_type": "stream",
     "text": [
      "Processing LinkedIn data:  31%|███▏      | 675/2152 [04:18<14:29,  1.70it/s]"
     ]
    },
    {
     "name": "stdout",
     "output_type": "stream",
     "text": [
      "Attempt 1 failed for https://www.linkedin.com/in/james-kohl-406674122 with status code 404. Retrying...\n"
     ]
    },
    {
     "name": "stderr",
     "output_type": "stream",
     "text": [
      "Processing LinkedIn data:  31%|███▏      | 676/2152 [04:19<15:56,  1.54it/s]"
     ]
    },
    {
     "name": "stdout",
     "output_type": "stream",
     "text": [
      "Attempt 2 failed for https://www.linkedin.com/in/kajagjessingnewman with status code 404. Retrying...\n"
     ]
    },
    {
     "name": "stderr",
     "output_type": "stream",
     "text": [
      "Processing LinkedIn data:  32%|███▏      | 683/2152 [04:23<13:22,  1.83it/s]"
     ]
    },
    {
     "name": "stdout",
     "output_type": "stream",
     "text": [
      "Attempt 2 failed for https://www.linkedin.com/in/popscrap with status code 422. Retrying...\n"
     ]
    },
    {
     "name": "stderr",
     "output_type": "stream",
     "text": [
      "Processing LinkedIn data:  32%|███▏      | 687/2152 [04:24<09:15,  2.64it/s]"
     ]
    },
    {
     "name": "stdout",
     "output_type": "stream",
     "text": [
      "Attempt 3 failed for https://www.linkedin.com/in/marshall-tomsick-9779553 with status code 404. Retrying...\n"
     ]
    },
    {
     "name": "stderr",
     "output_type": "stream",
     "text": [
      "Processing LinkedIn data:  32%|███▏      | 691/2152 [04:25<09:01,  2.70it/s]"
     ]
    },
    {
     "name": "stdout",
     "output_type": "stream",
     "text": [
      "Attempt 2 failed for https://www.linkedin.com/in/francisco-espino-romero-371500173 with status code 404. Retrying...\n",
      "Attempt 3 failed for https://www.linkedin.com/in/kajagjessingnewman with status code 404. Retrying...\n"
     ]
    },
    {
     "name": "stderr",
     "output_type": "stream",
     "text": [
      "Processing LinkedIn data:  32%|███▏      | 692/2152 [04:26<10:45,  2.26it/s]"
     ]
    },
    {
     "name": "stdout",
     "output_type": "stream",
     "text": [
      "Attempt 2 failed for https://www.linkedin.com/in/james-kohl-406674122 with status code 404. Retrying...\n"
     ]
    },
    {
     "name": "stderr",
     "output_type": "stream",
     "text": [
      "Processing LinkedIn data:  32%|███▏      | 697/2152 [04:28<10:24,  2.33it/s]"
     ]
    },
    {
     "name": "stdout",
     "output_type": "stream",
     "text": [
      "Attempt 2 failed for https://www.linkedin.com/in/rachid-e-a02bb41a1 with status code 404. Retrying...\n",
      "Attempt 1 failed for https://www.linkedin.com/in/liam-davies-a5b03ab with status code 404. Retrying...\n"
     ]
    },
    {
     "name": "stderr",
     "output_type": "stream",
     "text": [
      "Processing LinkedIn data:  32%|███▏      | 698/2152 [04:28<09:48,  2.47it/s]"
     ]
    },
    {
     "name": "stdout",
     "output_type": "stream",
     "text": [
      "Failed to retrieve data for https://www.linkedin.com/in/marshall-tomsick-9779553 after 3 attempts.\n"
     ]
    },
    {
     "name": "stderr",
     "output_type": "stream",
     "text": [
      "Processing LinkedIn data:  33%|███▎      | 702/2152 [04:30<08:57,  2.70it/s]"
     ]
    },
    {
     "name": "stdout",
     "output_type": "stream",
     "text": [
      "Failed to retrieve data for https://www.linkedin.com/in/kajagjessingnewman after 3 attempts.\n"
     ]
    },
    {
     "name": "stderr",
     "output_type": "stream",
     "text": [
      "Processing LinkedIn data:  33%|███▎      | 711/2152 [04:32<04:46,  5.03it/s]"
     ]
    },
    {
     "name": "stdout",
     "output_type": "stream",
     "text": [
      "Attempt 2 failed for https://www.linkedin.com/in/liam-davies-a5b03ab with status code 404. Retrying...\n"
     ]
    },
    {
     "name": "stderr",
     "output_type": "stream",
     "text": [
      "Processing LinkedIn data:  33%|███▎      | 719/2152 [04:35<08:43,  2.74it/s]"
     ]
    },
    {
     "name": "stdout",
     "output_type": "stream",
     "text": [
      "Attempt 1 failed for https://www.linkedin.com/in/susan-marra-4142741aa with status code 422. Retrying...\n"
     ]
    },
    {
     "name": "stderr",
     "output_type": "stream",
     "text": [
      "Processing LinkedIn data:  34%|███▍      | 733/2152 [04:38<04:23,  5.39it/s]"
     ]
    },
    {
     "name": "stdout",
     "output_type": "stream",
     "text": [
      "Attempt 3 failed for https://www.linkedin.com/in/mike-thompson-q with status code 422. Retrying...\n"
     ]
    },
    {
     "name": "stderr",
     "output_type": "stream",
     "text": [
      "Processing LinkedIn data:  35%|███▍      | 746/2152 [04:42<05:47,  4.05it/s]"
     ]
    },
    {
     "name": "stdout",
     "output_type": "stream",
     "text": [
      "Failed to retrieve data for https://www.linkedin.com/in/mike-thompson-q after 3 attempts.\n"
     ]
    },
    {
     "name": "stderr",
     "output_type": "stream",
     "text": [
      "Processing LinkedIn data:  35%|███▍      | 747/2152 [04:43<08:21,  2.80it/s]"
     ]
    },
    {
     "name": "stdout",
     "output_type": "stream",
     "text": [
      "Attempt 1 failed for https://www.linkedin.com/in/jesse-klymn-06411410a with status code 422. Retrying...\n"
     ]
    },
    {
     "name": "stderr",
     "output_type": "stream",
     "text": [
      "Processing LinkedIn data:  35%|███▍      | 749/2152 [04:44<11:20,  2.06it/s]"
     ]
    },
    {
     "name": "stdout",
     "output_type": "stream",
     "text": [
      "Attempt 1 failed for https://www.linkedin.com/in/omhamid with status code 422. Retrying...\n"
     ]
    },
    {
     "name": "stderr",
     "output_type": "stream",
     "text": [
      "Processing LinkedIn data:  35%|███▍      | 750/2152 [04:45<11:25,  2.04it/s]"
     ]
    },
    {
     "name": "stdout",
     "output_type": "stream",
     "text": [
      "Attempt 2 failed for https://www.linkedin.com/in/adrianthomasregus with status code 404. Retrying...\n"
     ]
    },
    {
     "name": "stderr",
     "output_type": "stream",
     "text": [
      "Processing LinkedIn data:  35%|███▌      | 757/2152 [04:46<08:30,  2.73it/s]"
     ]
    },
    {
     "name": "stdout",
     "output_type": "stream",
     "text": [
      "Attempt 2 failed for https://www.linkedin.com/in/omhamid with status code 404. Retrying...\n"
     ]
    },
    {
     "name": "stderr",
     "output_type": "stream",
     "text": [
      "Processing LinkedIn data:  35%|███▌      | 759/2152 [04:47<08:57,  2.59it/s]"
     ]
    },
    {
     "name": "stdout",
     "output_type": "stream",
     "text": [
      "Attempt 3 failed for https://www.linkedin.com/in/dennis-furey-68898a50 with status code 422. Retrying...\n"
     ]
    },
    {
     "name": "stderr",
     "output_type": "stream",
     "text": [
      "Processing LinkedIn data:  35%|███▌      | 761/2152 [04:48<08:39,  2.68it/s]"
     ]
    },
    {
     "name": "stdout",
     "output_type": "stream",
     "text": [
      "Attempt 1 failed for https://www.linkedin.com/in/cynthia-sikorski-70a15615 with status code 404. Retrying...\n"
     ]
    },
    {
     "name": "stderr",
     "output_type": "stream",
     "text": [
      "Processing LinkedIn data:  36%|███▌      | 777/2152 [04:51<05:01,  4.55it/s]"
     ]
    },
    {
     "name": "stdout",
     "output_type": "stream",
     "text": [
      "Failed to retrieve data for https://www.linkedin.com/in/dennis-furey-68898a50 after 3 attempts.\n"
     ]
    },
    {
     "name": "stderr",
     "output_type": "stream",
     "text": [
      "Processing LinkedIn data:  36%|███▌      | 780/2152 [04:52<05:09,  4.43it/s]"
     ]
    },
    {
     "name": "stdout",
     "output_type": "stream",
     "text": [
      "Attempt 1 failed for https://www.linkedin.com/in/ryandmcpherson with status code 404. Retrying...\n",
      "Attempt 3 failed for https://www.linkedin.com/in/anne-braakman-he-him-01225969 with status code 422. Retrying...\n"
     ]
    },
    {
     "name": "stderr",
     "output_type": "stream",
     "text": [
      "Processing LinkedIn data:  37%|███▋      | 788/2152 [04:55<07:16,  3.12it/s]"
     ]
    },
    {
     "name": "stdout",
     "output_type": "stream",
     "text": [
      "Attempt 2 failed for https://www.linkedin.com/in/ryandmcpherson with status code 404. Retrying...\n"
     ]
    },
    {
     "name": "stderr",
     "output_type": "stream",
     "text": [
      "Processing LinkedIn data:  37%|███▋      | 790/2152 [04:56<08:24,  2.70it/s]"
     ]
    },
    {
     "name": "stdout",
     "output_type": "stream",
     "text": [
      "Failed to retrieve data for https://www.linkedin.com/in/anne-braakman-he-him-01225969 after 3 attempts.\n"
     ]
    },
    {
     "name": "stderr",
     "output_type": "stream",
     "text": [
      "Processing LinkedIn data:  37%|███▋      | 792/2152 [04:57<09:19,  2.43it/s]"
     ]
    },
    {
     "name": "stdout",
     "output_type": "stream",
     "text": [
      "Attempt 2 failed for https://www.linkedin.com/in/susan-marra-4142741aa with status code 404. Retrying...\n"
     ]
    },
    {
     "name": "stderr",
     "output_type": "stream",
     "text": [
      "Processing LinkedIn data:  37%|███▋      | 803/2152 [05:05<23:35,  1.05s/it]"
     ]
    },
    {
     "name": "stdout",
     "output_type": "stream",
     "text": [
      "Attempt 1 failed for https://www.linkedin.com/in/wallace-b-doolin-18a0318 with status code 404. Retrying...\n"
     ]
    },
    {
     "name": "stderr",
     "output_type": "stream",
     "text": [
      "Processing LinkedIn data:  37%|███▋      | 804/2152 [05:06<23:40,  1.05s/it]"
     ]
    },
    {
     "name": "stdout",
     "output_type": "stream",
     "text": [
      "Attempt 1 failed for https://www.linkedin.com/in/kelly-brockway-21b96b19 with status code 422. Retrying...\n"
     ]
    },
    {
     "name": "stderr",
     "output_type": "stream",
     "text": [
      "Processing LinkedIn data:  38%|███▊      | 807/2152 [05:08<17:47,  1.26it/s]"
     ]
    },
    {
     "name": "stdout",
     "output_type": "stream",
     "text": [
      "Attempt 3 failed for https://www.linkedin.com/in/sandiep-medisetti-b0966133 with status code 404. Retrying...\n"
     ]
    },
    {
     "name": "stderr",
     "output_type": "stream",
     "text": [
      "Processing LinkedIn data:  38%|███▊      | 810/2152 [05:12<18:47,  1.19it/s]"
     ]
    },
    {
     "name": "stdout",
     "output_type": "stream",
     "text": [
      "Attempt 2 failed for https://www.linkedin.com/in/mario-lazaro-52603783 with status code 404. Retrying...\n"
     ]
    },
    {
     "name": "stderr",
     "output_type": "stream",
     "text": [
      "Processing LinkedIn data:  38%|███▊      | 812/2152 [05:13<14:14,  1.57it/s]"
     ]
    },
    {
     "name": "stdout",
     "output_type": "stream",
     "text": [
      "Failed to retrieve data for https://www.linkedin.com/in/sandiep-medisetti-b0966133 after 3 attempts.\n"
     ]
    },
    {
     "name": "stderr",
     "output_type": "stream",
     "text": [
      "Processing LinkedIn data:  38%|███▊      | 813/2152 [05:13<14:20,  1.56it/s]"
     ]
    },
    {
     "name": "stdout",
     "output_type": "stream",
     "text": [
      "Attempt 1 failed for https://www.linkedin.com/in/renee-galloway-194739b with status code 404. Retrying...\n"
     ]
    },
    {
     "name": "stderr",
     "output_type": "stream",
     "text": [
      "Processing LinkedIn data:  38%|███▊      | 816/2152 [05:15<11:34,  1.92it/s]"
     ]
    },
    {
     "name": "stdout",
     "output_type": "stream",
     "text": [
      "Attempt 3 failed for https://www.linkedin.com/in/susan-marra-4142741aa with status code 404. Retrying...\n",
      "Attempt 3 failed for https://www.linkedin.com/in/rachid-e-a02bb41a1 with status code 404. Retrying...\n",
      "Attempt 3 failed for https://www.linkedin.com/in/mario-lazaro-52603783 with status code 404. Retrying...\n"
     ]
    },
    {
     "name": "stderr",
     "output_type": "stream",
     "text": [
      "Processing LinkedIn data:  38%|███▊      | 821/2152 [05:18<10:47,  2.05it/s]"
     ]
    },
    {
     "name": "stdout",
     "output_type": "stream",
     "text": [
      "Attempt 1 failed for https://www.linkedin.com/in/amanda-dubose-6973491b with status code 422. Retrying...\n"
     ]
    },
    {
     "name": "stderr",
     "output_type": "stream",
     "text": [
      "Processing LinkedIn data:  38%|███▊      | 823/2152 [05:19<09:21,  2.37it/s]"
     ]
    },
    {
     "name": "stdout",
     "output_type": "stream",
     "text": [
      "Failed to retrieve data for https://www.linkedin.com/in/susan-marra-4142741aa after 3 attempts.\n",
      "Attempt 3 failed for https://www.linkedin.com/in/popscrap with status code 404. Retrying...\n",
      "Failed to retrieve data for https://www.linkedin.com/in/rachid-e-a02bb41a1 after 3 attempts.\n"
     ]
    },
    {
     "name": "stderr",
     "output_type": "stream",
     "text": [
      "Processing LinkedIn data:  38%|███▊      | 825/2152 [05:20<10:21,  2.13it/s]"
     ]
    },
    {
     "name": "stdout",
     "output_type": "stream",
     "text": [
      "Failed to retrieve data for https://www.linkedin.com/in/mario-lazaro-52603783 after 3 attempts.\n"
     ]
    },
    {
     "name": "stderr",
     "output_type": "stream",
     "text": [
      "Processing LinkedIn data:  39%|███▊      | 829/2152 [05:21<05:42,  3.86it/s]"
     ]
    },
    {
     "name": "stdout",
     "output_type": "stream",
     "text": [
      "Attempt 1 failed for https://www.linkedin.com/in/dena-gavitt-neuwirth with status code 422. Retrying...\n"
     ]
    },
    {
     "name": "stderr",
     "output_type": "stream",
     "text": [
      "Processing LinkedIn data:  39%|███▉      | 834/2152 [05:23<08:42,  2.52it/s]"
     ]
    },
    {
     "name": "stdout",
     "output_type": "stream",
     "text": [
      "Failed to retrieve data for https://www.linkedin.com/in/popscrap after 3 attempts.\n",
      "Attempt 1 failed for https://www.linkedin.com/in/helen-attia-61583a4 with status code 404. Retrying...\n"
     ]
    },
    {
     "name": "stderr",
     "output_type": "stream",
     "text": [
      "Processing LinkedIn data:  39%|███▉      | 847/2152 [05:30<08:08,  2.67it/s]"
     ]
    },
    {
     "name": "stdout",
     "output_type": "stream",
     "text": [
      "Attempt 1 failed for https://www.linkedin.com/in/andrea-cuzzupe-a99697135 with status code 404. Retrying...\n"
     ]
    },
    {
     "name": "stderr",
     "output_type": "stream",
     "text": [
      "Processing LinkedIn data:  39%|███▉      | 848/2152 [05:30<09:16,  2.34it/s]"
     ]
    },
    {
     "name": "stdout",
     "output_type": "stream",
     "text": [
      "Attempt 2 failed for https://www.linkedin.com/in/kelly-brockway-21b96b19 with status code 404. Retrying...\n"
     ]
    },
    {
     "name": "stderr",
     "output_type": "stream",
     "text": [
      "Processing LinkedIn data:  40%|███▉      | 856/2152 [05:33<05:26,  3.97it/s]"
     ]
    },
    {
     "name": "stdout",
     "output_type": "stream",
     "text": [
      "Attempt 2 failed for https://www.linkedin.com/in/andrea-cuzzupe-a99697135 with status code 404. Retrying...\n"
     ]
    },
    {
     "name": "stderr",
     "output_type": "stream",
     "text": [
      "Processing LinkedIn data:  40%|███▉      | 860/2152 [05:35<09:59,  2.15it/s]"
     ]
    },
    {
     "name": "stdout",
     "output_type": "stream",
     "text": [
      "Attempt 1 failed for https://www.linkedin.com/in/kris-brumley-5090042b with status code 404. Retrying...\n"
     ]
    },
    {
     "name": "stderr",
     "output_type": "stream",
     "text": [
      "Processing LinkedIn data:  40%|████      | 862/2152 [05:36<12:59,  1.66it/s]"
     ]
    },
    {
     "name": "stdout",
     "output_type": "stream",
     "text": [
      "Attempt 1 failed for https://www.linkedin.com/in/ryantferguson with status code 404. Retrying...\n"
     ]
    },
    {
     "name": "stderr",
     "output_type": "stream",
     "text": [
      "Processing LinkedIn data:  40%|████      | 866/2152 [05:38<07:43,  2.78it/s]"
     ]
    },
    {
     "name": "stdout",
     "output_type": "stream",
     "text": [
      "Attempt 1 failed for https://www.linkedin.com/in/eric-tsveyer with status code 422. Retrying...\n",
      "Attempt 3 failed for https://www.linkedin.com/in/liam-davies-a5b03ab with status code 404. Retrying...\n"
     ]
    },
    {
     "name": "stderr",
     "output_type": "stream",
     "text": [
      "Processing LinkedIn data:  40%|████      | 871/2152 [05:42<13:54,  1.54it/s]"
     ]
    },
    {
     "name": "stdout",
     "output_type": "stream",
     "text": [
      "Attempt 2 failed for https://www.linkedin.com/in/kris-brumley-5090042b with status code 404. Retrying...\n",
      "Attempt 1 failed for https://www.linkedin.com/in/ivan-lara-56a67517 with status code 404. Retrying...\n"
     ]
    },
    {
     "name": "stderr",
     "output_type": "stream",
     "text": [
      "Processing LinkedIn data:  41%|████      | 872/2152 [05:43<14:31,  1.47it/s]"
     ]
    },
    {
     "name": "stdout",
     "output_type": "stream",
     "text": [
      "Failed to retrieve data for https://www.linkedin.com/in/liam-davies-a5b03ab after 3 attempts.\n"
     ]
    },
    {
     "name": "stderr",
     "output_type": "stream",
     "text": [
      "Processing LinkedIn data:  41%|████      | 873/2152 [05:43<13:08,  1.62it/s]"
     ]
    },
    {
     "name": "stdout",
     "output_type": "stream",
     "text": [
      "Attempt 3 failed for https://www.linkedin.com/in/ryandmcpherson with status code 404. Retrying...\n"
     ]
    },
    {
     "name": "stderr",
     "output_type": "stream",
     "text": [
      "Processing LinkedIn data:  41%|████      | 877/2152 [05:45<09:14,  2.30it/s]"
     ]
    },
    {
     "name": "stdout",
     "output_type": "stream",
     "text": [
      "Attempt 1 failed for https://www.linkedin.com/in/laura-cummings-470b8641 with status code 404. Retrying...\n"
     ]
    },
    {
     "name": "stderr",
     "output_type": "stream",
     "text": [
      "Processing LinkedIn data:  41%|████      | 881/2152 [05:47<15:03,  1.41it/s]"
     ]
    },
    {
     "name": "stdout",
     "output_type": "stream",
     "text": [
      "Attempt 2 failed for https://www.linkedin.com/in/laura-cummings-470b8641 with status code 404. Retrying...\n",
      "Failed to retrieve data for https://www.linkedin.com/in/ryandmcpherson after 3 attempts.\n"
     ]
    },
    {
     "name": "stderr",
     "output_type": "stream",
     "text": [
      "Processing LinkedIn data:  41%|████      | 883/2152 [05:48<09:55,  2.13it/s]"
     ]
    },
    {
     "name": "stdout",
     "output_type": "stream",
     "text": [
      "Attempt 2 failed for https://www.linkedin.com/in/cynthia-sikorski-70a15615 with status code 404. Retrying...\n"
     ]
    },
    {
     "name": "stderr",
     "output_type": "stream",
     "text": [
      "Processing LinkedIn data:  41%|████▏     | 892/2152 [05:51<08:16,  2.54it/s]"
     ]
    },
    {
     "name": "stdout",
     "output_type": "stream",
     "text": [
      "Attempt 1 failed for https://www.linkedin.com/in/jacqueline-takyi-yeboah-msa-a401b4a3 with status code 404. Retrying...\n"
     ]
    },
    {
     "name": "stderr",
     "output_type": "stream",
     "text": [
      "Processing LinkedIn data:  42%|████▏     | 895/2152 [05:52<07:02,  2.97it/s]"
     ]
    },
    {
     "name": "stdout",
     "output_type": "stream",
     "text": [
      "Attempt 3 failed for https://www.linkedin.com/in/adrianthomasregus with status code 404. Retrying...\n"
     ]
    },
    {
     "name": "stderr",
     "output_type": "stream",
     "text": [
      "Processing LinkedIn data:  42%|████▏     | 897/2152 [05:53<06:52,  3.04it/s]"
     ]
    },
    {
     "name": "stdout",
     "output_type": "stream",
     "text": [
      "Attempt 3 failed for https://www.linkedin.com/in/kris-brumley-5090042b with status code 404. Retrying...\n",
      "Attempt 1 failed for https://www.linkedin.com/in/tiki-barber-96481216 with status code 404. Retrying...\n"
     ]
    },
    {
     "name": "stderr",
     "output_type": "stream",
     "text": [
      "Processing LinkedIn data:  42%|████▏     | 900/2152 [05:56<15:26,  1.35it/s]"
     ]
    },
    {
     "name": "stdout",
     "output_type": "stream",
     "text": [
      "Attempt 2 failed for https://www.linkedin.com/in/jacqueline-takyi-yeboah-msa-a401b4a3 with status code 404. Retrying...\n",
      "Failed to retrieve data for https://www.linkedin.com/in/adrianthomasregus after 3 attempts.\n"
     ]
    },
    {
     "name": "stderr",
     "output_type": "stream",
     "text": [
      "Processing LinkedIn data:  42%|████▏     | 901/2152 [05:57<14:07,  1.48it/s]"
     ]
    },
    {
     "name": "stdout",
     "output_type": "stream",
     "text": [
      "Attempt 2 failed for https://www.linkedin.com/in/renee-galloway-194739b with status code 422. Retrying...\n"
     ]
    },
    {
     "name": "stderr",
     "output_type": "stream",
     "text": [
      "Processing LinkedIn data:  42%|████▏     | 902/2152 [05:57<13:25,  1.55it/s]"
     ]
    },
    {
     "name": "stdout",
     "output_type": "stream",
     "text": [
      "Attempt 1 failed for https://www.linkedin.com/in/elaine-sommerschield-9a49b5 with status code 422. Retrying...\n",
      "Failed to retrieve data for https://www.linkedin.com/in/kris-brumley-5090042b after 3 attempts.\n",
      "Attempt 2 failed for https://www.linkedin.com/in/tiki-barber-96481216 with status code 404. Retrying...\n"
     ]
    },
    {
     "name": "stderr",
     "output_type": "stream",
     "text": [
      "Processing LinkedIn data:  42%|████▏     | 906/2152 [05:59<11:10,  1.86it/s]"
     ]
    },
    {
     "name": "stdout",
     "output_type": "stream",
     "text": [
      "Attempt 3 failed for https://www.linkedin.com/in/omhamid with status code 422. Retrying...\n"
     ]
    },
    {
     "name": "stderr",
     "output_type": "stream",
     "text": [
      "Processing LinkedIn data:  42%|████▏     | 914/2152 [06:03<07:40,  2.69it/s]"
     ]
    },
    {
     "name": "stdout",
     "output_type": "stream",
     "text": [
      "Failed to retrieve data for https://www.linkedin.com/in/omhamid after 3 attempts.\n",
      "Attempt 3 failed for https://www.linkedin.com/in/cynthia-sikorski-70a15615 with status code 404. Retrying...\n"
     ]
    },
    {
     "name": "stderr",
     "output_type": "stream",
     "text": [
      "Processing LinkedIn data:  43%|████▎     | 916/2152 [06:04<10:32,  1.95it/s]"
     ]
    },
    {
     "name": "stdout",
     "output_type": "stream",
     "text": [
      "Attempt 1 failed for https://www.linkedin.com/in/joseph-mitchell-b8338019a with status code 422. Retrying...\n"
     ]
    },
    {
     "name": "stderr",
     "output_type": "stream",
     "text": [
      "Processing LinkedIn data:  43%|████▎     | 926/2152 [06:07<06:18,  3.24it/s]"
     ]
    },
    {
     "name": "stdout",
     "output_type": "stream",
     "text": [
      "Failed to retrieve data for https://www.linkedin.com/in/cynthia-sikorski-70a15615 after 3 attempts.\n",
      "Attempt 3 failed for https://www.linkedin.com/in/renee-galloway-194739b with status code 404. Retrying...\n"
     ]
    },
    {
     "name": "stderr",
     "output_type": "stream",
     "text": [
      "Processing LinkedIn data:  43%|████▎     | 929/2152 [06:08<08:58,  2.27it/s]"
     ]
    },
    {
     "name": "stdout",
     "output_type": "stream",
     "text": [
      "Attempt 1 failed for https://www.linkedin.com/in/diane-williams-8119075a with status code 422. Retrying...\n",
      "Attempt 3 failed for https://www.linkedin.com/in/andrea-cuzzupe-a99697135 with status code 422. Retrying...\n"
     ]
    },
    {
     "name": "stderr",
     "output_type": "stream",
     "text": [
      "Processing LinkedIn data:  43%|████▎     | 930/2152 [06:10<12:31,  1.63it/s]"
     ]
    },
    {
     "name": "stdout",
     "output_type": "stream",
     "text": [
      "Attempt 2 failed for https://www.linkedin.com/in/dena-gavitt-neuwirth with status code 404. Retrying...\n"
     ]
    },
    {
     "name": "stderr",
     "output_type": "stream",
     "text": [
      "Processing LinkedIn data:  43%|████▎     | 932/2152 [06:10<09:50,  2.07it/s]"
     ]
    },
    {
     "name": "stdout",
     "output_type": "stream",
     "text": [
      "Attempt 3 failed for https://www.linkedin.com/in/francisco-espino-romero-371500173 with status code 404. Retrying...\n",
      "Attempt 2 failed for https://www.linkedin.com/in/amanda-dubose-6973491b with status code 404. Retrying...\n"
     ]
    },
    {
     "name": "stderr",
     "output_type": "stream",
     "text": [
      "Processing LinkedIn data:  43%|████▎     | 933/2152 [06:11<12:05,  1.68it/s]"
     ]
    },
    {
     "name": "stdout",
     "output_type": "stream",
     "text": [
      "Failed to retrieve data for https://www.linkedin.com/in/renee-galloway-194739b after 3 attempts.\n"
     ]
    },
    {
     "name": "stderr",
     "output_type": "stream",
     "text": [
      "Processing LinkedIn data:  43%|████▎     | 936/2152 [06:12<07:55,  2.56it/s]"
     ]
    },
    {
     "name": "stdout",
     "output_type": "stream",
     "text": [
      "Attempt 3 failed for https://www.linkedin.com/in/kelly-brockway-21b96b19 with status code 404. Retrying...\n"
     ]
    },
    {
     "name": "stderr",
     "output_type": "stream",
     "text": [
      "Processing LinkedIn data:  44%|████▎     | 938/2152 [06:13<10:20,  1.96it/s]"
     ]
    },
    {
     "name": "stdout",
     "output_type": "stream",
     "text": [
      "Failed to retrieve data for https://www.linkedin.com/in/andrea-cuzzupe-a99697135 after 3 attempts.\n"
     ]
    },
    {
     "name": "stderr",
     "output_type": "stream",
     "text": [
      "Processing LinkedIn data:  44%|████▎     | 940/2152 [06:14<08:01,  2.52it/s]"
     ]
    },
    {
     "name": "stdout",
     "output_type": "stream",
     "text": [
      "Attempt 3 failed for https://www.linkedin.com/in/tiki-barber-96481216 with status code 404. Retrying...\n"
     ]
    },
    {
     "name": "stderr",
     "output_type": "stream",
     "text": [
      "Processing LinkedIn data:  44%|████▍     | 945/2152 [06:14<04:18,  4.67it/s]"
     ]
    },
    {
     "name": "stdout",
     "output_type": "stream",
     "text": [
      "Failed to retrieve data for https://www.linkedin.com/in/francisco-espino-romero-371500173 after 3 attempts.\n"
     ]
    },
    {
     "name": "stderr",
     "output_type": "stream",
     "text": [
      "Processing LinkedIn data:  44%|████▍     | 951/2152 [06:16<04:58,  4.03it/s]"
     ]
    },
    {
     "name": "stdout",
     "output_type": "stream",
     "text": [
      "Failed to retrieve data for https://www.linkedin.com/in/kelly-brockway-21b96b19 after 3 attempts.\n"
     ]
    },
    {
     "name": "stderr",
     "output_type": "stream",
     "text": [
      "Processing LinkedIn data:  44%|████▍     | 952/2152 [06:17<06:26,  3.10it/s]"
     ]
    },
    {
     "name": "stdout",
     "output_type": "stream",
     "text": [
      "Attempt 1 failed for https://www.linkedin.com/in/dayna-kathan-0118851b6 with status code 422. Retrying...\n"
     ]
    },
    {
     "name": "stderr",
     "output_type": "stream",
     "text": [
      "Processing LinkedIn data:  45%|████▍     | 959/2152 [06:18<05:06,  3.89it/s]"
     ]
    },
    {
     "name": "stdout",
     "output_type": "stream",
     "text": [
      "Failed to retrieve data for https://www.linkedin.com/in/tiki-barber-96481216 after 3 attempts.\n"
     ]
    },
    {
     "name": "stderr",
     "output_type": "stream",
     "text": [
      "Processing LinkedIn data:  45%|████▍     | 965/2152 [06:21<07:51,  2.52it/s]"
     ]
    },
    {
     "name": "stdout",
     "output_type": "stream",
     "text": [
      "Attempt 3 failed for https://www.linkedin.com/in/james-kohl-406674122 with status code 422. Retrying...\n"
     ]
    },
    {
     "name": "stderr",
     "output_type": "stream",
     "text": [
      "Processing LinkedIn data:  45%|████▍     | 966/2152 [06:21<08:49,  2.24it/s]"
     ]
    },
    {
     "name": "stdout",
     "output_type": "stream",
     "text": [
      "Attempt 1 failed for https://www.linkedin.com/in/joseph-e-wharram-1419791 with status code 422. Retrying...\n"
     ]
    },
    {
     "name": "stderr",
     "output_type": "stream",
     "text": [
      "Processing LinkedIn data:  45%|████▌     | 969/2152 [06:22<08:09,  2.42it/s]"
     ]
    },
    {
     "name": "stdout",
     "output_type": "stream",
     "text": [
      "Attempt 2 failed for https://www.linkedin.com/in/dayna-kathan-0118851b6 with status code 404. Retrying...\n"
     ]
    },
    {
     "name": "stderr",
     "output_type": "stream",
     "text": [
      "Processing LinkedIn data:  45%|████▌     | 973/2152 [06:24<08:05,  2.43it/s]"
     ]
    },
    {
     "name": "stdout",
     "output_type": "stream",
     "text": [
      "Attempt 2 failed for https://www.linkedin.com/in/ryantferguson with status code 404. Retrying...\n"
     ]
    },
    {
     "name": "stderr",
     "output_type": "stream",
     "text": [
      "Processing LinkedIn data:  45%|████▌     | 976/2152 [06:25<07:50,  2.50it/s]"
     ]
    },
    {
     "name": "stdout",
     "output_type": "stream",
     "text": [
      "Failed to retrieve data for https://www.linkedin.com/in/james-kohl-406674122 after 3 attempts.\n"
     ]
    },
    {
     "name": "stderr",
     "output_type": "stream",
     "text": [
      "Processing LinkedIn data:  46%|████▌     | 983/2152 [06:28<07:05,  2.75it/s]"
     ]
    },
    {
     "name": "stdout",
     "output_type": "stream",
     "text": [
      "Attempt 3 failed for https://www.linkedin.com/in/dena-gavitt-neuwirth with status code 404. Retrying...\n",
      "Attempt 1 failed for https://www.linkedin.com/in/jvmlending with status code 404. Retrying...\n"
     ]
    },
    {
     "name": "stderr",
     "output_type": "stream",
     "text": [
      "Processing LinkedIn data:  46%|████▌     | 988/2152 [06:32<16:20,  1.19it/s]"
     ]
    },
    {
     "name": "stdout",
     "output_type": "stream",
     "text": [
      "Attempt 1 failed for https://www.linkedin.com/in/james-cho-45491b206 with status code 422. Retrying...\n"
     ]
    },
    {
     "name": "stderr",
     "output_type": "stream",
     "text": [
      "Processing LinkedIn data:  46%|████▌     | 990/2152 [06:32<09:54,  1.95it/s]"
     ]
    },
    {
     "name": "stdout",
     "output_type": "stream",
     "text": [
      "Failed to retrieve data for https://www.linkedin.com/in/dena-gavitt-neuwirth after 3 attempts.\n"
     ]
    },
    {
     "name": "stderr",
     "output_type": "stream",
     "text": [
      "Processing LinkedIn data:  46%|████▋     | 998/2152 [06:37<11:30,  1.67it/s]"
     ]
    },
    {
     "name": "stdout",
     "output_type": "stream",
     "text": [
      "Attempt 2 failed for https://www.linkedin.com/in/wallace-b-doolin-18a0318 with status code 404. Retrying...\n"
     ]
    },
    {
     "name": "stderr",
     "output_type": "stream",
     "text": [
      "Processing LinkedIn data:  47%|████▋     | 1002/2152 [06:41<14:48,  1.29it/s]"
     ]
    },
    {
     "name": "stdout",
     "output_type": "stream",
     "text": [
      "Attempt 1 failed for https://www.linkedin.com/in/henry-caplan-7a4ba219 with status code 422. Retrying...\n"
     ]
    },
    {
     "name": "stderr",
     "output_type": "stream",
     "text": [
      "Processing LinkedIn data:  47%|████▋     | 1009/2152 [06:42<06:08,  3.10it/s]"
     ]
    },
    {
     "name": "stdout",
     "output_type": "stream",
     "text": [
      "Attempt 2 failed for https://www.linkedin.com/in/helen-attia-61583a4 with status code 422. Retrying...\n",
      "Attempt 1 failed for https://www.linkedin.com/in/carla-sieling-87b4462a with status code 404. Retrying...\n"
     ]
    },
    {
     "name": "stderr",
     "output_type": "stream",
     "text": [
      "Processing LinkedIn data:  47%|████▋     | 1020/2152 [06:49<09:52,  1.91it/s]"
     ]
    },
    {
     "name": "stdout",
     "output_type": "stream",
     "text": [
      "Attempt 1 failed for https://www.linkedin.com/in/robertwhawley with status code 404. Retrying...\n"
     ]
    },
    {
     "name": "stderr",
     "output_type": "stream",
     "text": [
      "Processing LinkedIn data:  48%|████▊     | 1024/2152 [06:49<05:42,  3.30it/s]"
     ]
    },
    {
     "name": "stdout",
     "output_type": "stream",
     "text": [
      "Attempt 1 failed for https://www.linkedin.com/in/gary-wright-csds-99900b18 with status code 422. Retrying...\n"
     ]
    },
    {
     "name": "stderr",
     "output_type": "stream",
     "text": [
      "Processing LinkedIn data:  48%|████▊     | 1031/2152 [06:54<11:48,  1.58it/s]"
     ]
    },
    {
     "name": "stdout",
     "output_type": "stream",
     "text": [
      "Attempt 1 failed for https://www.linkedin.com/in/alecgorjestani with status code 422. Retrying...\n"
     ]
    },
    {
     "name": "stderr",
     "output_type": "stream",
     "text": [
      "Processing LinkedIn data:  48%|████▊     | 1034/2152 [06:55<09:50,  1.89it/s]"
     ]
    },
    {
     "name": "stdout",
     "output_type": "stream",
     "text": [
      "Attempt 2 failed for https://www.linkedin.com/in/carla-sieling-87b4462a with status code 404. Retrying...\n"
     ]
    },
    {
     "name": "stderr",
     "output_type": "stream",
     "text": [
      "Processing LinkedIn data:  48%|████▊     | 1039/2152 [06:57<07:17,  2.55it/s]"
     ]
    },
    {
     "name": "stdout",
     "output_type": "stream",
     "text": [
      "Attempt 1 failed for https://www.linkedin.com/in/ilhan-ince-b339485 with status code 422. Retrying...\n"
     ]
    },
    {
     "name": "stderr",
     "output_type": "stream",
     "text": [
      "Processing LinkedIn data:  48%|████▊     | 1042/2152 [06:58<07:11,  2.57it/s]"
     ]
    },
    {
     "name": "stdout",
     "output_type": "stream",
     "text": [
      "Attempt 1 failed for https://www.linkedin.com/in/medof with status code 404. Retrying...\n",
      "Attempt 1 failed for https://www.linkedin.com/in/cheri-gillett-b8994623 with status code 422. Retrying...\n"
     ]
    },
    {
     "name": "stderr",
     "output_type": "stream",
     "text": [
      "Processing LinkedIn data:  49%|████▊     | 1045/2152 [06:59<07:49,  2.36it/s]"
     ]
    },
    {
     "name": "stdout",
     "output_type": "stream",
     "text": [
      "Attempt 3 failed for https://www.linkedin.com/in/helen-attia-61583a4 with status code 404. Retrying...\n"
     ]
    },
    {
     "name": "stderr",
     "output_type": "stream",
     "text": [
      "Processing LinkedIn data:  49%|████▊     | 1047/2152 [07:01<13:13,  1.39it/s]"
     ]
    },
    {
     "name": "stdout",
     "output_type": "stream",
     "text": [
      "Attempt 1 failed for https://www.linkedin.com/in/chris-phipps-380ab71a with status code 422. Retrying...\n"
     ]
    },
    {
     "name": "stderr",
     "output_type": "stream",
     "text": [
      "Processing LinkedIn data:  49%|████▉     | 1052/2152 [07:04<08:32,  2.14it/s]"
     ]
    },
    {
     "name": "stdout",
     "output_type": "stream",
     "text": [
      "Failed to retrieve data for https://www.linkedin.com/in/helen-attia-61583a4 after 3 attempts.\n",
      "Attempt 1 failed for https://www.linkedin.com/in/jacob-luster-4a67b514a with status code 404. Retrying...\n"
     ]
    },
    {
     "name": "stderr",
     "output_type": "stream",
     "text": [
      "Processing LinkedIn data:  49%|████▉     | 1055/2152 [07:05<09:46,  1.87it/s]"
     ]
    },
    {
     "name": "stdout",
     "output_type": "stream",
     "text": [
      "Attempt 1 failed for https://www.linkedin.com/in/jeff-neish-37496a7 with status code 422. Retrying...\n"
     ]
    },
    {
     "name": "stderr",
     "output_type": "stream",
     "text": [
      "Processing LinkedIn data:  49%|████▉     | 1061/2152 [07:09<08:03,  2.26it/s]"
     ]
    },
    {
     "name": "stdout",
     "output_type": "stream",
     "text": [
      "Attempt 1 failed for https://www.linkedin.com/in/mattjmorrisvh with status code 404. Retrying...\n",
      "Attempt 1 failed for https://www.linkedin.com/in/douglevincpa with status code 422. Retrying...\n"
     ]
    },
    {
     "name": "stderr",
     "output_type": "stream",
     "text": [
      "Processing LinkedIn data:  49%|████▉     | 1065/2152 [07:12<11:56,  1.52it/s]"
     ]
    },
    {
     "name": "stdout",
     "output_type": "stream",
     "text": [
      "Attempt 1 failed for https://www.linkedin.com/in/trishanp with status code 422. Retrying...\n",
      "Attempt 2 failed for https://www.linkedin.com/in/elaine-sommerschield-9a49b5 with status code 422. Retrying...\n"
     ]
    },
    {
     "name": "stderr",
     "output_type": "stream",
     "text": [
      "Processing LinkedIn data:  50%|████▉     | 1069/2152 [07:17<15:51,  1.14it/s]"
     ]
    },
    {
     "name": "stdout",
     "output_type": "stream",
     "text": [
      "Attempt 1 failed for https://www.linkedin.com/in/ricardo-reis-8b55171b0 with status code 422. Retrying...\n"
     ]
    },
    {
     "name": "stderr",
     "output_type": "stream",
     "text": [
      "Processing LinkedIn data:  50%|████▉     | 1073/2152 [07:21<13:17,  1.35it/s]"
     ]
    },
    {
     "name": "stdout",
     "output_type": "stream",
     "text": [
      "Attempt 3 failed for https://www.linkedin.com/in/dayna-kathan-0118851b6 with status code 404. Retrying...\n"
     ]
    },
    {
     "name": "stderr",
     "output_type": "stream",
     "text": [
      "Processing LinkedIn data:  50%|█████     | 1077/2152 [07:24<14:14,  1.26it/s]"
     ]
    },
    {
     "name": "stdout",
     "output_type": "stream",
     "text": [
      "Attempt 3 failed for https://www.linkedin.com/in/laura-cummings-470b8641 with status code 404. Retrying...\n"
     ]
    },
    {
     "name": "stderr",
     "output_type": "stream",
     "text": [
      "Processing LinkedIn data:  50%|█████     | 1078/2152 [07:25<14:27,  1.24it/s]"
     ]
    },
    {
     "name": "stdout",
     "output_type": "stream",
     "text": [
      "Failed to retrieve data for https://www.linkedin.com/in/dayna-kathan-0118851b6 after 3 attempts.\n"
     ]
    },
    {
     "name": "stderr",
     "output_type": "stream",
     "text": [
      "Processing LinkedIn data:  50%|█████     | 1081/2152 [07:27<12:39,  1.41it/s]"
     ]
    },
    {
     "name": "stdout",
     "output_type": "stream",
     "text": [
      "Attempt 3 failed for https://www.linkedin.com/in/wallace-b-doolin-18a0318 with status code 404. Retrying...\n"
     ]
    },
    {
     "name": "stderr",
     "output_type": "stream",
     "text": [
      "Processing LinkedIn data:  50%|█████     | 1082/2152 [07:28<15:42,  1.14it/s]"
     ]
    },
    {
     "name": "stdout",
     "output_type": "stream",
     "text": [
      "Failed to retrieve data for https://www.linkedin.com/in/laura-cummings-470b8641 after 3 attempts.\n"
     ]
    },
    {
     "name": "stderr",
     "output_type": "stream",
     "text": [
      "Processing LinkedIn data:  50%|█████     | 1084/2152 [07:29<12:32,  1.42it/s]"
     ]
    },
    {
     "name": "stdout",
     "output_type": "stream",
     "text": [
      "Attempt 3 failed for https://www.linkedin.com/in/carla-sieling-87b4462a with status code 422. Retrying...\n"
     ]
    },
    {
     "name": "stderr",
     "output_type": "stream",
     "text": [
      "Processing LinkedIn data:  51%|█████     | 1087/2152 [07:31<09:50,  1.80it/s]"
     ]
    },
    {
     "name": "stdout",
     "output_type": "stream",
     "text": [
      "Failed to retrieve data for https://www.linkedin.com/in/wallace-b-doolin-18a0318 after 3 attempts.\n"
     ]
    },
    {
     "name": "stderr",
     "output_type": "stream",
     "text": [
      "Processing LinkedIn data:  51%|█████     | 1089/2152 [07:31<06:56,  2.55it/s]"
     ]
    },
    {
     "name": "stdout",
     "output_type": "stream",
     "text": [
      "Attempt 2 failed for https://www.linkedin.com/in/ivan-lara-56a67517 with status code 422. Retrying...\n",
      "Attempt 1 failed for https://www.linkedin.com/in/dima-lazarova-229754141 with status code 422. Retrying...\n",
      "Attempt 1 failed for https://www.linkedin.com/in/aaronanderson77 with status code 404. Retrying...\n"
     ]
    },
    {
     "name": "stderr",
     "output_type": "stream",
     "text": [
      "Processing LinkedIn data:  51%|█████     | 1090/2152 [07:32<10:42,  1.65it/s]"
     ]
    },
    {
     "name": "stdout",
     "output_type": "stream",
     "text": [
      "Attempt 1 failed for https://www.linkedin.com/in/janae-smith-9752a793 with status code 422. Retrying...\n"
     ]
    },
    {
     "name": "stderr",
     "output_type": "stream",
     "text": [
      "Processing LinkedIn data:  51%|█████     | 1091/2152 [07:33<10:07,  1.75it/s]"
     ]
    },
    {
     "name": "stdout",
     "output_type": "stream",
     "text": [
      "Attempt 3 failed for https://www.linkedin.com/in/amanda-dubose-6973491b with status code 422. Retrying...\n"
     ]
    },
    {
     "name": "stderr",
     "output_type": "stream",
     "text": [
      "Processing LinkedIn data:  51%|█████     | 1093/2152 [07:33<07:05,  2.49it/s]"
     ]
    },
    {
     "name": "stdout",
     "output_type": "stream",
     "text": [
      "Failed to retrieve data for https://www.linkedin.com/in/carla-sieling-87b4462a after 3 attempts.\n"
     ]
    },
    {
     "name": "stderr",
     "output_type": "stream",
     "text": [
      "Processing LinkedIn data:  51%|█████     | 1096/2152 [07:35<09:15,  1.90it/s]"
     ]
    },
    {
     "name": "stdout",
     "output_type": "stream",
     "text": [
      "Attempt 2 failed for https://www.linkedin.com/in/aaronanderson77 with status code 404. Retrying...\n"
     ]
    },
    {
     "name": "stderr",
     "output_type": "stream",
     "text": [
      "Processing LinkedIn data:  51%|█████▏    | 1104/2152 [07:37<04:01,  4.35it/s]"
     ]
    },
    {
     "name": "stdout",
     "output_type": "stream",
     "text": [
      "Failed to retrieve data for https://www.linkedin.com/in/amanda-dubose-6973491b after 3 attempts.\n"
     ]
    },
    {
     "name": "stderr",
     "output_type": "stream",
     "text": [
      "Processing LinkedIn data:  52%|█████▏    | 1112/2152 [07:39<05:05,  3.41it/s]"
     ]
    },
    {
     "name": "stdout",
     "output_type": "stream",
     "text": [
      "Attempt 3 failed for https://www.linkedin.com/in/aaronanderson77 with status code 404. Retrying...\n",
      "Attempt 3 failed for https://www.linkedin.com/in/elaine-sommerschield-9a49b5 with status code 422. Retrying...\n"
     ]
    },
    {
     "name": "stderr",
     "output_type": "stream",
     "text": [
      "Processing LinkedIn data:  52%|█████▏    | 1116/2152 [07:40<05:29,  3.15it/s]"
     ]
    },
    {
     "name": "stdout",
     "output_type": "stream",
     "text": [
      "Attempt 1 failed for https://www.linkedin.com/in/bruce-malyon-03938b19 with status code 404. Retrying...\n"
     ]
    },
    {
     "name": "stderr",
     "output_type": "stream",
     "text": [
      "Processing LinkedIn data:  52%|█████▏    | 1123/2152 [07:43<07:14,  2.37it/s]"
     ]
    },
    {
     "name": "stdout",
     "output_type": "stream",
     "text": [
      "Attempt 2 failed for https://www.linkedin.com/in/jvmlending with status code 404. Retrying...\n",
      "Failed to retrieve data for https://www.linkedin.com/in/aaronanderson77 after 3 attempts.\n",
      "Failed to retrieve data for https://www.linkedin.com/in/elaine-sommerschield-9a49b5 after 3 attempts.\n"
     ]
    },
    {
     "name": "stderr",
     "output_type": "stream",
     "text": [
      "Processing LinkedIn data:  52%|█████▏    | 1125/2152 [07:43<05:23,  3.17it/s]"
     ]
    },
    {
     "name": "stdout",
     "output_type": "stream",
     "text": [
      "Attempt 2 failed for https://www.linkedin.com/in/trishanp with status code 422. Retrying...\n",
      "Attempt 1 failed for https://www.linkedin.com/in/kishon-grant with status code 422. Retrying...\n"
     ]
    },
    {
     "name": "stderr",
     "output_type": "stream",
     "text": [
      "Processing LinkedIn data:  52%|█████▏    | 1127/2152 [07:44<05:25,  3.15it/s]"
     ]
    },
    {
     "name": "stdout",
     "output_type": "stream",
     "text": [
      "Attempt 2 failed for https://www.linkedin.com/in/bruce-malyon-03938b19 with status code 404. Retrying...\n"
     ]
    },
    {
     "name": "stderr",
     "output_type": "stream",
     "text": [
      "Processing LinkedIn data:  53%|█████▎    | 1131/2152 [07:46<07:22,  2.31it/s]"
     ]
    },
    {
     "name": "stdout",
     "output_type": "stream",
     "text": [
      "Attempt 2 failed for https://www.linkedin.com/in/robertwhawley with status code 404. Retrying...\n"
     ]
    },
    {
     "name": "stderr",
     "output_type": "stream",
     "text": [
      "Processing LinkedIn data:  53%|█████▎    | 1134/2152 [07:48<09:09,  1.85it/s]"
     ]
    },
    {
     "name": "stdout",
     "output_type": "stream",
     "text": [
      "Attempt 2 failed for https://www.linkedin.com/in/jeff-neish-37496a7 with status code 422. Retrying...\n"
     ]
    },
    {
     "name": "stderr",
     "output_type": "stream",
     "text": [
      "Processing LinkedIn data:  53%|█████▎    | 1141/2152 [07:49<03:29,  4.83it/s]"
     ]
    },
    {
     "name": "stdout",
     "output_type": "stream",
     "text": [
      "Attempt 3 failed for https://www.linkedin.com/in/trishanp with status code 404. Retrying...\n"
     ]
    },
    {
     "name": "stderr",
     "output_type": "stream",
     "text": [
      "Processing LinkedIn data:  53%|█████▎    | 1146/2152 [07:51<03:57,  4.24it/s]"
     ]
    },
    {
     "name": "stdout",
     "output_type": "stream",
     "text": [
      "Attempt 3 failed for https://www.linkedin.com/in/robertwhawley with status code 404. Retrying...\n"
     ]
    },
    {
     "name": "stderr",
     "output_type": "stream",
     "text": [
      "Processing LinkedIn data:  53%|█████▎    | 1150/2152 [07:53<06:43,  2.49it/s]"
     ]
    },
    {
     "name": "stdout",
     "output_type": "stream",
     "text": [
      "Failed to retrieve data for https://www.linkedin.com/in/trishanp after 3 attempts.\n"
     ]
    },
    {
     "name": "stderr",
     "output_type": "stream",
     "text": [
      "Processing LinkedIn data:  54%|█████▎    | 1152/2152 [07:55<10:19,  1.62it/s]"
     ]
    },
    {
     "name": "stdout",
     "output_type": "stream",
     "text": [
      "Failed to retrieve data for https://www.linkedin.com/in/robertwhawley after 3 attempts.\n",
      "Attempt 3 failed for https://www.linkedin.com/in/bruce-malyon-03938b19 with status code 404. Retrying...\n"
     ]
    },
    {
     "name": "stderr",
     "output_type": "stream",
     "text": [
      "Processing LinkedIn data:  54%|█████▍    | 1158/2152 [07:57<05:13,  3.17it/s]"
     ]
    },
    {
     "name": "stdout",
     "output_type": "stream",
     "text": [
      "Attempt 2 failed for https://www.linkedin.com/in/mattjmorrisvh with status code 404. Retrying...\n"
     ]
    },
    {
     "name": "stderr",
     "output_type": "stream",
     "text": [
      "Processing LinkedIn data:  54%|█████▍    | 1160/2152 [07:58<05:26,  3.03it/s]"
     ]
    },
    {
     "name": "stdout",
     "output_type": "stream",
     "text": [
      "Attempt 3 failed for https://www.linkedin.com/in/jvmlending with status code 404. Retrying...\n"
     ]
    },
    {
     "name": "stderr",
     "output_type": "stream",
     "text": [
      "Processing LinkedIn data:  54%|█████▍    | 1162/2152 [08:00<07:51,  2.10it/s]"
     ]
    },
    {
     "name": "stdout",
     "output_type": "stream",
     "text": [
      "Attempt 1 failed for https://www.linkedin.com/in/donnieyancey with status code 404. Retrying...\n",
      "Failed to retrieve data for https://www.linkedin.com/in/bruce-malyon-03938b19 after 3 attempts.\n"
     ]
    },
    {
     "name": "stderr",
     "output_type": "stream",
     "text": [
      "Processing LinkedIn data:  54%|█████▍    | 1165/2152 [08:02<12:30,  1.31it/s]"
     ]
    },
    {
     "name": "stdout",
     "output_type": "stream",
     "text": [
      "Failed to retrieve data for https://www.linkedin.com/in/jvmlending after 3 attempts.\n",
      "Attempt 1 failed for https://www.linkedin.com/in/chiara-alliata-986ba91ba with status code 404. Retrying...\n"
     ]
    },
    {
     "name": "stderr",
     "output_type": "stream",
     "text": [
      "Processing LinkedIn data:  54%|█████▍    | 1171/2152 [08:03<05:56,  2.75it/s]"
     ]
    },
    {
     "name": "stdout",
     "output_type": "stream",
     "text": [
      "Attempt 1 failed for https://www.linkedin.com/in/amanda-schenk-templeton-b71219b5 with status code 422. Retrying...\n"
     ]
    },
    {
     "name": "stderr",
     "output_type": "stream",
     "text": [
      "Processing LinkedIn data:  55%|█████▌    | 1184/2152 [08:09<08:43,  1.85it/s]"
     ]
    },
    {
     "name": "stdout",
     "output_type": "stream",
     "text": [
      "Attempt 1 failed for https://www.linkedin.com/in/ashleycpittman with status code 422. Retrying...\n"
     ]
    },
    {
     "name": "stderr",
     "output_type": "stream",
     "text": [
      "Processing LinkedIn data:  55%|█████▌    | 1185/2152 [08:10<09:31,  1.69it/s]"
     ]
    },
    {
     "name": "stdout",
     "output_type": "stream",
     "text": [
      "Attempt 1 failed for https://www.linkedin.com/in/rameez-siddiqui-a2263443 with status code 422. Retrying...\n",
      "Attempt 1 failed for https://www.linkedin.com/in/alex-macintyre-58979b100 with status code 404. Retrying...\n"
     ]
    },
    {
     "name": "stderr",
     "output_type": "stream",
     "text": [
      "Processing LinkedIn data:  55%|█████▌    | 1188/2152 [08:11<06:42,  2.39it/s]"
     ]
    },
    {
     "name": "stdout",
     "output_type": "stream",
     "text": [
      "Attempt 2 failed for https://www.linkedin.com/in/chiara-alliata-986ba91ba with status code 404. Retrying...\n"
     ]
    },
    {
     "name": "stderr",
     "output_type": "stream",
     "text": [
      "Processing LinkedIn data:  55%|█████▌    | 1191/2152 [08:12<07:13,  2.22it/s]"
     ]
    },
    {
     "name": "stdout",
     "output_type": "stream",
     "text": [
      "Attempt 1 failed for https://www.linkedin.com/in/chrisdfischer with status code 404. Retrying...\n"
     ]
    },
    {
     "name": "stderr",
     "output_type": "stream",
     "text": [
      "Processing LinkedIn data:  55%|█████▌    | 1192/2152 [08:13<07:14,  2.21it/s]"
     ]
    },
    {
     "name": "stdout",
     "output_type": "stream",
     "text": [
      "Attempt 2 failed for https://www.linkedin.com/in/alex-macintyre-58979b100 with status code 404. Retrying...\n"
     ]
    },
    {
     "name": "stderr",
     "output_type": "stream",
     "text": [
      "Processing LinkedIn data:  56%|█████▌    | 1195/2152 [08:15<10:21,  1.54it/s]"
     ]
    },
    {
     "name": "stdout",
     "output_type": "stream",
     "text": [
      "Attempt 2 failed for https://www.linkedin.com/in/chrisdfischer with status code 404. Retrying...\n"
     ]
    },
    {
     "name": "stderr",
     "output_type": "stream",
     "text": [
      "Processing LinkedIn data:  56%|█████▌    | 1198/2152 [08:17<09:09,  1.74it/s]"
     ]
    },
    {
     "name": "stdout",
     "output_type": "stream",
     "text": [
      "Attempt 3 failed for https://www.linkedin.com/in/alex-macintyre-58979b100 with status code 404. Retrying...\n"
     ]
    },
    {
     "name": "stderr",
     "output_type": "stream",
     "text": [
      "Processing LinkedIn data:  56%|█████▌    | 1203/2152 [08:20<07:13,  2.19it/s]"
     ]
    },
    {
     "name": "stdout",
     "output_type": "stream",
     "text": [
      "Attempt 3 failed for https://www.linkedin.com/in/chrisdfischer with status code 404. Retrying...\n"
     ]
    },
    {
     "name": "stderr",
     "output_type": "stream",
     "text": [
      "Processing LinkedIn data:  56%|█████▌    | 1204/2152 [08:20<08:40,  1.82it/s]"
     ]
    },
    {
     "name": "stdout",
     "output_type": "stream",
     "text": [
      "Attempt 3 failed for https://www.linkedin.com/in/jacqueline-takyi-yeboah-msa-a401b4a3 with status code 422. Retrying...\n"
     ]
    },
    {
     "name": "stderr",
     "output_type": "stream",
     "text": [
      "Processing LinkedIn data:  56%|█████▋    | 1213/2152 [08:22<03:28,  4.51it/s]"
     ]
    },
    {
     "name": "stdout",
     "output_type": "stream",
     "text": [
      "Failed to retrieve data for https://www.linkedin.com/in/alex-macintyre-58979b100 after 3 attempts.\n"
     ]
    },
    {
     "name": "stderr",
     "output_type": "stream",
     "text": [
      "Processing LinkedIn data:  57%|█████▋    | 1216/2152 [08:23<04:20,  3.59it/s]"
     ]
    },
    {
     "name": "stdout",
     "output_type": "stream",
     "text": [
      "Attempt 1 failed for https://www.linkedin.com/in/katjaviveka with status code 404. Retrying...\n",
      "Attempt 1 failed for https://www.linkedin.com/in/anniebourgeois with status code 422. Retrying...\n"
     ]
    },
    {
     "name": "stderr",
     "output_type": "stream",
     "text": [
      "Processing LinkedIn data:  57%|█████▋    | 1218/2152 [08:24<06:20,  2.46it/s]"
     ]
    },
    {
     "name": "stdout",
     "output_type": "stream",
     "text": [
      "Failed to retrieve data for https://www.linkedin.com/in/chrisdfischer after 3 attempts.\n",
      "Attempt 1 failed for https://www.linkedin.com/in/claire-bickerton with status code 422. Retrying...\n"
     ]
    },
    {
     "name": "stderr",
     "output_type": "stream",
     "text": [
      "Processing LinkedIn data:  57%|█████▋    | 1220/2152 [08:24<05:07,  3.03it/s]"
     ]
    },
    {
     "name": "stdout",
     "output_type": "stream",
     "text": [
      "Failed to retrieve data for https://www.linkedin.com/in/jacqueline-takyi-yeboah-msa-a401b4a3 after 3 attempts.\n"
     ]
    },
    {
     "name": "stderr",
     "output_type": "stream",
     "text": [
      "Processing LinkedIn data:  58%|█████▊    | 1242/2152 [08:31<05:11,  2.92it/s]"
     ]
    },
    {
     "name": "stdout",
     "output_type": "stream",
     "text": [
      "Attempt 3 failed for https://www.linkedin.com/in/ivan-lara-56a67517 with status code 404. Retrying...\n"
     ]
    },
    {
     "name": "stderr",
     "output_type": "stream",
     "text": [
      "Processing LinkedIn data:  58%|█████▊    | 1247/2152 [08:32<03:19,  4.55it/s]"
     ]
    },
    {
     "name": "stdout",
     "output_type": "stream",
     "text": [
      "Attempt 1 failed for https://www.linkedin.com/in/marinaschweitzer with status code 422. Retrying...\n"
     ]
    },
    {
     "name": "stderr",
     "output_type": "stream",
     "text": [
      "Processing LinkedIn data:  58%|█████▊    | 1255/2152 [08:34<02:13,  6.72it/s]"
     ]
    },
    {
     "name": "stdout",
     "output_type": "stream",
     "text": [
      "Attempt 1 failed for https://www.linkedin.com/in/brooklyn-morgans-276885127 with status code 422. Retrying...\n",
      "Attempt 2 failed for https://www.linkedin.com/in/katjaviveka with status code 404. Retrying...\n",
      "Attempt 3 failed for https://www.linkedin.com/in/chiara-alliata-986ba91ba with status code 404. Retrying...\n"
     ]
    },
    {
     "name": "stderr",
     "output_type": "stream",
     "text": [
      "Processing LinkedIn data:  59%|█████▊    | 1259/2152 [08:35<03:28,  4.29it/s]"
     ]
    },
    {
     "name": "stdout",
     "output_type": "stream",
     "text": [
      "Attempt 1 failed for https://www.linkedin.com/in/dino-rizzieri-a7120195 with status code 404. Retrying...\n",
      "Failed to retrieve data for https://www.linkedin.com/in/ivan-lara-56a67517 after 3 attempts.\n"
     ]
    },
    {
     "name": "stderr",
     "output_type": "stream",
     "text": [
      "Processing LinkedIn data:  59%|█████▉    | 1276/2152 [08:39<02:51,  5.10it/s]"
     ]
    },
    {
     "name": "stdout",
     "output_type": "stream",
     "text": [
      "Failed to retrieve data for https://www.linkedin.com/in/chiara-alliata-986ba91ba after 3 attempts.\n"
     ]
    },
    {
     "name": "stderr",
     "output_type": "stream",
     "text": [
      "Processing LinkedIn data:  59%|█████▉    | 1277/2152 [08:39<03:25,  4.26it/s]"
     ]
    },
    {
     "name": "stdout",
     "output_type": "stream",
     "text": [
      "Attempt 2 failed for https://www.linkedin.com/in/dino-rizzieri-a7120195 with status code 404. Retrying...\n"
     ]
    },
    {
     "name": "stderr",
     "output_type": "stream",
     "text": [
      "Processing LinkedIn data:  60%|█████▉    | 1288/2152 [08:41<02:43,  5.28it/s]"
     ]
    },
    {
     "name": "stdout",
     "output_type": "stream",
     "text": [
      "Attempt 1 failed for https://www.linkedin.com/in/hector-colon-381584bb with status code 404. Retrying...\n"
     ]
    },
    {
     "name": "stderr",
     "output_type": "stream",
     "text": [
      "Processing LinkedIn data:  60%|██████    | 1297/2152 [08:45<03:27,  4.13it/s]"
     ]
    },
    {
     "name": "stdout",
     "output_type": "stream",
     "text": [
      "Attempt 2 failed for https://www.linkedin.com/in/hector-colon-381584bb with status code 404. Retrying...\n"
     ]
    },
    {
     "name": "stderr",
     "output_type": "stream",
     "text": [
      "Processing LinkedIn data:  61%|██████    | 1307/2152 [08:48<04:13,  3.33it/s]"
     ]
    },
    {
     "name": "stdout",
     "output_type": "stream",
     "text": [
      "Attempt 3 failed for https://www.linkedin.com/in/dino-rizzieri-a7120195 with status code 404. Retrying...\n"
     ]
    },
    {
     "name": "stderr",
     "output_type": "stream",
     "text": [
      "Processing LinkedIn data:  61%|██████    | 1313/2152 [08:49<02:57,  4.72it/s]"
     ]
    },
    {
     "name": "stdout",
     "output_type": "stream",
     "text": [
      "Attempt 1 failed for https://www.linkedin.com/in/thenikkibarua with status code 404. Retrying...\n"
     ]
    },
    {
     "name": "stderr",
     "output_type": "stream",
     "text": [
      "Processing LinkedIn data:  61%|██████    | 1317/2152 [08:50<03:18,  4.20it/s]"
     ]
    },
    {
     "name": "stdout",
     "output_type": "stream",
     "text": [
      "Attempt 1 failed for https://www.linkedin.com/in/carrmedia with status code 404. Retrying...\n",
      "Attempt 2 failed for https://www.linkedin.com/in/amanda-schenk-templeton-b71219b5 with status code 404. Retrying...\n"
     ]
    },
    {
     "name": "stderr",
     "output_type": "stream",
     "text": [
      "Processing LinkedIn data:  61%|██████▏   | 1321/2152 [08:52<04:57,  2.79it/s]"
     ]
    },
    {
     "name": "stdout",
     "output_type": "stream",
     "text": [
      "Failed to retrieve data for https://www.linkedin.com/in/dino-rizzieri-a7120195 after 3 attempts.\n"
     ]
    },
    {
     "name": "stderr",
     "output_type": "stream",
     "text": [
      "Processing LinkedIn data:  62%|██████▏   | 1339/2152 [09:00<06:03,  2.23it/s]"
     ]
    },
    {
     "name": "stdout",
     "output_type": "stream",
     "text": [
      "Attempt 1 failed for https://www.linkedin.com/in/andrew-larson-1467673 with status code 404. Retrying...\n"
     ]
    },
    {
     "name": "stderr",
     "output_type": "stream",
     "text": [
      "Processing LinkedIn data:  62%|██████▏   | 1340/2152 [09:00<06:58,  1.94it/s]"
     ]
    },
    {
     "name": "stdout",
     "output_type": "stream",
     "text": [
      "Attempt 1 failed for https://www.linkedin.com/in/raob4 with status code 404. Retrying...\n"
     ]
    },
    {
     "name": "stderr",
     "output_type": "stream",
     "text": [
      "Processing LinkedIn data:  63%|██████▎   | 1353/2152 [09:04<03:29,  3.81it/s]"
     ]
    },
    {
     "name": "stdout",
     "output_type": "stream",
     "text": [
      "Attempt 2 failed for https://www.linkedin.com/in/marinaschweitzer with status code 422. Retrying...\n"
     ]
    },
    {
     "name": "stderr",
     "output_type": "stream",
     "text": [
      "Processing LinkedIn data:  63%|██████▎   | 1357/2152 [09:06<04:12,  3.15it/s]"
     ]
    },
    {
     "name": "stdout",
     "output_type": "stream",
     "text": [
      "Attempt 1 failed for https://www.linkedin.com/in/mhickey with status code 404. Retrying...\n",
      "Attempt 3 failed for https://www.linkedin.com/in/amanda-schenk-templeton-b71219b5 with status code 404. Retrying...\n"
     ]
    },
    {
     "name": "stderr",
     "output_type": "stream",
     "text": [
      "Processing LinkedIn data:  63%|██████▎   | 1358/2152 [09:08<10:05,  1.31it/s]"
     ]
    },
    {
     "name": "stdout",
     "output_type": "stream",
     "text": [
      "Attempt 2 failed for https://www.linkedin.com/in/andrew-larson-1467673 with status code 404. Retrying...\n"
     ]
    },
    {
     "name": "stderr",
     "output_type": "stream",
     "text": [
      "Processing LinkedIn data:  63%|██████▎   | 1359/2152 [09:10<11:33,  1.14it/s]"
     ]
    },
    {
     "name": "stdout",
     "output_type": "stream",
     "text": [
      "Attempt 2 failed for https://www.linkedin.com/in/mhickey with status code 404. Retrying...\n",
      "Attempt 1 failed for https://www.linkedin.com/in/martha-montoya-5663a9a with status code 404. Retrying...\n"
     ]
    },
    {
     "name": "stderr",
     "output_type": "stream",
     "text": [
      "Processing LinkedIn data:  63%|██████▎   | 1363/2152 [09:12<08:13,  1.60it/s]"
     ]
    },
    {
     "name": "stdout",
     "output_type": "stream",
     "text": [
      "Failed to retrieve data for https://www.linkedin.com/in/amanda-schenk-templeton-b71219b5 after 3 attempts.\n"
     ]
    },
    {
     "name": "stderr",
     "output_type": "stream",
     "text": [
      "Processing LinkedIn data:  64%|██████▎   | 1369/2152 [09:13<03:55,  3.33it/s]"
     ]
    },
    {
     "name": "stdout",
     "output_type": "stream",
     "text": [
      "Attempt 2 failed for https://www.linkedin.com/in/martha-montoya-5663a9a with status code 404. Retrying...\n"
     ]
    },
    {
     "name": "stderr",
     "output_type": "stream",
     "text": [
      "Processing LinkedIn data:  64%|██████▎   | 1370/2152 [09:14<03:45,  3.47it/s]"
     ]
    },
    {
     "name": "stdout",
     "output_type": "stream",
     "text": [
      "Attempt 3 failed for https://www.linkedin.com/in/andrew-larson-1467673 with status code 404. Retrying...\n",
      "Attempt 3 failed for https://www.linkedin.com/in/mhickey with status code 404. Retrying...\n"
     ]
    },
    {
     "name": "stderr",
     "output_type": "stream",
     "text": [
      "Processing LinkedIn data:  64%|██████▍   | 1374/2152 [09:16<06:04,  2.14it/s]"
     ]
    },
    {
     "name": "stdout",
     "output_type": "stream",
     "text": [
      "Attempt 1 failed for https://www.linkedin.com/in/michael-e-stonecipher-cpa-67352523 with status code 404. Retrying...\n",
      "Attempt 1 failed for https://www.linkedin.com/in/colin-patrick-20571488 with status code 404. Retrying...\n"
     ]
    },
    {
     "name": "stderr",
     "output_type": "stream",
     "text": [
      "Processing LinkedIn data:  64%|██████▍   | 1378/2152 [09:18<05:57,  2.16it/s]"
     ]
    },
    {
     "name": "stdout",
     "output_type": "stream",
     "text": [
      "Failed to retrieve data for https://www.linkedin.com/in/andrew-larson-1467673 after 3 attempts.\n"
     ]
    },
    {
     "name": "stderr",
     "output_type": "stream",
     "text": [
      "Processing LinkedIn data:  64%|██████▍   | 1379/2152 [09:18<05:12,  2.47it/s]"
     ]
    },
    {
     "name": "stdout",
     "output_type": "stream",
     "text": [
      "Failed to retrieve data for https://www.linkedin.com/in/mhickey after 3 attempts.\n"
     ]
    },
    {
     "name": "stderr",
     "output_type": "stream",
     "text": [
      "Processing LinkedIn data:  64%|██████▍   | 1382/2152 [09:20<07:35,  1.69it/s]"
     ]
    },
    {
     "name": "stdout",
     "output_type": "stream",
     "text": [
      "Attempt 1 failed for https://www.linkedin.com/in/alex-arnone-46061a224 with status code 422. Retrying...\n"
     ]
    },
    {
     "name": "stderr",
     "output_type": "stream",
     "text": [
      "Processing LinkedIn data:  64%|██████▍   | 1386/2152 [09:22<06:37,  1.93it/s]"
     ]
    },
    {
     "name": "stdout",
     "output_type": "stream",
     "text": [
      "Attempt 3 failed for https://www.linkedin.com/in/martha-montoya-5663a9a with status code 404. Retrying...\n"
     ]
    },
    {
     "name": "stderr",
     "output_type": "stream",
     "text": [
      "Processing LinkedIn data:  64%|██████▍   | 1387/2152 [09:23<06:33,  1.94it/s]"
     ]
    },
    {
     "name": "stdout",
     "output_type": "stream",
     "text": [
      "Attempt 2 failed for https://www.linkedin.com/in/michael-e-stonecipher-cpa-67352523 with status code 404. Retrying...\n"
     ]
    },
    {
     "name": "stderr",
     "output_type": "stream",
     "text": [
      "Processing LinkedIn data:  65%|██████▍   | 1393/2152 [09:26<05:43,  2.21it/s]"
     ]
    },
    {
     "name": "stdout",
     "output_type": "stream",
     "text": [
      "Attempt 3 failed for https://www.linkedin.com/in/ryantferguson with status code 504. Retrying...\n",
      "Failed to retrieve data for https://www.linkedin.com/in/martha-montoya-5663a9a after 3 attempts.\n"
     ]
    },
    {
     "name": "stderr",
     "output_type": "stream",
     "text": [
      "Processing LinkedIn data:  65%|██████▍   | 1395/2152 [09:28<06:26,  1.96it/s]"
     ]
    },
    {
     "name": "stdout",
     "output_type": "stream",
     "text": [
      "Attempt 2 failed for https://www.linkedin.com/in/colin-patrick-20571488 with status code 404. Retrying...\n"
     ]
    },
    {
     "name": "stderr",
     "output_type": "stream",
     "text": [
      "Processing LinkedIn data:  65%|██████▌   | 1402/2152 [09:30<04:07,  3.03it/s]"
     ]
    },
    {
     "name": "stdout",
     "output_type": "stream",
     "text": [
      "Failed to retrieve data for https://www.linkedin.com/in/ryantferguson after 3 attempts.\n",
      "Attempt 2 failed for https://www.linkedin.com/in/jacob-luster-4a67b514a with status code 404. Retrying...\n",
      "Attempt 3 failed for https://www.linkedin.com/in/colin-patrick-20571488 with status code 404. Retrying...\n"
     ]
    },
    {
     "name": "stderr",
     "output_type": "stream",
     "text": [
      "Processing LinkedIn data:  65%|██████▌   | 1409/2152 [09:36<08:08,  1.52it/s]"
     ]
    },
    {
     "name": "stdout",
     "output_type": "stream",
     "text": [
      "Failed to retrieve data for https://www.linkedin.com/in/colin-patrick-20571488 after 3 attempts.\n"
     ]
    },
    {
     "name": "stderr",
     "output_type": "stream",
     "text": [
      "Processing LinkedIn data:  66%|██████▌   | 1413/2152 [09:38<06:28,  1.90it/s]"
     ]
    },
    {
     "name": "stdout",
     "output_type": "stream",
     "text": [
      "Attempt 1 failed for https://www.linkedin.com/in/margot-fitzgerald-82981b159 with status code 404. Retrying...\n"
     ]
    },
    {
     "name": "stderr",
     "output_type": "stream",
     "text": [
      "Processing LinkedIn data:  66%|██████▌   | 1414/2152 [09:38<07:55,  1.55it/s]"
     ]
    },
    {
     "name": "stdout",
     "output_type": "stream",
     "text": [
      "Attempt 2 failed for https://www.linkedin.com/in/carrmedia with status code 404. Retrying...\n"
     ]
    },
    {
     "name": "stderr",
     "output_type": "stream",
     "text": [
      "Processing LinkedIn data:  66%|██████▌   | 1420/2152 [09:41<06:04,  2.01it/s]"
     ]
    },
    {
     "name": "stdout",
     "output_type": "stream",
     "text": [
      "Attempt 1 failed for https://www.linkedin.com/in/jaye-connolly-labelle-830b50 with status code 404. Retrying...\n"
     ]
    },
    {
     "name": "stderr",
     "output_type": "stream",
     "text": [
      "Processing LinkedIn data:  66%|██████▌   | 1422/2152 [09:42<06:46,  1.80it/s]"
     ]
    },
    {
     "name": "stdout",
     "output_type": "stream",
     "text": [
      "Attempt 3 failed for https://www.linkedin.com/in/carrmedia with status code 404. Retrying...\n"
     ]
    },
    {
     "name": "stderr",
     "output_type": "stream",
     "text": [
      "Processing LinkedIn data:  66%|██████▋   | 1428/2152 [09:45<07:36,  1.59it/s]"
     ]
    },
    {
     "name": "stdout",
     "output_type": "stream",
     "text": [
      "Attempt 1 failed for https://www.linkedin.com/in/jeff-twardzik-98a06713b with status code 404. Retrying...\n",
      "Attempt 2 failed for https://www.linkedin.com/in/jaye-connolly-labelle-830b50 with status code 404. Retrying...\n"
     ]
    },
    {
     "name": "stderr",
     "output_type": "stream",
     "text": [
      "Processing LinkedIn data:  66%|██████▋   | 1429/2152 [09:46<08:46,  1.37it/s]"
     ]
    },
    {
     "name": "stdout",
     "output_type": "stream",
     "text": [
      "Failed to retrieve data for https://www.linkedin.com/in/carrmedia after 3 attempts.\n"
     ]
    },
    {
     "name": "stderr",
     "output_type": "stream",
     "text": [
      "Processing LinkedIn data:  66%|██████▋   | 1431/2152 [09:47<07:11,  1.67it/s]"
     ]
    },
    {
     "name": "stdout",
     "output_type": "stream",
     "text": [
      "Attempt 3 failed for https://www.linkedin.com/in/katjaviveka with status code 404. Retrying...\n"
     ]
    },
    {
     "name": "stderr",
     "output_type": "stream",
     "text": [
      "Processing LinkedIn data:  67%|██████▋   | 1440/2152 [09:50<03:34,  3.32it/s]"
     ]
    },
    {
     "name": "stdout",
     "output_type": "stream",
     "text": [
      "Attempt 2 failed for https://www.linkedin.com/in/donnieyancey with status code 404. Retrying...\n"
     ]
    },
    {
     "name": "stderr",
     "output_type": "stream",
     "text": [
      "Processing LinkedIn data:  67%|██████▋   | 1442/2152 [09:51<04:29,  2.64it/s]"
     ]
    },
    {
     "name": "stdout",
     "output_type": "stream",
     "text": [
      "Attempt 1 failed for https://www.linkedin.com/in/michael-sup-677b2919 with status code 404. Retrying...\n"
     ]
    },
    {
     "name": "stderr",
     "output_type": "stream",
     "text": [
      "Processing LinkedIn data:  67%|██████▋   | 1444/2152 [09:51<04:09,  2.84it/s]"
     ]
    },
    {
     "name": "stdout",
     "output_type": "stream",
     "text": [
      "Failed to retrieve data for https://www.linkedin.com/in/katjaviveka after 3 attempts.\n"
     ]
    },
    {
     "name": "stderr",
     "output_type": "stream",
     "text": [
      "Processing LinkedIn data:  67%|██████▋   | 1450/2152 [09:53<03:01,  3.86it/s]"
     ]
    },
    {
     "name": "stdout",
     "output_type": "stream",
     "text": [
      "Attempt 3 failed for https://www.linkedin.com/in/donnieyancey with status code 404. Retrying...\n"
     ]
    },
    {
     "name": "stderr",
     "output_type": "stream",
     "text": [
      "Processing LinkedIn data:  68%|██████▊   | 1459/2152 [09:58<06:26,  1.80it/s]"
     ]
    },
    {
     "name": "stdout",
     "output_type": "stream",
     "text": [
      "Attempt 1 failed for https://www.linkedin.com/in/caitlin-elias-351a075a with status code 404. Retrying...\n"
     ]
    },
    {
     "name": "stderr",
     "output_type": "stream",
     "text": [
      "Processing LinkedIn data:  68%|██████▊   | 1460/2152 [09:58<05:12,  2.21it/s]"
     ]
    },
    {
     "name": "stdout",
     "output_type": "stream",
     "text": [
      "Attempt 2 failed for https://www.linkedin.com/in/medof with status code 404. Retrying...\n",
      "Failed to retrieve data for https://www.linkedin.com/in/donnieyancey after 3 attempts.\n",
      "Attempt 2 failed for https://www.linkedin.com/in/jeff-twardzik-98a06713b with status code 404. Retrying...\n"
     ]
    },
    {
     "name": "stderr",
     "output_type": "stream",
     "text": [
      "Processing LinkedIn data:  68%|██████▊   | 1463/2152 [10:01<07:50,  1.46it/s]"
     ]
    },
    {
     "name": "stdout",
     "output_type": "stream",
     "text": [
      "Attempt 2 failed for https://www.linkedin.com/in/caitlin-elias-351a075a with status code 404. Retrying...\n"
     ]
    },
    {
     "name": "stderr",
     "output_type": "stream",
     "text": [
      "Processing LinkedIn data:  68%|██████▊   | 1467/2152 [10:02<04:57,  2.30it/s]"
     ]
    },
    {
     "name": "stdout",
     "output_type": "stream",
     "text": [
      "Attempt 3 failed for https://www.linkedin.com/in/medof with status code 404. Retrying...\n"
     ]
    },
    {
     "name": "stderr",
     "output_type": "stream",
     "text": [
      "Processing LinkedIn data:  68%|██████▊   | 1469/2152 [10:03<04:24,  2.59it/s]"
     ]
    },
    {
     "name": "stdout",
     "output_type": "stream",
     "text": [
      "Attempt 1 failed for https://www.linkedin.com/in/troy-nelson-8834b428 with status code 404. Retrying...\n"
     ]
    },
    {
     "name": "stderr",
     "output_type": "stream",
     "text": [
      "Processing LinkedIn data:  68%|██████▊   | 1470/2152 [10:04<06:22,  1.78it/s]"
     ]
    },
    {
     "name": "stdout",
     "output_type": "stream",
     "text": [
      "Attempt 1 failed for https://www.linkedin.com/in/ashworthdavid with status code 404. Retrying...\n"
     ]
    },
    {
     "name": "stderr",
     "output_type": "stream",
     "text": [
      "Processing LinkedIn data:  68%|██████▊   | 1471/2152 [10:05<07:25,  1.53it/s]"
     ]
    },
    {
     "name": "stdout",
     "output_type": "stream",
     "text": [
      "Attempt 1 failed for https://www.linkedin.com/in/vladislav-podolyako-982028201 with status code 404. Retrying...\n"
     ]
    },
    {
     "name": "stderr",
     "output_type": "stream",
     "text": [
      "Processing LinkedIn data:  68%|██████▊   | 1474/2152 [10:06<05:42,  1.98it/s]"
     ]
    },
    {
     "name": "stdout",
     "output_type": "stream",
     "text": [
      "Attempt 1 failed for https://www.linkedin.com/in/katrine-reddin-049063135 with status code 422. Retrying...\n",
      "Failed to retrieve data for https://www.linkedin.com/in/medof after 3 attempts.\n"
     ]
    },
    {
     "name": "stderr",
     "output_type": "stream",
     "text": [
      "Processing LinkedIn data:  69%|██████▊   | 1476/2152 [10:07<05:14,  2.15it/s]"
     ]
    },
    {
     "name": "stdout",
     "output_type": "stream",
     "text": [
      "Attempt 1 failed for https://www.linkedin.com/in/matt-legg-engineer-mba with status code 404. Retrying...\n"
     ]
    },
    {
     "name": "stderr",
     "output_type": "stream",
     "text": [
      "Processing LinkedIn data:  69%|██████▉   | 1481/2152 [10:11<10:19,  1.08it/s]"
     ]
    },
    {
     "name": "stdout",
     "output_type": "stream",
     "text": [
      "Attempt 1 failed for https://www.linkedin.com/in/dbalderston with status code 422. Retrying...\n"
     ]
    },
    {
     "name": "stderr",
     "output_type": "stream",
     "text": [
      "Processing LinkedIn data:  69%|██████▉   | 1484/2152 [10:13<07:34,  1.47it/s]"
     ]
    },
    {
     "name": "stdout",
     "output_type": "stream",
     "text": [
      "Attempt 1 failed for https://www.linkedin.com/in/jennifer-pethel-81ba3b25a with status code 422. Retrying...\n",
      "Attempt 3 failed for https://www.linkedin.com/in/mattjmorrisvh with status code 404. Retrying...\n",
      "Attempt 2 failed for https://www.linkedin.com/in/vladislav-podolyako-982028201 with status code 404. Retrying...\n"
     ]
    },
    {
     "name": "stderr",
     "output_type": "stream",
     "text": [
      "Processing LinkedIn data:  69%|██████▉   | 1488/2152 [10:16<08:51,  1.25it/s]"
     ]
    },
    {
     "name": "stdout",
     "output_type": "stream",
     "text": [
      "Attempt 2 failed for https://www.linkedin.com/in/troy-nelson-8834b428 with status code 404. Retrying...\n"
     ]
    },
    {
     "name": "stderr",
     "output_type": "stream",
     "text": [
      "Processing LinkedIn data:  69%|██████▉   | 1492/2152 [10:17<06:03,  1.81it/s]"
     ]
    },
    {
     "name": "stdout",
     "output_type": "stream",
     "text": [
      "Failed to retrieve data for https://www.linkedin.com/in/mattjmorrisvh after 3 attempts.\n"
     ]
    },
    {
     "name": "stderr",
     "output_type": "stream",
     "text": [
      "Processing LinkedIn data:  69%|██████▉   | 1494/2152 [10:18<05:08,  2.13it/s]"
     ]
    },
    {
     "name": "stdout",
     "output_type": "stream",
     "text": [
      "Attempt 1 failed for https://www.linkedin.com/in/atanderson with status code 404. Retrying...\n",
      "Attempt 1 failed for https://www.linkedin.com/in/tyler-mulkey-bb92048a with status code 404. Retrying...\n"
     ]
    },
    {
     "name": "stderr",
     "output_type": "stream",
     "text": [
      "Processing LinkedIn data:  70%|██████▉   | 1500/2152 [10:24<07:11,  1.51it/s]"
     ]
    },
    {
     "name": "stdout",
     "output_type": "stream",
     "text": [
      "Attempt 1 failed for https://www.linkedin.com/in/payten-spencer-3374a51a1 with status code 404. Retrying...\n"
     ]
    },
    {
     "name": "stderr",
     "output_type": "stream",
     "text": [
      "Processing LinkedIn data:  70%|██████▉   | 1501/2152 [10:25<08:50,  1.23it/s]"
     ]
    },
    {
     "name": "stdout",
     "output_type": "stream",
     "text": [
      "Attempt 2 failed for https://www.linkedin.com/in/margot-fitzgerald-82981b159 with status code 404. Retrying...\n"
     ]
    },
    {
     "name": "stderr",
     "output_type": "stream",
     "text": [
      "Processing LinkedIn data:  70%|██████▉   | 1503/2152 [10:26<08:06,  1.33it/s]"
     ]
    },
    {
     "name": "stdout",
     "output_type": "stream",
     "text": [
      "Attempt 2 failed for https://www.linkedin.com/in/katrine-reddin-049063135 with status code 404. Retrying...\n"
     ]
    },
    {
     "name": "stderr",
     "output_type": "stream",
     "text": [
      "Processing LinkedIn data:  70%|███████   | 1509/2152 [10:31<10:30,  1.02it/s]"
     ]
    },
    {
     "name": "stdout",
     "output_type": "stream",
     "text": [
      "Attempt 2 failed for https://www.linkedin.com/in/alex-arnone-46061a224 with status code 422. Retrying...\n"
     ]
    },
    {
     "name": "stderr",
     "output_type": "stream",
     "text": [
      "Processing LinkedIn data:  70%|███████   | 1514/2152 [10:33<05:23,  1.97it/s]"
     ]
    },
    {
     "name": "stdout",
     "output_type": "stream",
     "text": [
      "Attempt 3 failed for https://www.linkedin.com/in/jaye-connolly-labelle-830b50 with status code 404. Retrying...\n",
      "Attempt 1 failed for https://www.linkedin.com/in/kamlesh-kumar-9b0902a with status code 404. Retrying...\n",
      "Attempt 1 failed for https://www.linkedin.com/in/antonelos1 with status code 404. Retrying...\n",
      "Attempt 3 failed for https://www.linkedin.com/in/alex-arnone-46061a224 with status code 404. Retrying...\n",
      "Attempt 1 failed for https://www.linkedin.com/in/tina-monos-b1b51b6 with status code 404. Retrying...\n"
     ]
    },
    {
     "name": "stderr",
     "output_type": "stream",
     "text": [
      "Processing LinkedIn data:  70%|███████   | 1515/2152 [10:37<15:48,  1.49s/it]"
     ]
    },
    {
     "name": "stdout",
     "output_type": "stream",
     "text": [
      "Attempt 2 failed for https://www.linkedin.com/in/kamlesh-kumar-9b0902a with status code 404. Retrying...\n"
     ]
    },
    {
     "name": "stderr",
     "output_type": "stream",
     "text": [
      "Processing LinkedIn data:  70%|███████   | 1516/2152 [10:38<12:24,  1.17s/it]"
     ]
    },
    {
     "name": "stdout",
     "output_type": "stream",
     "text": [
      "Failed to retrieve data for https://www.linkedin.com/in/jaye-connolly-labelle-830b50 after 3 attempts.\n",
      "Attempt 3 failed for https://www.linkedin.com/in/jeff-twardzik-98a06713b with status code 422. Retrying...\n"
     ]
    },
    {
     "name": "stderr",
     "output_type": "stream",
     "text": [
      "Processing LinkedIn data:  71%|███████   | 1518/2152 [10:40<11:38,  1.10s/it]"
     ]
    },
    {
     "name": "stdout",
     "output_type": "stream",
     "text": [
      "Failed to retrieve data for https://www.linkedin.com/in/alex-arnone-46061a224 after 3 attempts.\n"
     ]
    },
    {
     "name": "stderr",
     "output_type": "stream",
     "text": [
      "Processing LinkedIn data:  71%|███████   | 1519/2152 [10:41<10:04,  1.05it/s]"
     ]
    },
    {
     "name": "stdout",
     "output_type": "stream",
     "text": [
      "Attempt 1 failed for https://www.linkedin.com/in/danielle-appleton-b9637392 with status code 422. Retrying...\n",
      "Attempt 3 failed for https://www.linkedin.com/in/kamlesh-kumar-9b0902a with status code 404. Retrying...\n",
      "Attempt 1 failed for https://www.linkedin.com/in/leecdilworth with status code 404. Retrying...\n"
     ]
    },
    {
     "name": "stderr",
     "output_type": "stream",
     "text": [
      "Processing LinkedIn data:  71%|███████   | 1522/2152 [10:43<08:15,  1.27it/s]"
     ]
    },
    {
     "name": "stdout",
     "output_type": "stream",
     "text": [
      "Failed to retrieve data for https://www.linkedin.com/in/jeff-twardzik-98a06713b after 3 attempts.\n"
     ]
    },
    {
     "name": "stderr",
     "output_type": "stream",
     "text": [
      "Processing LinkedIn data:  71%|███████   | 1523/2152 [10:43<07:06,  1.48it/s]"
     ]
    },
    {
     "name": "stdout",
     "output_type": "stream",
     "text": [
      "Attempt 1 failed for https://www.linkedin.com/in/davehennigar with status code 422. Retrying...\n"
     ]
    },
    {
     "name": "stderr",
     "output_type": "stream",
     "text": [
      "Processing LinkedIn data:  71%|███████   | 1526/2152 [10:46<09:20,  1.12it/s]"
     ]
    },
    {
     "name": "stdout",
     "output_type": "stream",
     "text": [
      "Failed to retrieve data for https://www.linkedin.com/in/kamlesh-kumar-9b0902a after 3 attempts.\n"
     ]
    },
    {
     "name": "stderr",
     "output_type": "stream",
     "text": [
      "Processing LinkedIn data:  71%|███████   | 1533/2152 [10:49<05:11,  1.99it/s]"
     ]
    },
    {
     "name": "stdout",
     "output_type": "stream",
     "text": [
      "Attempt 3 failed for https://www.linkedin.com/in/caitlin-elias-351a075a with status code 404. Retrying...\n",
      "Attempt 3 failed for https://www.linkedin.com/in/michael-e-stonecipher-cpa-67352523 with status code 422. Retrying...\n"
     ]
    },
    {
     "name": "stderr",
     "output_type": "stream",
     "text": [
      "Processing LinkedIn data:  71%|███████▏  | 1535/2152 [10:50<06:21,  1.62it/s]"
     ]
    },
    {
     "name": "stdout",
     "output_type": "stream",
     "text": [
      "Attempt 1 failed for https://www.linkedin.com/in/julie-zhuo with status code 404. Retrying...\n"
     ]
    },
    {
     "name": "stderr",
     "output_type": "stream",
     "text": [
      "Processing LinkedIn data:  71%|███████▏  | 1536/2152 [10:52<10:05,  1.02it/s]"
     ]
    },
    {
     "name": "stdout",
     "output_type": "stream",
     "text": [
      "Attempt 2 failed for https://www.linkedin.com/in/ashworthdavid with status code 404. Retrying...\n",
      "Attempt 1 failed for https://www.linkedin.com/in/thesteverussell with status code 404. Retrying...\n"
     ]
    },
    {
     "name": "stderr",
     "output_type": "stream",
     "text": [
      "Processing LinkedIn data:  71%|███████▏  | 1538/2152 [10:54<08:24,  1.22it/s]"
     ]
    },
    {
     "name": "stdout",
     "output_type": "stream",
     "text": [
      "Failed to retrieve data for https://www.linkedin.com/in/caitlin-elias-351a075a after 3 attempts.\n",
      "Failed to retrieve data for https://www.linkedin.com/in/michael-e-stonecipher-cpa-67352523 after 3 attempts.\n",
      "Attempt 2 failed for https://www.linkedin.com/in/julie-zhuo with status code 404. Retrying...\n"
     ]
    },
    {
     "name": "stderr",
     "output_type": "stream",
     "text": [
      "Processing LinkedIn data:  72%|███████▏  | 1541/2152 [10:56<07:38,  1.33it/s]"
     ]
    },
    {
     "name": "stdout",
     "output_type": "stream",
     "text": [
      "Attempt 3 failed for https://www.linkedin.com/in/ashworthdavid with status code 404. Retrying...\n"
     ]
    },
    {
     "name": "stderr",
     "output_type": "stream",
     "text": [
      "Processing LinkedIn data:  72%|███████▏  | 1543/2152 [10:58<08:36,  1.18it/s]"
     ]
    },
    {
     "name": "stdout",
     "output_type": "stream",
     "text": [
      "Attempt 1 failed for https://www.linkedin.com/in/doug-ireland-69b17062 with status code 422. Retrying...\n"
     ]
    },
    {
     "name": "stderr",
     "output_type": "stream",
     "text": [
      "Processing LinkedIn data:  72%|███████▏  | 1544/2152 [10:59<08:50,  1.15it/s]"
     ]
    },
    {
     "name": "stdout",
     "output_type": "stream",
     "text": [
      "Attempt 2 failed for https://www.linkedin.com/in/leecdilworth with status code 404. Retrying...\n"
     ]
    },
    {
     "name": "stderr",
     "output_type": "stream",
     "text": [
      "Processing LinkedIn data:  72%|███████▏  | 1547/2152 [11:00<06:39,  1.51it/s]"
     ]
    },
    {
     "name": "stdout",
     "output_type": "stream",
     "text": [
      "Failed to retrieve data for https://www.linkedin.com/in/ashworthdavid after 3 attempts.\n",
      "Attempt 3 failed for https://www.linkedin.com/in/katrine-reddin-049063135 with status code 404. Retrying...\n",
      "Attempt 1 failed for https://www.linkedin.com/in/sara-wieller with status code 404. Retrying...\n",
      "Attempt 3 failed for https://www.linkedin.com/in/vladislav-podolyako-982028201 with status code 404. Retrying...\n"
     ]
    },
    {
     "name": "stderr",
     "output_type": "stream",
     "text": [
      "Processing LinkedIn data:  72%|███████▏  | 1548/2152 [11:02<08:41,  1.16it/s]"
     ]
    },
    {
     "name": "stdout",
     "output_type": "stream",
     "text": [
      "Attempt 2 failed for https://www.linkedin.com/in/payten-spencer-3374a51a1 with status code 422. Retrying...\n"
     ]
    },
    {
     "name": "stderr",
     "output_type": "stream",
     "text": [
      "Processing LinkedIn data:  72%|███████▏  | 1549/2152 [11:03<09:17,  1.08it/s]"
     ]
    },
    {
     "name": "stdout",
     "output_type": "stream",
     "text": [
      "Attempt 1 failed for https://www.linkedin.com/in/jamie-lacy-330b0b107 with status code 422. Retrying...\n"
     ]
    },
    {
     "name": "stderr",
     "output_type": "stream",
     "text": [
      "Processing LinkedIn data:  72%|███████▏  | 1551/2152 [11:04<08:26,  1.19it/s]"
     ]
    },
    {
     "name": "stdout",
     "output_type": "stream",
     "text": [
      "Failed to retrieve data for https://www.linkedin.com/in/katrine-reddin-049063135 after 3 attempts.\n",
      "Failed to retrieve data for https://www.linkedin.com/in/vladislav-podolyako-982028201 after 3 attempts.\n"
     ]
    },
    {
     "name": "stderr",
     "output_type": "stream",
     "text": [
      "Processing LinkedIn data:  72%|███████▏  | 1553/2152 [11:05<05:41,  1.75it/s]"
     ]
    },
    {
     "name": "stdout",
     "output_type": "stream",
     "text": [
      "Attempt 2 failed for https://www.linkedin.com/in/sara-wieller with status code 404. Retrying...\n"
     ]
    },
    {
     "name": "stderr",
     "output_type": "stream",
     "text": [
      "Processing LinkedIn data:  72%|███████▏  | 1555/2152 [11:05<04:42,  2.12it/s]"
     ]
    },
    {
     "name": "stdout",
     "output_type": "stream",
     "text": [
      "Attempt 3 failed for https://www.linkedin.com/in/payten-spencer-3374a51a1 with status code 404. Retrying...\n"
     ]
    },
    {
     "name": "stderr",
     "output_type": "stream",
     "text": [
      "Processing LinkedIn data:  73%|███████▎  | 1562/2152 [11:11<06:12,  1.58it/s]"
     ]
    },
    {
     "name": "stdout",
     "output_type": "stream",
     "text": [
      "Attempt 1 failed for https://www.linkedin.com/in/amy-hower-7bb8a5152 with status code 422. Retrying...\n"
     ]
    },
    {
     "name": "stderr",
     "output_type": "stream",
     "text": [
      "Processing LinkedIn data:  73%|███████▎  | 1565/2152 [11:12<04:03,  2.41it/s]"
     ]
    },
    {
     "name": "stdout",
     "output_type": "stream",
     "text": [
      "Failed to retrieve data for https://www.linkedin.com/in/payten-spencer-3374a51a1 after 3 attempts.\n"
     ]
    },
    {
     "name": "stderr",
     "output_type": "stream",
     "text": [
      "Processing LinkedIn data:  73%|███████▎  | 1567/2152 [11:13<04:42,  2.07it/s]"
     ]
    },
    {
     "name": "stdout",
     "output_type": "stream",
     "text": [
      "Attempt 3 failed for https://www.linkedin.com/in/hector-colon-381584bb with status code 422. Retrying...\n"
     ]
    },
    {
     "name": "stderr",
     "output_type": "stream",
     "text": [
      "Processing LinkedIn data:  73%|███████▎  | 1574/2152 [11:17<04:39,  2.07it/s]"
     ]
    },
    {
     "name": "stdout",
     "output_type": "stream",
     "text": [
      "Failed to retrieve data for https://www.linkedin.com/in/hector-colon-381584bb after 3 attempts.\n",
      "Attempt 1 failed for https://www.linkedin.com/in/michael-dorman-b829663b with status code 422. Retrying...\n"
     ]
    },
    {
     "name": "stderr",
     "output_type": "stream",
     "text": [
      "Processing LinkedIn data:  73%|███████▎  | 1575/2152 [11:18<05:29,  1.75it/s]"
     ]
    },
    {
     "name": "stdout",
     "output_type": "stream",
     "text": [
      "Attempt 1 failed for https://www.linkedin.com/in/ltafel with status code 422. Retrying...\n",
      "Attempt 1 failed for https://www.linkedin.com/in/rosslaughter with status code 422. Retrying...\n"
     ]
    },
    {
     "name": "stderr",
     "output_type": "stream",
     "text": [
      "Processing LinkedIn data:  73%|███████▎  | 1576/2152 [11:19<06:19,  1.52it/s]"
     ]
    },
    {
     "name": "stdout",
     "output_type": "stream",
     "text": [
      "Attempt 1 failed for https://www.linkedin.com/in/abramovanna with status code 404. Retrying...\n"
     ]
    },
    {
     "name": "stderr",
     "output_type": "stream",
     "text": [
      "Processing LinkedIn data:  74%|███████▎  | 1587/2152 [11:23<04:25,  2.13it/s]"
     ]
    },
    {
     "name": "stdout",
     "output_type": "stream",
     "text": [
      "Attempt 2 failed for https://www.linkedin.com/in/jennifer-pethel-81ba3b25a with status code 422. Retrying...\n",
      "Attempt 2 failed for https://www.linkedin.com/in/tina-monos-b1b51b6 with status code 404. Retrying...\n"
     ]
    },
    {
     "name": "stderr",
     "output_type": "stream",
     "text": [
      "Processing LinkedIn data:  74%|███████▍  | 1589/2152 [11:25<06:31,  1.44it/s]"
     ]
    },
    {
     "name": "stdout",
     "output_type": "stream",
     "text": [
      "Attempt 3 failed for https://www.linkedin.com/in/margot-fitzgerald-82981b159 with status code 404. Retrying...\n"
     ]
    },
    {
     "name": "stderr",
     "output_type": "stream",
     "text": [
      "Processing LinkedIn data:  74%|███████▍  | 1591/2152 [11:26<05:48,  1.61it/s]"
     ]
    },
    {
     "name": "stdout",
     "output_type": "stream",
     "text": [
      "Attempt 1 failed for https://www.linkedin.com/in/brianclemons with status code 404. Retrying...\n"
     ]
    },
    {
     "name": "stderr",
     "output_type": "stream",
     "text": [
      "Processing LinkedIn data:  74%|███████▍  | 1592/2152 [11:27<05:01,  1.86it/s]"
     ]
    },
    {
     "name": "stdout",
     "output_type": "stream",
     "text": [
      "Attempt 2 failed for https://www.linkedin.com/in/jamie-lacy-330b0b107 with status code 404. Retrying...\n"
     ]
    },
    {
     "name": "stderr",
     "output_type": "stream",
     "text": [
      "Processing LinkedIn data:  74%|███████▍  | 1595/2152 [11:28<03:36,  2.57it/s]"
     ]
    },
    {
     "name": "stdout",
     "output_type": "stream",
     "text": [
      "Attempt 3 failed for https://www.linkedin.com/in/jennifer-pethel-81ba3b25a with status code 404. Retrying...\n"
     ]
    },
    {
     "name": "stderr",
     "output_type": "stream",
     "text": [
      "Processing LinkedIn data:  74%|███████▍  | 1596/2152 [11:28<03:17,  2.82it/s]"
     ]
    },
    {
     "name": "stdout",
     "output_type": "stream",
     "text": [
      "Attempt 3 failed for https://www.linkedin.com/in/troy-nelson-8834b428 with status code 422. Retrying...\n"
     ]
    },
    {
     "name": "stderr",
     "output_type": "stream",
     "text": [
      "Processing LinkedIn data:  74%|███████▍  | 1599/2152 [11:29<03:52,  2.38it/s]"
     ]
    },
    {
     "name": "stdout",
     "output_type": "stream",
     "text": [
      "Attempt 2 failed for https://www.linkedin.com/in/brianclemons with status code 404. Retrying...\n"
     ]
    },
    {
     "name": "stderr",
     "output_type": "stream",
     "text": [
      "Processing LinkedIn data:  74%|███████▍  | 1600/2152 [11:30<04:05,  2.25it/s]"
     ]
    },
    {
     "name": "stdout",
     "output_type": "stream",
     "text": [
      "Attempt 2 failed for https://www.linkedin.com/in/tyler-mulkey-bb92048a with status code 422. Retrying...\n",
      "Failed to retrieve data for https://www.linkedin.com/in/margot-fitzgerald-82981b159 after 3 attempts.\n"
     ]
    },
    {
     "name": "stderr",
     "output_type": "stream",
     "text": [
      "Processing LinkedIn data:  75%|███████▍  | 1605/2152 [11:32<03:05,  2.95it/s]"
     ]
    },
    {
     "name": "stdout",
     "output_type": "stream",
     "text": [
      "Failed to retrieve data for https://www.linkedin.com/in/jennifer-pethel-81ba3b25a after 3 attempts.\n"
     ]
    },
    {
     "name": "stderr",
     "output_type": "stream",
     "text": [
      "Processing LinkedIn data:  75%|███████▍  | 1608/2152 [11:32<02:12,  4.09it/s]"
     ]
    },
    {
     "name": "stdout",
     "output_type": "stream",
     "text": [
      "Failed to retrieve data for https://www.linkedin.com/in/troy-nelson-8834b428 after 3 attempts.\n"
     ]
    },
    {
     "name": "stderr",
     "output_type": "stream",
     "text": [
      "Processing LinkedIn data:  75%|███████▍  | 1610/2152 [11:34<03:44,  2.41it/s]"
     ]
    },
    {
     "name": "stdout",
     "output_type": "stream",
     "text": [
      "Attempt 1 failed for https://www.linkedin.com/in/ryan-hamerski-38a1b92 with status code 404. Retrying...\n"
     ]
    },
    {
     "name": "stderr",
     "output_type": "stream",
     "text": [
      "Processing LinkedIn data:  75%|███████▌  | 1622/2152 [11:38<03:44,  2.36it/s]"
     ]
    },
    {
     "name": "stdout",
     "output_type": "stream",
     "text": [
      "Attempt 2 failed for https://www.linkedin.com/in/matt-legg-engineer-mba with status code 404. Retrying...\n"
     ]
    },
    {
     "name": "stderr",
     "output_type": "stream",
     "text": [
      "Processing LinkedIn data:  76%|███████▌  | 1627/2152 [11:41<02:54,  3.00it/s]"
     ]
    },
    {
     "name": "stdout",
     "output_type": "stream",
     "text": [
      "Attempt 2 failed for https://www.linkedin.com/in/thesteverussell with status code 404. Retrying...\n"
     ]
    },
    {
     "name": "stderr",
     "output_type": "stream",
     "text": [
      "Processing LinkedIn data:  76%|███████▌  | 1634/2152 [11:43<02:13,  3.89it/s]"
     ]
    },
    {
     "name": "stdout",
     "output_type": "stream",
     "text": [
      "Attempt 3 failed for https://www.linkedin.com/in/julie-zhuo with status code 404. Retrying...\n"
     ]
    },
    {
     "name": "stderr",
     "output_type": "stream",
     "text": [
      "Processing LinkedIn data:  76%|███████▌  | 1636/2152 [11:44<03:47,  2.27it/s]"
     ]
    },
    {
     "name": "stdout",
     "output_type": "stream",
     "text": [
      "Attempt 1 failed for https://www.linkedin.com/in/travislugo with status code 404. Retrying...\n",
      "Attempt 2 failed for https://www.linkedin.com/in/amy-hower-7bb8a5152 with status code 422. Retrying...\n"
     ]
    },
    {
     "name": "stderr",
     "output_type": "stream",
     "text": [
      "Processing LinkedIn data:  76%|███████▋  | 1641/2152 [11:46<02:28,  3.44it/s]"
     ]
    },
    {
     "name": "stdout",
     "output_type": "stream",
     "text": [
      "Attempt 3 failed for https://www.linkedin.com/in/tina-monos-b1b51b6 with status code 404. Retrying...\n",
      "Attempt 1 failed for https://www.linkedin.com/in/keith-hassler-05633986 with status code 422. Retrying...\n"
     ]
    },
    {
     "name": "stderr",
     "output_type": "stream",
     "text": [
      "Processing LinkedIn data:  76%|███████▋  | 1644/2152 [11:47<02:35,  3.26it/s]"
     ]
    },
    {
     "name": "stdout",
     "output_type": "stream",
     "text": [
      "Failed to retrieve data for https://www.linkedin.com/in/julie-zhuo after 3 attempts.\n"
     ]
    },
    {
     "name": "stderr",
     "output_type": "stream",
     "text": [
      "Processing LinkedIn data:  76%|███████▋  | 1645/2152 [11:47<02:56,  2.88it/s]"
     ]
    },
    {
     "name": "stdout",
     "output_type": "stream",
     "text": [
      "Attempt 2 failed for https://www.linkedin.com/in/travislugo with status code 404. Retrying...\n"
     ]
    },
    {
     "name": "stderr",
     "output_type": "stream",
     "text": [
      "Processing LinkedIn data:  76%|███████▋  | 1646/2152 [11:48<03:03,  2.76it/s]"
     ]
    },
    {
     "name": "stdout",
     "output_type": "stream",
     "text": [
      "Attempt 2 failed for https://www.linkedin.com/in/thenikkibarua with status code 404. Retrying...\n"
     ]
    },
    {
     "name": "stderr",
     "output_type": "stream",
     "text": [
      "Processing LinkedIn data:  77%|███████▋  | 1647/2152 [11:49<04:07,  2.04it/s]"
     ]
    },
    {
     "name": "stdout",
     "output_type": "stream",
     "text": [
      "Attempt 3 failed for https://www.linkedin.com/in/amy-hower-7bb8a5152 with status code 404. Retrying...\n"
     ]
    },
    {
     "name": "stderr",
     "output_type": "stream",
     "text": [
      "Processing LinkedIn data:  77%|███████▋  | 1649/2152 [11:49<04:13,  1.98it/s]"
     ]
    },
    {
     "name": "stdout",
     "output_type": "stream",
     "text": [
      "Failed to retrieve data for https://www.linkedin.com/in/tina-monos-b1b51b6 after 3 attempts.\n",
      "Attempt 2 failed for https://www.linkedin.com/in/raob4 with status code 404. Retrying...\n"
     ]
    },
    {
     "name": "stderr",
     "output_type": "stream",
     "text": [
      "Processing LinkedIn data:  77%|███████▋  | 1656/2152 [11:52<04:32,  1.82it/s]"
     ]
    },
    {
     "name": "stdout",
     "output_type": "stream",
     "text": [
      "Failed to retrieve data for https://www.linkedin.com/in/amy-hower-7bb8a5152 after 3 attempts.\n",
      "Attempt 3 failed for https://www.linkedin.com/in/thenikkibarua with status code 404. Retrying...\n"
     ]
    },
    {
     "name": "stderr",
     "output_type": "stream",
     "text": [
      "Processing LinkedIn data:  77%|███████▋  | 1660/2152 [11:53<02:31,  3.24it/s]"
     ]
    },
    {
     "name": "stdout",
     "output_type": "stream",
     "text": [
      "Attempt 2 failed for https://www.linkedin.com/in/keith-hassler-05633986 with status code 404. Retrying...\n"
     ]
    },
    {
     "name": "stderr",
     "output_type": "stream",
     "text": [
      "Processing LinkedIn data:  77%|███████▋  | 1661/2152 [11:54<03:41,  2.22it/s]"
     ]
    },
    {
     "name": "stdout",
     "output_type": "stream",
     "text": [
      "Attempt 3 failed for https://www.linkedin.com/in/raob4 with status code 404. Retrying...\n"
     ]
    },
    {
     "name": "stderr",
     "output_type": "stream",
     "text": [
      "Processing LinkedIn data:  77%|███████▋  | 1662/2152 [11:54<03:37,  2.25it/s]"
     ]
    },
    {
     "name": "stdout",
     "output_type": "stream",
     "text": [
      "Attempt 2 failed for https://www.linkedin.com/in/atanderson with status code 404. Retrying...\n"
     ]
    },
    {
     "name": "stderr",
     "output_type": "stream",
     "text": [
      "Processing LinkedIn data:  78%|███████▊  | 1669/2152 [11:57<02:15,  3.58it/s]"
     ]
    },
    {
     "name": "stdout",
     "output_type": "stream",
     "text": [
      "Failed to retrieve data for https://www.linkedin.com/in/thenikkibarua after 3 attempts.\n"
     ]
    },
    {
     "name": "stderr",
     "output_type": "stream",
     "text": [
      "Processing LinkedIn data:  78%|███████▊  | 1673/2152 [11:58<02:44,  2.91it/s]"
     ]
    },
    {
     "name": "stdout",
     "output_type": "stream",
     "text": [
      "Failed to retrieve data for https://www.linkedin.com/in/raob4 after 3 attempts.\n"
     ]
    },
    {
     "name": "stderr",
     "output_type": "stream",
     "text": [
      "Processing LinkedIn data:  78%|███████▊  | 1676/2152 [11:59<02:38,  3.00it/s]"
     ]
    },
    {
     "name": "stdout",
     "output_type": "stream",
     "text": [
      "Attempt 3 failed for https://www.linkedin.com/in/tyler-mulkey-bb92048a with status code 422. Retrying...\n"
     ]
    },
    {
     "name": "stderr",
     "output_type": "stream",
     "text": [
      "Processing LinkedIn data:  78%|███████▊  | 1685/2152 [12:02<02:45,  2.83it/s]"
     ]
    },
    {
     "name": "stdout",
     "output_type": "stream",
     "text": [
      "Attempt 1 failed for https://www.linkedin.com/in/alexjmbarton with status code 422. Retrying...\n"
     ]
    },
    {
     "name": "stderr",
     "output_type": "stream",
     "text": [
      "Processing LinkedIn data:  78%|███████▊  | 1687/2152 [12:03<02:57,  2.63it/s]"
     ]
    },
    {
     "name": "stdout",
     "output_type": "stream",
     "text": [
      "Failed to retrieve data for https://www.linkedin.com/in/tyler-mulkey-bb92048a after 3 attempts.\n",
      "Attempt 1 failed for https://www.linkedin.com/in/matthew-carpenter-05a77a75 with status code 422. Retrying...\n"
     ]
    },
    {
     "name": "stderr",
     "output_type": "stream",
     "text": [
      "Processing LinkedIn data:  79%|███████▉  | 1703/2152 [12:09<02:14,  3.33it/s]"
     ]
    },
    {
     "name": "stdout",
     "output_type": "stream",
     "text": [
      "Attempt 1 failed for https://www.linkedin.com/in/mattlebaron with status code 404. Retrying...\n"
     ]
    },
    {
     "name": "stderr",
     "output_type": "stream",
     "text": [
      "Processing LinkedIn data:  80%|███████▉  | 1713/2152 [12:13<02:22,  3.07it/s]"
     ]
    },
    {
     "name": "stdout",
     "output_type": "stream",
     "text": [
      "Attempt 1 failed for https://www.linkedin.com/in/nathan-childress-809b57a with status code 404. Retrying...\n"
     ]
    },
    {
     "name": "stderr",
     "output_type": "stream",
     "text": [
      "Processing LinkedIn data:  80%|███████▉  | 1720/2152 [12:15<02:05,  3.45it/s]"
     ]
    },
    {
     "name": "stdout",
     "output_type": "stream",
     "text": [
      "Attempt 2 failed for https://www.linkedin.com/in/mattlebaron with status code 404. Retrying...\n"
     ]
    },
    {
     "name": "stderr",
     "output_type": "stream",
     "text": [
      "Processing LinkedIn data:  80%|████████  | 1722/2152 [12:15<01:57,  3.67it/s]"
     ]
    },
    {
     "name": "stdout",
     "output_type": "stream",
     "text": [
      "Attempt 1 failed for https://www.linkedin.com/in/alex-thomas-488a1ab2 with status code 404. Retrying...\n"
     ]
    },
    {
     "name": "stderr",
     "output_type": "stream",
     "text": [
      "Processing LinkedIn data:  80%|████████  | 1723/2152 [12:16<03:34,  2.00it/s]"
     ]
    },
    {
     "name": "stdout",
     "output_type": "stream",
     "text": [
      "Attempt 2 failed for https://www.linkedin.com/in/nathan-childress-809b57a with status code 404. Retrying...\n"
     ]
    },
    {
     "name": "stderr",
     "output_type": "stream",
     "text": [
      "Processing LinkedIn data:  80%|████████  | 1725/2152 [12:17<03:25,  2.08it/s]"
     ]
    },
    {
     "name": "stdout",
     "output_type": "stream",
     "text": [
      "Attempt 1 failed for https://www.linkedin.com/in/eric-whyne-92b7326 with status code 422. Retrying...\n"
     ]
    },
    {
     "name": "stderr",
     "output_type": "stream",
     "text": [
      "Processing LinkedIn data:  81%|████████  | 1733/2152 [12:21<03:09,  2.21it/s]"
     ]
    },
    {
     "name": "stdout",
     "output_type": "stream",
     "text": [
      "Attempt 3 failed for https://www.linkedin.com/in/nathan-childress-809b57a with status code 404. Retrying...\n"
     ]
    },
    {
     "name": "stderr",
     "output_type": "stream",
     "text": [
      "Processing LinkedIn data:  81%|████████  | 1744/2152 [12:25<02:55,  2.32it/s]"
     ]
    },
    {
     "name": "stdout",
     "output_type": "stream",
     "text": [
      "Failed to retrieve data for https://www.linkedin.com/in/nathan-childress-809b57a after 3 attempts.\n"
     ]
    },
    {
     "name": "stderr",
     "output_type": "stream",
     "text": [
      "Processing LinkedIn data:  81%|████████▏ | 1751/2152 [12:27<02:15,  2.95it/s]"
     ]
    },
    {
     "name": "stdout",
     "output_type": "stream",
     "text": [
      "Attempt 1 failed for https://www.linkedin.com/in/laurentipton with status code 404. Retrying...\n"
     ]
    },
    {
     "name": "stderr",
     "output_type": "stream",
     "text": [
      "Processing LinkedIn data:  82%|████████▏ | 1758/2152 [12:29<01:32,  4.25it/s]"
     ]
    },
    {
     "name": "stdout",
     "output_type": "stream",
     "text": [
      "Attempt 3 failed for https://www.linkedin.com/in/thesteverussell with status code 404. Retrying...\n"
     ]
    },
    {
     "name": "stderr",
     "output_type": "stream",
     "text": [
      "Processing LinkedIn data:  82%|████████▏ | 1768/2152 [12:32<01:44,  3.68it/s]"
     ]
    },
    {
     "name": "stdout",
     "output_type": "stream",
     "text": [
      "Attempt 3 failed for https://www.linkedin.com/in/leecdilworth with status code 404. Retrying...\n"
     ]
    },
    {
     "name": "stderr",
     "output_type": "stream",
     "text": [
      "Processing LinkedIn data:  82%|████████▏ | 1772/2152 [12:33<01:41,  3.73it/s]"
     ]
    },
    {
     "name": "stdout",
     "output_type": "stream",
     "text": [
      "Failed to retrieve data for https://www.linkedin.com/in/thesteverussell after 3 attempts.\n"
     ]
    },
    {
     "name": "stderr",
     "output_type": "stream",
     "text": [
      "Processing LinkedIn data:  82%|████████▏ | 1775/2152 [12:34<01:22,  4.57it/s]"
     ]
    },
    {
     "name": "stdout",
     "output_type": "stream",
     "text": [
      "Attempt 3 failed for https://www.linkedin.com/in/jacob-luster-4a67b514a with status code 504. Retrying...\n",
      "Attempt 2 failed for https://www.linkedin.com/in/alexjmbarton with status code 422. Retrying...\n"
     ]
    },
    {
     "name": "stderr",
     "output_type": "stream",
     "text": [
      "Processing LinkedIn data:  83%|████████▎ | 1781/2152 [12:36<01:50,  3.35it/s]"
     ]
    },
    {
     "name": "stdout",
     "output_type": "stream",
     "text": [
      "Failed to retrieve data for https://www.linkedin.com/in/leecdilworth after 3 attempts.\n"
     ]
    },
    {
     "name": "stderr",
     "output_type": "stream",
     "text": [
      "Processing LinkedIn data:  83%|████████▎ | 1782/2152 [12:36<01:48,  3.41it/s]"
     ]
    },
    {
     "name": "stdout",
     "output_type": "stream",
     "text": [
      "Attempt 1 failed for https://www.linkedin.com/in/lena-goizman-5a95b994 with status code 422. Retrying...\n"
     ]
    },
    {
     "name": "stderr",
     "output_type": "stream",
     "text": [
      "Processing LinkedIn data:  83%|████████▎ | 1783/2152 [12:38<03:18,  1.86it/s]"
     ]
    },
    {
     "name": "stdout",
     "output_type": "stream",
     "text": [
      "Failed to retrieve data for https://www.linkedin.com/in/jacob-luster-4a67b514a after 3 attempts.\n"
     ]
    },
    {
     "name": "stderr",
     "output_type": "stream",
     "text": [
      "Processing LinkedIn data:  83%|████████▎ | 1784/2152 [12:38<02:51,  2.14it/s]"
     ]
    },
    {
     "name": "stdout",
     "output_type": "stream",
     "text": [
      "Attempt 3 failed for https://www.linkedin.com/in/alexjmbarton with status code 404. Retrying...\n"
     ]
    },
    {
     "name": "stderr",
     "output_type": "stream",
     "text": [
      "Processing LinkedIn data:  83%|████████▎ | 1789/2152 [12:40<03:03,  1.98it/s]"
     ]
    },
    {
     "name": "stdout",
     "output_type": "stream",
     "text": [
      "Attempt 1 failed for https://www.linkedin.com/in/fryw95 with status code 422. Retrying...\n",
      "Attempt 3 failed for https://www.linkedin.com/in/mattlebaron with status code 404. Retrying...\n"
     ]
    },
    {
     "name": "stderr",
     "output_type": "stream",
     "text": [
      "Processing LinkedIn data:  83%|████████▎ | 1795/2152 [12:42<01:56,  3.05it/s]"
     ]
    },
    {
     "name": "stdout",
     "output_type": "stream",
     "text": [
      "Failed to retrieve data for https://www.linkedin.com/in/alexjmbarton after 3 attempts.\n",
      "Attempt 3 failed for https://www.linkedin.com/in/atanderson with status code 404. Retrying...\n"
     ]
    },
    {
     "name": "stderr",
     "output_type": "stream",
     "text": [
      "Processing LinkedIn data:  84%|████████▎ | 1797/2152 [12:43<02:28,  2.40it/s]"
     ]
    },
    {
     "name": "stdout",
     "output_type": "stream",
     "text": [
      "Attempt 3 failed for https://www.linkedin.com/in/jamie-lacy-330b0b107 with status code 422. Retrying...\n",
      "Attempt 1 failed for https://www.linkedin.com/in/sofia-corcho with status code 422. Retrying...\n"
     ]
    },
    {
     "name": "stderr",
     "output_type": "stream",
     "text": [
      "Processing LinkedIn data:  84%|████████▎ | 1800/2152 [12:45<02:14,  2.61it/s]"
     ]
    },
    {
     "name": "stdout",
     "output_type": "stream",
     "text": [
      "Failed to retrieve data for https://www.linkedin.com/in/mattlebaron after 3 attempts.\n",
      "Attempt 1 failed for https://www.linkedin.com/in/andrew-newby-473310201 with status code 404. Retrying...\n"
     ]
    },
    {
     "name": "stderr",
     "output_type": "stream",
     "text": [
      "Processing LinkedIn data:  84%|████████▎ | 1802/2152 [12:47<04:06,  1.42it/s]"
     ]
    },
    {
     "name": "stdout",
     "output_type": "stream",
     "text": [
      "Failed to retrieve data for https://www.linkedin.com/in/atanderson after 3 attempts.\n"
     ]
    },
    {
     "name": "stderr",
     "output_type": "stream",
     "text": [
      "Processing LinkedIn data:  84%|████████▍ | 1804/2152 [12:48<03:21,  1.73it/s]"
     ]
    },
    {
     "name": "stdout",
     "output_type": "stream",
     "text": [
      "Failed to retrieve data for https://www.linkedin.com/in/jamie-lacy-330b0b107 after 3 attempts.\n"
     ]
    },
    {
     "name": "stderr",
     "output_type": "stream",
     "text": [
      "Processing LinkedIn data:  85%|████████▍ | 1820/2152 [12:56<02:43,  2.03it/s]"
     ]
    },
    {
     "name": "stdout",
     "output_type": "stream",
     "text": [
      "Attempt 3 failed for https://www.linkedin.com/in/keith-hassler-05633986 with status code 404. Retrying...\n"
     ]
    },
    {
     "name": "stderr",
     "output_type": "stream",
     "text": [
      "Processing LinkedIn data:  85%|████████▍ | 1822/2152 [12:56<02:29,  2.20it/s]"
     ]
    },
    {
     "name": "stdout",
     "output_type": "stream",
     "text": [
      "Attempt 1 failed for https://www.linkedin.com/in/thebentelcarpenters with status code 422. Retrying...\n"
     ]
    },
    {
     "name": "stderr",
     "output_type": "stream",
     "text": [
      "Processing LinkedIn data:  85%|████████▍ | 1829/2152 [12:58<01:51,  2.90it/s]"
     ]
    },
    {
     "name": "stdout",
     "output_type": "stream",
     "text": [
      "Attempt 1 failed for https://www.linkedin.com/in/amy-spencer-077218137 with status code 422. Retrying...\n"
     ]
    },
    {
     "name": "stderr",
     "output_type": "stream",
     "text": [
      "Processing LinkedIn data:  85%|████████▌ | 1831/2152 [13:00<02:08,  2.49it/s]"
     ]
    },
    {
     "name": "stdout",
     "output_type": "stream",
     "text": [
      "Failed to retrieve data for https://www.linkedin.com/in/keith-hassler-05633986 after 3 attempts.\n"
     ]
    },
    {
     "name": "stderr",
     "output_type": "stream",
     "text": [
      "Processing LinkedIn data:  86%|████████▌ | 1847/2152 [13:05<01:36,  3.17it/s]"
     ]
    },
    {
     "name": "stdout",
     "output_type": "stream",
     "text": [
      "Attempt 1 failed for https://www.linkedin.com/in/lesliebostick with status code 404. Retrying...\n",
      "Attempt 2 failed for https://www.linkedin.com/in/abramovanna with status code 404. Retrying...\n"
     ]
    },
    {
     "name": "stderr",
     "output_type": "stream",
     "text": [
      "Processing LinkedIn data:  86%|████████▌ | 1854/2152 [13:11<02:13,  2.23it/s]"
     ]
    },
    {
     "name": "stdout",
     "output_type": "stream",
     "text": [
      "Attempt 2 failed for https://www.linkedin.com/in/lena-goizman-5a95b994 with status code 422. Retrying...\n"
     ]
    },
    {
     "name": "stderr",
     "output_type": "stream",
     "text": [
      "Processing LinkedIn data:  87%|████████▋ | 1862/2152 [13:16<02:46,  1.75it/s]"
     ]
    },
    {
     "name": "stdout",
     "output_type": "stream",
     "text": [
      "Attempt 2 failed for https://www.linkedin.com/in/ryan-hamerski-38a1b92 with status code 404. Retrying...\n"
     ]
    },
    {
     "name": "stderr",
     "output_type": "stream",
     "text": [
      "Processing LinkedIn data:  87%|████████▋ | 1865/2152 [13:18<02:22,  2.01it/s]"
     ]
    },
    {
     "name": "stdout",
     "output_type": "stream",
     "text": [
      "Attempt 1 failed for https://www.linkedin.com/in/chris-marlow-837450a1 with status code 404. Retrying...\n"
     ]
    },
    {
     "name": "stderr",
     "output_type": "stream",
     "text": [
      "Processing LinkedIn data:  87%|████████▋ | 1877/2152 [13:21<01:02,  4.43it/s]"
     ]
    },
    {
     "name": "stdout",
     "output_type": "stream",
     "text": [
      "Attempt 3 failed for https://www.linkedin.com/in/brianclemons with status code 422. Retrying...\n"
     ]
    },
    {
     "name": "stderr",
     "output_type": "stream",
     "text": [
      "Processing LinkedIn data:  88%|████████▊ | 1885/2152 [13:25<01:23,  3.21it/s]"
     ]
    },
    {
     "name": "stdout",
     "output_type": "stream",
     "text": [
      "Attempt 1 failed for https://www.linkedin.com/in/richard-drake-36949398 with status code 422. Retrying...\n"
     ]
    },
    {
     "name": "stderr",
     "output_type": "stream",
     "text": [
      "Processing LinkedIn data:  88%|████████▊ | 1886/2152 [13:26<02:04,  2.13it/s]"
     ]
    },
    {
     "name": "stdout",
     "output_type": "stream",
     "text": [
      "Failed to retrieve data for https://www.linkedin.com/in/brianclemons after 3 attempts.\n"
     ]
    },
    {
     "name": "stderr",
     "output_type": "stream",
     "text": [
      "Processing LinkedIn data:  88%|████████▊ | 1892/2152 [13:29<02:17,  1.88it/s]"
     ]
    },
    {
     "name": "stdout",
     "output_type": "stream",
     "text": [
      "Attempt 1 failed for https://www.linkedin.com/in/jernej-masnec-658b475 with status code 422. Retrying...\n"
     ]
    },
    {
     "name": "stderr",
     "output_type": "stream",
     "text": [
      "Processing LinkedIn data:  88%|████████▊ | 1893/2152 [13:30<03:04,  1.40it/s]"
     ]
    },
    {
     "name": "stdout",
     "output_type": "stream",
     "text": [
      "Attempt 1 failed for https://www.linkedin.com/in/richard-rollins-iii-b6aa8a7 with status code 422. Retrying...\n"
     ]
    },
    {
     "name": "stderr",
     "output_type": "stream",
     "text": [
      "Processing LinkedIn data:  88%|████████▊ | 1894/2152 [13:30<02:36,  1.65it/s]"
     ]
    },
    {
     "name": "stdout",
     "output_type": "stream",
     "text": [
      "Attempt 1 failed for https://www.linkedin.com/in/dr-jeremy-morse-a3b75118 with status code 422. Retrying...\n"
     ]
    },
    {
     "name": "stderr",
     "output_type": "stream",
     "text": [
      "Processing LinkedIn data:  88%|████████▊ | 1897/2152 [13:32<02:40,  1.59it/s]"
     ]
    },
    {
     "name": "stdout",
     "output_type": "stream",
     "text": [
      "Attempt 1 failed for https://www.linkedin.com/in/kimberley-barry with status code 422. Retrying...\n"
     ]
    },
    {
     "name": "stderr",
     "output_type": "stream",
     "text": [
      "Processing LinkedIn data:  88%|████████▊ | 1898/2152 [13:33<02:32,  1.67it/s]"
     ]
    },
    {
     "name": "stdout",
     "output_type": "stream",
     "text": [
      "Attempt 2 failed for https://www.linkedin.com/in/laurentipton with status code 404. Retrying...\n"
     ]
    },
    {
     "name": "stderr",
     "output_type": "stream",
     "text": [
      "Processing LinkedIn data:  88%|████████▊ | 1904/2152 [13:34<01:18,  3.16it/s]"
     ]
    },
    {
     "name": "stdout",
     "output_type": "stream",
     "text": [
      "Attempt 2 failed for https://www.linkedin.com/in/lesliebostick with status code 422. Retrying...\n"
     ]
    },
    {
     "name": "stderr",
     "output_type": "stream",
     "text": [
      "Processing LinkedIn data:  89%|████████▊ | 1905/2152 [13:35<02:09,  1.91it/s]"
     ]
    },
    {
     "name": "stdout",
     "output_type": "stream",
     "text": [
      "Attempt 2 failed for https://www.linkedin.com/in/antonelos1 with status code 504. Retrying...\n"
     ]
    },
    {
     "name": "stderr",
     "output_type": "stream",
     "text": [
      "Processing LinkedIn data:  89%|████████▊ | 1906/2152 [13:36<02:03,  1.99it/s]"
     ]
    },
    {
     "name": "stdout",
     "output_type": "stream",
     "text": [
      "Attempt 1 failed for https://www.linkedin.com/in/saumya-swagat-cmupb7285e with status code 404. Retrying...\n"
     ]
    },
    {
     "name": "stderr",
     "output_type": "stream",
     "text": [
      "Processing LinkedIn data:  89%|████████▊ | 1907/2152 [13:37<03:05,  1.32it/s]"
     ]
    },
    {
     "name": "stdout",
     "output_type": "stream",
     "text": [
      "Attempt 2 failed for https://www.linkedin.com/in/dr-jeremy-morse-a3b75118 with status code 404. Retrying...\n"
     ]
    },
    {
     "name": "stderr",
     "output_type": "stream",
     "text": [
      "Processing LinkedIn data:  89%|████████▉ | 1910/2152 [13:39<02:22,  1.69it/s]"
     ]
    },
    {
     "name": "stdout",
     "output_type": "stream",
     "text": [
      "Attempt 3 failed for https://www.linkedin.com/in/abramovanna with status code 404. Retrying...\n",
      "Attempt 2 failed for https://www.linkedin.com/in/sofia-corcho with status code 404. Retrying...\n",
      "Attempt 3 failed for https://www.linkedin.com/in/antonelos1 with status code 404. Retrying...\n"
     ]
    },
    {
     "name": "stderr",
     "output_type": "stream",
     "text": [
      "Processing LinkedIn data:  89%|████████▉ | 1912/2152 [13:42<03:48,  1.05it/s]"
     ]
    },
    {
     "name": "stdout",
     "output_type": "stream",
     "text": [
      "Attempt 3 failed for https://www.linkedin.com/in/dr-jeremy-morse-a3b75118 with status code 404. Retrying...\n"
     ]
    },
    {
     "name": "stderr",
     "output_type": "stream",
     "text": [
      "Processing LinkedIn data:  89%|████████▉ | 1916/2152 [13:43<02:09,  1.82it/s]"
     ]
    },
    {
     "name": "stdout",
     "output_type": "stream",
     "text": [
      "Failed to retrieve data for https://www.linkedin.com/in/abramovanna after 3 attempts.\n"
     ]
    },
    {
     "name": "stderr",
     "output_type": "stream",
     "text": [
      "Processing LinkedIn data:  89%|████████▉ | 1918/2152 [13:44<02:00,  1.94it/s]"
     ]
    },
    {
     "name": "stdout",
     "output_type": "stream",
     "text": [
      "Failed to retrieve data for https://www.linkedin.com/in/antonelos1 after 3 attempts.\n"
     ]
    },
    {
     "name": "stderr",
     "output_type": "stream",
     "text": [
      "Processing LinkedIn data:  89%|████████▉ | 1921/2152 [13:45<01:17,  2.97it/s]"
     ]
    },
    {
     "name": "stdout",
     "output_type": "stream",
     "text": [
      "Attempt 1 failed for https://www.linkedin.com/in/barty-martelli-b8459458 with status code 404. Retrying...\n"
     ]
    },
    {
     "name": "stderr",
     "output_type": "stream",
     "text": [
      "Processing LinkedIn data:  89%|████████▉ | 1922/2152 [13:46<01:32,  2.48it/s]"
     ]
    },
    {
     "name": "stdout",
     "output_type": "stream",
     "text": [
      "Failed to retrieve data for https://www.linkedin.com/in/dr-jeremy-morse-a3b75118 after 3 attempts.\n"
     ]
    },
    {
     "name": "stderr",
     "output_type": "stream",
     "text": [
      "Processing LinkedIn data:  89%|████████▉ | 1926/2152 [13:47<01:18,  2.88it/s]"
     ]
    },
    {
     "name": "stdout",
     "output_type": "stream",
     "text": [
      "Attempt 2 failed for https://www.linkedin.com/in/alex-thomas-488a1ab2 with status code 404. Retrying...\n",
      "Attempt 1 failed for https://www.linkedin.com/in/stephanie-newport-booth-05a5b270 with status code 404. Retrying...\n"
     ]
    },
    {
     "name": "stderr",
     "output_type": "stream",
     "text": [
      "Processing LinkedIn data:  90%|████████▉ | 1927/2152 [13:47<01:34,  2.38it/s]"
     ]
    },
    {
     "name": "stdout",
     "output_type": "stream",
     "text": [
      "Attempt 2 failed for https://www.linkedin.com/in/chris-marlow-837450a1 with status code 404. Retrying...\n"
     ]
    },
    {
     "name": "stderr",
     "output_type": "stream",
     "text": [
      "Processing LinkedIn data:  90%|█████████ | 1939/2152 [13:51<01:05,  3.23it/s]"
     ]
    },
    {
     "name": "stdout",
     "output_type": "stream",
     "text": [
      "Attempt 2 failed for https://www.linkedin.com/in/andrew-newby-473310201 with status code 404. Retrying...\n",
      "Attempt 1 failed for https://www.linkedin.com/in/kateryna-nepomniashcha-80b88b109 with status code 404. Retrying...\n"
     ]
    },
    {
     "name": "stderr",
     "output_type": "stream",
     "text": [
      "Processing LinkedIn data:  90%|█████████ | 1945/2152 [13:54<01:08,  3.03it/s]"
     ]
    },
    {
     "name": "stdout",
     "output_type": "stream",
     "text": [
      "Attempt 2 failed for https://www.linkedin.com/in/kimberley-barry with status code 404. Retrying...\n"
     ]
    },
    {
     "name": "stderr",
     "output_type": "stream",
     "text": [
      "Processing LinkedIn data:  90%|█████████ | 1947/2152 [13:55<01:38,  2.09it/s]"
     ]
    },
    {
     "name": "stdout",
     "output_type": "stream",
     "text": [
      "Attempt 3 failed for https://www.linkedin.com/in/andrew-newby-473310201 with status code 404. Retrying...\n",
      "Attempt 2 failed for https://www.linkedin.com/in/kateryna-nepomniashcha-80b88b109 with status code 404. Retrying...\n"
     ]
    },
    {
     "name": "stderr",
     "output_type": "stream",
     "text": [
      "Processing LinkedIn data:  91%|█████████ | 1948/2152 [13:56<01:58,  1.72it/s]"
     ]
    },
    {
     "name": "stdout",
     "output_type": "stream",
     "text": [
      "Attempt 2 failed for https://www.linkedin.com/in/barty-martelli-b8459458 with status code 404. Retrying...\n"
     ]
    },
    {
     "name": "stderr",
     "output_type": "stream",
     "text": [
      "Processing LinkedIn data:  91%|█████████ | 1955/2152 [13:59<01:54,  1.72it/s]"
     ]
    },
    {
     "name": "stdout",
     "output_type": "stream",
     "text": [
      "Failed to retrieve data for https://www.linkedin.com/in/andrew-newby-473310201 after 3 attempts.\n"
     ]
    },
    {
     "name": "stderr",
     "output_type": "stream",
     "text": [
      "Processing LinkedIn data:  91%|█████████ | 1960/2152 [14:00<00:56,  3.40it/s]"
     ]
    },
    {
     "name": "stdout",
     "output_type": "stream",
     "text": [
      "Attempt 3 failed for https://www.linkedin.com/in/barty-martelli-b8459458 with status code 404. Retrying...\n"
     ]
    },
    {
     "name": "stderr",
     "output_type": "stream",
     "text": [
      "Processing LinkedIn data:  91%|█████████▏| 1964/2152 [14:01<00:41,  4.49it/s]"
     ]
    },
    {
     "name": "stdout",
     "output_type": "stream",
     "text": [
      "Attempt 1 failed for https://www.linkedin.com/in/owen-sweeney-60a63b9b with status code 404. Retrying...\n"
     ]
    },
    {
     "name": "stderr",
     "output_type": "stream",
     "text": [
      "Processing LinkedIn data:  91%|█████████▏| 1967/2152 [14:03<01:32,  2.00it/s]"
     ]
    },
    {
     "name": "stdout",
     "output_type": "stream",
     "text": [
      "Attempt 1 failed for https://www.linkedin.com/in/scottgfarber with status code 404. Retrying...\n"
     ]
    },
    {
     "name": "stderr",
     "output_type": "stream",
     "text": [
      "Processing LinkedIn data:  91%|█████████▏| 1968/2152 [14:04<01:44,  1.75it/s]"
     ]
    },
    {
     "name": "stdout",
     "output_type": "stream",
     "text": [
      "Attempt 2 failed for https://www.linkedin.com/in/thebentelcarpenters with status code 422. Retrying...\n",
      "Attempt 3 failed for https://www.linkedin.com/in/travislugo with status code 404. Retrying...\n",
      "Failed to retrieve data for https://www.linkedin.com/in/barty-martelli-b8459458 after 3 attempts.\n"
     ]
    },
    {
     "name": "stderr",
     "output_type": "stream",
     "text": [
      "Processing LinkedIn data:  92%|█████████▏| 1973/2152 [14:05<00:55,  3.24it/s]"
     ]
    },
    {
     "name": "stdout",
     "output_type": "stream",
     "text": [
      "Attempt 1 failed for https://www.linkedin.com/in/gordon-hanna-53359a17 with status code 422. Retrying...\n"
     ]
    },
    {
     "name": "stderr",
     "output_type": "stream",
     "text": [
      "Processing LinkedIn data:  92%|█████████▏| 1975/2152 [14:05<00:46,  3.84it/s]"
     ]
    },
    {
     "name": "stdout",
     "output_type": "stream",
     "text": [
      "Attempt 3 failed for https://www.linkedin.com/in/sara-wieller with status code 404. Retrying...\n"
     ]
    },
    {
     "name": "stderr",
     "output_type": "stream",
     "text": [
      "Processing LinkedIn data:  92%|█████████▏| 1976/2152 [14:06<00:54,  3.24it/s]"
     ]
    },
    {
     "name": "stdout",
     "output_type": "stream",
     "text": [
      "Attempt 2 failed for https://www.linkedin.com/in/owen-sweeney-60a63b9b with status code 404. Retrying...\n",
      "Attempt 3 failed for https://www.linkedin.com/in/ryan-hamerski-38a1b92 with status code 404. Retrying...\n"
     ]
    },
    {
     "name": "stderr",
     "output_type": "stream",
     "text": [
      "Processing LinkedIn data:  92%|█████████▏| 1980/2152 [14:07<00:47,  3.63it/s]"
     ]
    },
    {
     "name": "stdout",
     "output_type": "stream",
     "text": [
      "Attempt 2 failed for https://www.linkedin.com/in/scottgfarber with status code 404. Retrying...\n"
     ]
    },
    {
     "name": "stderr",
     "output_type": "stream",
     "text": [
      "Processing LinkedIn data:  92%|█████████▏| 1984/2152 [14:08<00:47,  3.52it/s]"
     ]
    },
    {
     "name": "stdout",
     "output_type": "stream",
     "text": [
      "Failed to retrieve data for https://www.linkedin.com/in/travislugo after 3 attempts.\n"
     ]
    },
    {
     "name": "stderr",
     "output_type": "stream",
     "text": [
      "Processing LinkedIn data:  92%|█████████▏| 1987/2152 [14:10<01:17,  2.12it/s]"
     ]
    },
    {
     "name": "stdout",
     "output_type": "stream",
     "text": [
      "Failed to retrieve data for https://www.linkedin.com/in/sara-wieller after 3 attempts.\n"
     ]
    },
    {
     "name": "stderr",
     "output_type": "stream",
     "text": [
      "Processing LinkedIn data:  92%|█████████▏| 1990/2152 [14:10<00:38,  4.22it/s]"
     ]
    },
    {
     "name": "stdout",
     "output_type": "stream",
     "text": [
      "Failed to retrieve data for https://www.linkedin.com/in/ryan-hamerski-38a1b92 after 3 attempts.\n"
     ]
    },
    {
     "name": "stderr",
     "output_type": "stream",
     "text": [
      "Processing LinkedIn data:  93%|█████████▎| 2007/2152 [14:15<00:52,  2.77it/s]"
     ]
    },
    {
     "name": "stdout",
     "output_type": "stream",
     "text": [
      "Attempt 3 failed for https://www.linkedin.com/in/kateryna-nepomniashcha-80b88b109 with status code 404. Retrying...\n"
     ]
    },
    {
     "name": "stderr",
     "output_type": "stream",
     "text": [
      "Processing LinkedIn data:  94%|█████████▎| 2015/2152 [14:17<00:33,  4.04it/s]"
     ]
    },
    {
     "name": "stdout",
     "output_type": "stream",
     "text": [
      "Attempt 1 failed for https://www.linkedin.com/in/stephen-aupy-2b0171124 with status code 404. Retrying...\n"
     ]
    },
    {
     "name": "stderr",
     "output_type": "stream",
     "text": [
      "Processing LinkedIn data:  94%|█████████▎| 2017/2152 [14:17<00:37,  3.57it/s]"
     ]
    },
    {
     "name": "stdout",
     "output_type": "stream",
     "text": [
      "Attempt 1 failed for https://www.linkedin.com/in/david-fulton-financial-planner with status code 422. Retrying...\n"
     ]
    },
    {
     "name": "stderr",
     "output_type": "stream",
     "text": [
      "Processing LinkedIn data:  94%|█████████▍| 2021/2152 [14:19<00:34,  3.82it/s]"
     ]
    },
    {
     "name": "stdout",
     "output_type": "stream",
     "text": [
      "Failed to retrieve data for https://www.linkedin.com/in/kateryna-nepomniashcha-80b88b109 after 3 attempts.\n"
     ]
    },
    {
     "name": "stderr",
     "output_type": "stream",
     "text": [
      "Processing LinkedIn data:  94%|█████████▍| 2030/2152 [14:22<00:53,  2.30it/s]"
     ]
    },
    {
     "name": "stdout",
     "output_type": "stream",
     "text": [
      "Attempt 2 failed for https://www.linkedin.com/in/fryw95 with status code 404. Retrying...\n"
     ]
    },
    {
     "name": "stderr",
     "output_type": "stream",
     "text": [
      "Processing LinkedIn data:  95%|█████████▍| 2040/2152 [14:25<00:29,  3.83it/s]"
     ]
    },
    {
     "name": "stdout",
     "output_type": "stream",
     "text": [
      "Attempt 1 failed for https://www.linkedin.com/in/frankmcgonagle with status code 422. Retrying...\n"
     ]
    },
    {
     "name": "stderr",
     "output_type": "stream",
     "text": [
      "Processing LinkedIn data:  95%|█████████▍| 2041/2152 [14:27<01:04,  1.72it/s]"
     ]
    },
    {
     "name": "stdout",
     "output_type": "stream",
     "text": [
      "Attempt 2 failed for https://www.linkedin.com/in/saumya-swagat-cmupb7285e with status code 404. Retrying...\n"
     ]
    },
    {
     "name": "stderr",
     "output_type": "stream",
     "text": [
      "Processing LinkedIn data:  95%|█████████▌| 2045/2152 [14:28<00:39,  2.74it/s]"
     ]
    },
    {
     "name": "stdout",
     "output_type": "stream",
     "text": [
      "Attempt 3 failed for https://www.linkedin.com/in/kimberley-barry with status code 422. Retrying...\n"
     ]
    },
    {
     "name": "stderr",
     "output_type": "stream",
     "text": [
      "Processing LinkedIn data:  95%|█████████▌| 2054/2152 [14:33<00:46,  2.12it/s]"
     ]
    },
    {
     "name": "stdout",
     "output_type": "stream",
     "text": [
      "Failed to retrieve data for https://www.linkedin.com/in/kimberley-barry after 3 attempts.\n",
      "Attempt 3 failed for https://www.linkedin.com/in/fryw95 with status code 404. Retrying...\n"
     ]
    },
    {
     "name": "stderr",
     "output_type": "stream",
     "text": [
      "Processing LinkedIn data:  96%|█████████▌| 2056/2152 [14:33<00:37,  2.57it/s]"
     ]
    },
    {
     "name": "stdout",
     "output_type": "stream",
     "text": [
      "Attempt 3 failed for https://www.linkedin.com/in/laurentipton with status code 404. Retrying...\n"
     ]
    },
    {
     "name": "stderr",
     "output_type": "stream",
     "text": [
      "Processing LinkedIn data:  96%|█████████▌| 2062/2152 [14:35<00:31,  2.87it/s]"
     ]
    },
    {
     "name": "stdout",
     "output_type": "stream",
     "text": [
      "Attempt 1 failed for https://www.linkedin.com/in/scott-johnston-59b03132 with status code 404. Retrying...\n"
     ]
    },
    {
     "name": "stderr",
     "output_type": "stream",
     "text": [
      "Processing LinkedIn data:  96%|█████████▌| 2063/2152 [14:36<00:31,  2.81it/s]"
     ]
    },
    {
     "name": "stdout",
     "output_type": "stream",
     "text": [
      "Attempt 1 failed for https://www.linkedin.com/in/nicholas-ford-1ab982b with status code 404. Retrying...\n"
     ]
    },
    {
     "name": "stderr",
     "output_type": "stream",
     "text": [
      "Processing LinkedIn data:  96%|█████████▌| 2064/2152 [14:36<00:36,  2.44it/s]"
     ]
    },
    {
     "name": "stdout",
     "output_type": "stream",
     "text": [
      "Attempt 3 failed for https://www.linkedin.com/in/alex-thomas-488a1ab2 with status code 404. Retrying...\n"
     ]
    },
    {
     "name": "stderr",
     "output_type": "stream",
     "text": [
      "Processing LinkedIn data:  96%|█████████▌| 2067/2152 [14:37<00:23,  3.54it/s]"
     ]
    },
    {
     "name": "stdout",
     "output_type": "stream",
     "text": [
      "Failed to retrieve data for https://www.linkedin.com/in/fryw95 after 3 attempts.\n"
     ]
    },
    {
     "name": "stderr",
     "output_type": "stream",
     "text": [
      "Processing LinkedIn data:  96%|█████████▌| 2069/2152 [14:37<00:23,  3.59it/s]"
     ]
    },
    {
     "name": "stdout",
     "output_type": "stream",
     "text": [
      "Failed to retrieve data for https://www.linkedin.com/in/laurentipton after 3 attempts.\n"
     ]
    },
    {
     "name": "stderr",
     "output_type": "stream",
     "text": [
      "Processing LinkedIn data:  97%|█████████▋| 2077/2152 [14:40<00:24,  3.08it/s]"
     ]
    },
    {
     "name": "stdout",
     "output_type": "stream",
     "text": [
      "Failed to retrieve data for https://www.linkedin.com/in/alex-thomas-488a1ab2 after 3 attempts.\n"
     ]
    },
    {
     "name": "stderr",
     "output_type": "stream",
     "text": [
      "Processing LinkedIn data:  97%|█████████▋| 2078/2152 [14:41<00:25,  2.92it/s]"
     ]
    },
    {
     "name": "stdout",
     "output_type": "stream",
     "text": [
      "Attempt 3 failed for https://www.linkedin.com/in/matt-legg-engineer-mba with status code 504. Retrying...\n"
     ]
    },
    {
     "name": "stderr",
     "output_type": "stream",
     "text": [
      "Processing LinkedIn data:  97%|█████████▋| 2079/2152 [14:41<00:30,  2.42it/s]"
     ]
    },
    {
     "name": "stdout",
     "output_type": "stream",
     "text": [
      "Attempt 3 failed for https://www.linkedin.com/in/thebentelcarpenters with status code 404. Retrying...\n",
      "Attempt 1 failed for https://www.linkedin.com/in/domtaylor with status code 404. Retrying...\n"
     ]
    },
    {
     "name": "stderr",
     "output_type": "stream",
     "text": [
      "Processing LinkedIn data:  97%|█████████▋| 2084/2152 [14:44<00:31,  2.13it/s]"
     ]
    },
    {
     "name": "stdout",
     "output_type": "stream",
     "text": [
      "Failed to retrieve data for https://www.linkedin.com/in/matt-legg-engineer-mba after 3 attempts.\n"
     ]
    },
    {
     "name": "stderr",
     "output_type": "stream",
     "text": [
      "Processing LinkedIn data:  97%|█████████▋| 2085/2152 [14:45<00:38,  1.72it/s]"
     ]
    },
    {
     "name": "stdout",
     "output_type": "stream",
     "text": [
      "Attempt 2 failed for https://www.linkedin.com/in/richard-rollins-iii-b6aa8a7 with status code 422. Retrying...\n"
     ]
    },
    {
     "name": "stderr",
     "output_type": "stream",
     "text": [
      "Processing LinkedIn data:  97%|█████████▋| 2090/2152 [14:45<00:18,  3.33it/s]"
     ]
    },
    {
     "name": "stdout",
     "output_type": "stream",
     "text": [
      "Attempt 2 failed for https://www.linkedin.com/in/domtaylor with status code 404. Retrying...\n"
     ]
    },
    {
     "name": "stderr",
     "output_type": "stream",
     "text": [
      "Processing LinkedIn data:  97%|█████████▋| 2092/2152 [14:46<00:16,  3.68it/s]"
     ]
    },
    {
     "name": "stdout",
     "output_type": "stream",
     "text": [
      "Failed to retrieve data for https://www.linkedin.com/in/thebentelcarpenters after 3 attempts.\n"
     ]
    },
    {
     "name": "stderr",
     "output_type": "stream",
     "text": [
      "Processing LinkedIn data:  98%|█████████▊| 2100/2152 [14:48<00:12,  4.19it/s]"
     ]
    },
    {
     "name": "stdout",
     "output_type": "stream",
     "text": [
      "Attempt 3 failed for https://www.linkedin.com/in/lesliebostick with status code 422. Retrying...\n"
     ]
    },
    {
     "name": "stderr",
     "output_type": "stream",
     "text": [
      "Processing LinkedIn data:  98%|█████████▊| 2102/2152 [14:49<00:17,  2.84it/s]"
     ]
    },
    {
     "name": "stdout",
     "output_type": "stream",
     "text": [
      "Attempt 3 failed for https://www.linkedin.com/in/domtaylor with status code 404. Retrying...\n"
     ]
    },
    {
     "name": "stderr",
     "output_type": "stream",
     "text": [
      "Processing LinkedIn data:  98%|█████████▊| 2113/2152 [14:52<00:09,  3.93it/s]"
     ]
    },
    {
     "name": "stdout",
     "output_type": "stream",
     "text": [
      "Failed to retrieve data for https://www.linkedin.com/in/lesliebostick after 3 attempts.\n"
     ]
    },
    {
     "name": "stderr",
     "output_type": "stream",
     "text": [
      "Processing LinkedIn data:  98%|█████████▊| 2119/2152 [14:53<00:08,  3.97it/s]"
     ]
    },
    {
     "name": "stdout",
     "output_type": "stream",
     "text": [
      "Failed to retrieve data for https://www.linkedin.com/in/domtaylor after 3 attempts.\n"
     ]
    },
    {
     "name": "stderr",
     "output_type": "stream",
     "text": [
      "Processing LinkedIn data:  99%|█████████▊| 2121/2152 [14:54<00:08,  3.73it/s]"
     ]
    },
    {
     "name": "stdout",
     "output_type": "stream",
     "text": [
      "Attempt 3 failed for https://www.linkedin.com/in/owen-sweeney-60a63b9b with status code 404. Retrying...\n"
     ]
    },
    {
     "name": "stderr",
     "output_type": "stream",
     "text": [
      "Processing LinkedIn data:  99%|█████████▉| 2129/2152 [14:56<00:06,  3.32it/s]"
     ]
    },
    {
     "name": "stdout",
     "output_type": "stream",
     "text": [
      "Attempt 1 failed for https://www.linkedin.com/in/andrewsiu30 with status code 404. Retrying...\n"
     ]
    },
    {
     "name": "stderr",
     "output_type": "stream",
     "text": [
      "Processing LinkedIn data:  99%|█████████▉| 2131/2152 [14:58<00:11,  1.78it/s]"
     ]
    },
    {
     "name": "stdout",
     "output_type": "stream",
     "text": [
      "Failed to retrieve data for https://www.linkedin.com/in/owen-sweeney-60a63b9b after 3 attempts.\n",
      "Attempt 3 failed for https://www.linkedin.com/in/scottgfarber with status code 404. Retrying...\n"
     ]
    },
    {
     "name": "stderr",
     "output_type": "stream",
     "text": [
      "Processing LinkedIn data:  99%|█████████▉| 2136/2152 [15:03<00:11,  1.39it/s]"
     ]
    },
    {
     "name": "stdout",
     "output_type": "stream",
     "text": [
      "Failed to retrieve data for https://www.linkedin.com/in/scottgfarber after 3 attempts.\n",
      "Attempt 3 failed for https://www.linkedin.com/in/saumya-swagat-cmupb7285e with status code 422. Retrying...\n"
     ]
    },
    {
     "name": "stderr",
     "output_type": "stream",
     "text": [
      "Processing LinkedIn data:  99%|█████████▉| 2139/2152 [15:07<00:14,  1.12s/it]"
     ]
    },
    {
     "name": "stdout",
     "output_type": "stream",
     "text": [
      "Attempt 2 failed for https://www.linkedin.com/in/david-fulton-financial-planner with status code 422. Retrying...\n"
     ]
    },
    {
     "name": "stderr",
     "output_type": "stream",
     "text": [
      "Processing LinkedIn data:  99%|█████████▉| 2140/2152 [15:09<00:15,  1.27s/it]"
     ]
    },
    {
     "name": "stdout",
     "output_type": "stream",
     "text": [
      "Failed to retrieve data for https://www.linkedin.com/in/saumya-swagat-cmupb7285e after 3 attempts.\n",
      "Attempt 1 failed for https://www.linkedin.com/in/louise-keech-office-manager with status code 422. Retrying...\n",
      "Attempt 3 failed for https://www.linkedin.com/in/chris-marlow-837450a1 with status code 422. Retrying...\n"
     ]
    },
    {
     "name": "stderr",
     "output_type": "stream",
     "text": [
      "Processing LinkedIn data: 100%|█████████▉| 2142/2152 [15:16<00:20,  2.06s/it]"
     ]
    },
    {
     "name": "stdout",
     "output_type": "stream",
     "text": [
      "Failed to retrieve data for https://www.linkedin.com/in/chris-marlow-837450a1 after 3 attempts.\n",
      "Attempt 1 failed for https://www.linkedin.com/in/dan-combs-7b9344112 with status code 422. Retrying...\n",
      "Attempt 2 failed for https://www.linkedin.com/in/nicholas-ford-1ab982b with status code 404. Retrying...\n"
     ]
    },
    {
     "name": "stderr",
     "output_type": "stream",
     "text": [
      "Processing LinkedIn data: 100%|█████████▉| 2143/2152 [15:27<00:40,  4.45s/it]"
     ]
    },
    {
     "name": "stdout",
     "output_type": "stream",
     "text": [
      "Attempt 2 failed for https://www.linkedin.com/in/stephanie-newport-booth-05a5b270 with status code 422. Retrying...\n",
      "Attempt 3 failed for https://www.linkedin.com/in/sofia-corcho with status code 422. Retrying...\n",
      "Attempt 2 failed for https://www.linkedin.com/in/stephen-aupy-2b0171124 with status code 404. Retrying...\n"
     ]
    },
    {
     "name": "stderr",
     "output_type": "stream",
     "text": [
      "Processing LinkedIn data: 100%|█████████▉| 2144/2152 [16:07<01:57, 14.63s/it]"
     ]
    },
    {
     "name": "stdout",
     "output_type": "stream",
     "text": [
      "Failed to retrieve data for https://www.linkedin.com/in/sofia-corcho after 3 attempts.\n",
      "Attempt 2 failed for https://www.linkedin.com/in/andrewsiu30 with status code 404. Retrying...\n",
      "Attempt 1 failed for https://www.linkedin.com/in/darrell-coker-94778999 with status code 422. Retrying...\n",
      "Attempt 3 failed for https://www.linkedin.com/in/stephen-aupy-2b0171124 with status code 404. Retrying...\n"
     ]
    },
    {
     "name": "stderr",
     "output_type": "stream",
     "text": [
      "Processing LinkedIn data: 100%|█████████▉| 2145/2152 [16:46<02:30, 21.51s/it]"
     ]
    },
    {
     "name": "stdout",
     "output_type": "stream",
     "text": [
      "Failed to retrieve data for https://www.linkedin.com/in/stephen-aupy-2b0171124 after 3 attempts.\n",
      "Attempt 3 failed for https://www.linkedin.com/in/richard-rollins-iii-b6aa8a7 with status code 422. Retrying...\n"
     ]
    },
    {
     "name": "stderr",
     "output_type": "stream",
     "text": [
      "Processing LinkedIn data: 100%|█████████▉| 2146/2152 [16:51<01:40, 16.73s/it]"
     ]
    },
    {
     "name": "stdout",
     "output_type": "stream",
     "text": [
      "Failed to retrieve data for https://www.linkedin.com/in/richard-rollins-iii-b6aa8a7 after 3 attempts.\n",
      "Attempt 2 failed for https://www.linkedin.com/in/scott-johnston-59b03132 with status code 404. Retrying...\n",
      "Attempt 3 failed for https://www.linkedin.com/in/nicholas-ford-1ab982b with status code 404. Retrying...\n"
     ]
    },
    {
     "name": "stderr",
     "output_type": "stream",
     "text": [
      "Processing LinkedIn data: 100%|█████████▉| 2147/2152 [16:59<01:10, 14.14s/it]"
     ]
    },
    {
     "name": "stdout",
     "output_type": "stream",
     "text": [
      "Failed to retrieve data for https://www.linkedin.com/in/nicholas-ford-1ab982b after 3 attempts.\n",
      "Attempt 2 failed for https://www.linkedin.com/in/darrell-coker-94778999 with status code 422. Retrying...\n",
      "Attempt 3 failed for https://www.linkedin.com/in/stephanie-newport-booth-05a5b270 with status code 422. Retrying...\n",
      "Attempt 3 failed for https://www.linkedin.com/in/scott-johnston-59b03132 with status code 404. Retrying...\n"
     ]
    },
    {
     "name": "stderr",
     "output_type": "stream",
     "text": [
      "Processing LinkedIn data: 100%|█████████▉| 2148/2152 [17:42<01:30, 22.75s/it]"
     ]
    },
    {
     "name": "stdout",
     "output_type": "stream",
     "text": [
      "Failed to retrieve data for https://www.linkedin.com/in/stephanie-newport-booth-05a5b270 after 3 attempts.\n"
     ]
    },
    {
     "name": "stderr",
     "output_type": "stream",
     "text": [
      "Processing LinkedIn data: 100%|█████████▉| 2149/2152 [17:43<00:49, 16.39s/it]"
     ]
    },
    {
     "name": "stdout",
     "output_type": "stream",
     "text": [
      "Failed to retrieve data for https://www.linkedin.com/in/scott-johnston-59b03132 after 3 attempts.\n",
      "Attempt 3 failed for https://www.linkedin.com/in/darrell-coker-94778999 with status code 404. Retrying...\n",
      "Attempt 3 failed for https://www.linkedin.com/in/david-fulton-financial-planner with status code 504. Retrying...\n",
      "Attempt 3 failed for https://www.linkedin.com/in/andrewsiu30 with status code 404. Retrying...\n"
     ]
    },
    {
     "name": "stderr",
     "output_type": "stream",
     "text": [
      "Processing LinkedIn data: 100%|█████████▉| 2150/2152 [18:15<00:41, 20.87s/it]"
     ]
    },
    {
     "name": "stdout",
     "output_type": "stream",
     "text": [
      "Failed to retrieve data for https://www.linkedin.com/in/darrell-coker-94778999 after 3 attempts.\n",
      "Failed to retrieve data for https://www.linkedin.com/in/david-fulton-financial-planner after 3 attempts.\n"
     ]
    },
    {
     "name": "stderr",
     "output_type": "stream",
     "text": [
      "Processing LinkedIn data: 100%|██████████| 2152/2152 [18:17<00:00,  1.96it/s]"
     ]
    },
    {
     "name": "stdout",
     "output_type": "stream",
     "text": [
      "Failed to retrieve data for https://www.linkedin.com/in/andrewsiu30 after 3 attempts.\n",
      "Progress saved to the output file.\n"
     ]
    },
    {
     "name": "stderr",
     "output_type": "stream",
     "text": [
      "\n"
     ]
    }
   ],
   "source": [
    "import pandas as pd\n",
    "import requests\n",
    "from bs4 import BeautifulSoup\n",
    "import os\n",
    "from concurrent.futures import ThreadPoolExecutor, as_completed\n",
    "from tqdm import tqdm\n",
    "import time\n",
    "\n",
    "# File paths for checkpoint and output\n",
    "PROGRESS_FILE = 'progress_checkpoint.csv'\n",
    "OUTPUT_FILE = 'output_with_job_check.csv'\n",
    "\n",
    "# Load the CSV into a DataFrame or resume from the last checkpoint\n",
    "if os.path.exists(PROGRESS_FILE):\n",
    "    df = pd.read_csv(PROGRESS_FILE)\n",
    "    print(\"Resuming from the last checkpoint.\")\n",
    "else:\n",
    "    df = pd.read_csv('linkedin_people.csv')\n",
    "    df['current_job_at_company'] = None  # Initialize the new column\n",
    "    print(\"Starting from the beginning.\")\n",
    "\n",
    "# Define the Zenrows API key and endpoint\n",
    "ZENROWS_API_KEY = '2fb712f035250fa0feba32543c584318e4894544'\n",
    "ZENROWS_ENDPOINT = 'https://api.zenrows.com/v1/'\n",
    "\n",
    "# Function to call Zenrows and parse the job positions with exponential retry\n",
    "def get_job_positions(index, linkedin_url, company_name):\n",
    "    max_retries = 3\n",
    "    for attempt in range(max_retries):\n",
    "        try:\n",
    "            params = {\n",
    "                'apikey': ZENROWS_API_KEY,\n",
    "                'url': linkedin_url,\n",
    "                'js_render': 'true',\n",
    "                'premium_proxy': 'true',\n",
    "            }\n",
    "            \n",
    "            response = requests.get(ZENROWS_ENDPOINT, params=params)\n",
    "            if response.status_code == 200:\n",
    "                soup = BeautifulSoup(response.text, 'html.parser')\n",
    "                job_positions = []\n",
    "\n",
    "                # Find grouped job experiences\n",
    "                experience_groups = soup.find_all('li', class_='experience-group')\n",
    "                for group in experience_groups:\n",
    "                    company_header_tag = group.find('h4', class_='experience-group-header__company')\n",
    "                    if company_header_tag:\n",
    "                        company_group_name = company_header_tag.text.strip()\n",
    "\n",
    "                        # Find individual job positions within the group\n",
    "                        grouped_jobs = group.find_all('li', class_='experience-group-position')\n",
    "                        for job in grouped_jobs:\n",
    "                            time_range_tag = job.find('span', class_='date-range text-color-text-secondary font-sans text-md leading-open font-regular')\n",
    "                            if time_range_tag:\n",
    "                                time_range = time_range_tag.text.strip()\n",
    "                                job_positions.append((company_group_name, time_range))\n",
    "\n",
    "                # Find standalone job positions outside of groups\n",
    "                standalone_jobs = soup.find_all('li', class_='profile-section-card relative flex w-full list-none py-1.5 pr-2 pl-1 experience-item')\n",
    "                for job in standalone_jobs:\n",
    "                    company_name_tag = job.find('span', class_='experience-item__subtitle')\n",
    "                    time_range_tag = job.find('span', class_='date-range text-color-text-secondary font-sans text-md leading-open font-regular')\n",
    "\n",
    "                    if company_name_tag and time_range_tag:\n",
    "                        company = company_name_tag.text.strip()\n",
    "                        time_range = time_range_tag.text.strip()\n",
    "                        job_positions.append((company, time_range))\n",
    "\n",
    "                # Check if any position matches the given company and contains \"Present\"\n",
    "                for company, time_range in job_positions:\n",
    "                    if (company.lower() == company_name.lower() or company.lower() in company_name.lower() or  company_name.lower() in company.lower()) and 'Present' in time_range:\n",
    "                        return index, True\n",
    "                \n",
    "                if not job_positions:\n",
    "                    return index, \"Not Found\"\n",
    "\n",
    "                return index, False\n",
    "            else:\n",
    "                print(f\"Attempt {attempt + 1} failed for {linkedin_url} with status code {response.status_code}. Retrying...\")\n",
    "        except requests.exceptions.RequestException as e:\n",
    "            print(f\"Attempt {attempt + 1} failed for {linkedin_url} with error: {e}. Retrying...\")\n",
    "\n",
    "        # Exponential backoff: wait for 2^attempt seconds before retrying\n",
    "        time.sleep(2 ** attempt)\n",
    "\n",
    "    # If all retries fail, log the failure and return None\n",
    "    print(f\"Failed to retrieve data for {linkedin_url} after {max_retries} attempts.\")\n",
    "    return index, None\n",
    "\n",
    "# Process rows with non-empty LinkedIn URLs in parallel for the first 20 rows\n",
    "try:\n",
    "    with ThreadPoolExecutor(max_workers=40) as executor:\n",
    "        futures = []\n",
    "        \n",
    "        for index, row in df.iterrows():\n",
    "            if pd.notna(row['linkedin_url']) and (pd.isna(row['current_job_at_company']) or not row['current_job_at_company']):\n",
    "                futures.append(\n",
    "                    executor.submit(get_job_positions, index, row['linkedin_url'], row['company'])\n",
    "                )\n",
    "\n",
    "        # Use tqdm to show progress as tasks are completed\n",
    "        for future in tqdm(as_completed(futures), total=len(futures), desc=\"Processing LinkedIn data\"):\n",
    "            index, result = future.result()\n",
    "            if result is not None:\n",
    "                df.at[index, 'current_job_at_company'] = result\n",
    "\n",
    "            # Save progress after each processed row\n",
    "            df.to_csv(PROGRESS_FILE, index=False)\n",
    "except Exception as e:\n",
    "    print(f\"An error occurred: {e}\")\n",
    "finally:\n",
    "    # Save the final result to the output file\n",
    "    df.to_csv(OUTPUT_FILE, index=False)\n",
    "    print(\"Progress saved to the output file.\")\n"
   ]
  }
 ],
 "metadata": {
  "kernelspec": {
   "display_name": "maquinillo-h_Y_WDD6-py3.10",
   "language": "python",
   "name": "python3"
  },
  "language_info": {
   "codemirror_mode": {
    "name": "ipython",
    "version": 3
   },
   "file_extension": ".py",
   "mimetype": "text/x-python",
   "name": "python",
   "nbconvert_exporter": "python",
   "pygments_lexer": "ipython3",
   "version": "3.10.8"
  }
 },
 "nbformat": 4,
 "nbformat_minor": 2
}

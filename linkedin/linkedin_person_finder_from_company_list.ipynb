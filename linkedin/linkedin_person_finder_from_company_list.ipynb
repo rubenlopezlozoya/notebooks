{
  "cells": [
    {
      "cell_type": "code",
      "execution_count": null,
      "metadata": {
        "id": "xX0_ejeAza1B"
      },
      "outputs": [],
      "source": [
        "\n",
        "# DESCRIPTION\n",
        "# This notebook receives an input file with an \"ID\" column representing the company LinkedIn IDs or a list of company domains that we want to scrape for.\n",
        "# It uses the provided LinkedIn cookie to scrape Sales Nav for the target persona and calls BetterContact to find emails.\n",
        "import csv\n",
        "import requests\n",
        "import json\n",
        "import time\n",
        "import re\n",
        "import random\n",
        "import ipywidgets as widgets\n",
        "from IPython.display import display\n",
        "import pandas as pd\n",
        "import urllib.parse\n",
        "import http.client\n",
        "from bs4 import BeautifulSoup\n",
        "import concurrent.futures\n",
        "\n",
        "# ENV Variables\n",
        "SERPER_API_KEY = '<API_KEY>'\n",
        "ZENROWS_API_KEY = '<API_KEY>'\n",
        "DOMAIN_COLUMN = 'domain' # Column where domain name is found\n",
        "\n",
        "\n",
        "\n",
        "# Function to decode the entire URL-encoded query string\n",
        "def extract_li_query(full_url):\n",
        "    parsed_url = urllib.parse.urlparse(full_url)\n",
        "    query_params = urllib.parse.parse_qs(parsed_url.query)\n",
        "    query_value = query_params.get('query', [None])[0]\n",
        "    return urllib.parse.unquote(query_value)\n",
        "\n",
        "# Function to encode \"text\" values back\n",
        "def encode_text_values(match):\n",
        "    text_value = match.group(1)\n",
        "    return f\"text:{urllib.parse.quote(text_value)}\"\n",
        "\n",
        "# Function to encode URN substring\n",
        "def url_encode_urn_substring(input_string):\n",
        "    pattern = r'(urn:[^,]*)(,?)'\n",
        "    def encode_match(match):\n",
        "        urn_part = match.group(1)\n",
        "        encoded_urn = urllib.parse.quote(urn_part)\n",
        "        return encoded_urn + match.group(2)\n",
        "    return re.sub(pattern, encode_match, input_string)\n",
        "\n",
        "# Function to find the LinkedIn URL\n",
        "def find_linkedin_url(company_name):\n",
        "    conn = http.client.HTTPSConnection(\"google.serper.dev\")\n",
        "    payload = json.dumps({\n",
        "        \"q\": f\"{company_name} site:linkedin.com/company\"\n",
        "    })\n",
        "    headers = {\n",
        "        'X-API-KEY': SERPER_API_KEY,\n",
        "        'Content-Type': 'application/json'\n",
        "    }\n",
        "    conn.request(\"POST\", \"/search\", payload, headers)\n",
        "    res = conn.getresponse()\n",
        "    data = res.read().decode(\"utf-8\")\n",
        "    results = json.loads(data)\n",
        "    if not results or not results.get('organic'):\n",
        "        return None\n",
        "    website = results['organic'][0]['link']\n",
        "    return website\n",
        "\n",
        "# Function to extract LinkedIn company ID\n",
        "def extract_linkedin_company_id(linkedin_url):\n",
        "    print(f\"Fetching {linkedin_url}\")\n",
        "    try:\n",
        "        params = {\n",
        "            'url': linkedin_url,\n",
        "            'apikey': ZENROWS_API_KEY,\n",
        "            'js_render': 'true',\n",
        "            'custom_headers': 'true',\n",
        "            'premium_proxy': 'true',\n",
        "            'wait_for': '[data-entity-id]'\n",
        "        }\n",
        "        headers = {\n",
        "            'User-Agent': 'Mozilla/5.0 (X11; Linux x86_64) AppleWebKit/537.36 (KHTML, like Gecko) Chrome/126.0.0.0 Safari/537.36',\n",
        "        }\n",
        "\n",
        "        retries = 4\n",
        "        backoff_factor = 2\n",
        "        initial_wait = 2  # initial wait time in seconds\n",
        "\n",
        "        for attempt in range(retries):\n",
        "            response = requests.get('https://api.zenrows.com/v1/', params=params, headers=headers)\n",
        "\n",
        "            if response.status_code == 200:\n",
        "                soup = BeautifulSoup(response.content, 'html.parser')\n",
        "\n",
        "                # Use regex to find the number in the format urn:li:organization:<number>\n",
        "                linkedin_company_id_match = re.search(r'urn:li:organization:(\\d+)', str(soup))\n",
        "\n",
        "                if linkedin_company_id_match:\n",
        "                    return linkedin_company_id_match.group(1)\n",
        "\n",
        "            print(f\"Error crawling {linkedin_url}: {response.text}, attempt {attempt + 1} of {retries}\")\n",
        "            wait_time = initial_wait * (backoff_factor ** attempt)\n",
        "            time.sleep(wait_time)  # Exponential backoff\n",
        "    except Exception as e:\n",
        "        print(f\"Exception occurred: {e}\")\n",
        "        return None\n",
        "    return None\n",
        "\n",
        "# Function to process a single company's domain\n",
        "def get_company_linkedin_data(company_domain):\n",
        "    linkedin_url = find_linkedin_url(company_domain)\n",
        "    if not linkedin_url:\n",
        "        return {\n",
        "            'domain': company_domain,\n",
        "            'linkedin_company_id': None,\n",
        "            'linkedin_company_urn': None,\n",
        "            'linkedin_company_url': None\n",
        "        }\n",
        "    linkedin_company_id = extract_linkedin_company_id(linkedin_url)\n",
        "    if linkedin_company_id:\n",
        "        linkedin_company_urn = f'(id%3Aurn%253Ali%253Aorganization%253A{linkedin_company_id}%2CselectionType%3AINCLUDED)'\n",
        "        linkedin_company_url = f'https://linkedin.com/company/{linkedin_company_id}'\n",
        "    else:\n",
        "        linkedin_company_urn = None\n",
        "        linkedin_company_url = None\n",
        "\n",
        "    return {\n",
        "        'domain': company_domain,\n",
        "        'linkedin_company_id': linkedin_company_id,\n",
        "        'linkedin_company_urn': linkedin_company_urn,\n",
        "        'linkedin_company_url': linkedin_company_url\n",
        "    }\n",
        "\n",
        "\n",
        "# LinkedIn API request function with progress bar and error handling\n",
        "def make_linkedin_request(li_query, cookie, csrf_token, total_searches, query_type=\"salesApiLeadSearch\", decoration_id=\"com.linkedin.sales.deco.desktop.searchv2.LeadSearchResult-14\"):\n",
        "    start = 0\n",
        "    count = 25\n",
        "    all_elements = []\n",
        "    headers = {\n",
        "        'cookie': cookie,\n",
        "        'csrf-token': csrf_token,\n",
        "        'x-restli-protocol-version': '2.0.0'\n",
        "    }\n",
        "\n",
        "    while True:\n",
        "        request_url = f'https://www.linkedin.com/sales-api/{query_type}?q=searchQuery&query={li_query}&start={start}&count={count}&decorationId={decoration_id}'\n",
        "\n",
        "        response = requests.get(request_url, headers=headers)\n",
        "\n",
        "        if response.status_code != 200:\n",
        "            print(f\"Error: Received status code {response.status_code} for URL: {request_url}\")\n",
        "            break\n",
        "\n",
        "        response_data = response.json()\n",
        "        elements = response_data.get('elements', [])\n",
        "        all_elements.extend(elements)\n",
        "        paging = response_data.get('paging', {})\n",
        "        total = int(paging.get('total', 0))\n",
        "        start += count\n",
        "        total_searches += 1\n",
        "\n",
        "        if start >= total or total_searches >= 1:\n",
        "            break\n",
        "\n",
        "    return all_elements, total_searches\n",
        "\n",
        "# Function to load CSV and process IDs or domains.\n",
        "def load_and_process_csv(file_path, list_type, domain_column_name):\n",
        "\n",
        "    df = pd.read_csv(file_path, dtype={'ID': str})\n",
        "\n",
        "    if list_type == 'Domain':\n",
        "\n",
        "      # Using ThreadPoolExecutor to run 10 concurrent rows at a time\n",
        "      with concurrent.futures.ThreadPoolExecutor(max_workers=10) as executor:\n",
        "          results = list(executor.map(get_company_linkedin_data, df[domain_column_name]))\n",
        "\n",
        "      # Convert the results into a DataFrame\n",
        "      results_df = pd.DataFrame(results)\n",
        "\n",
        "      # Drop rows with missing LinkedIn company ID and remove duplicates\n",
        "      results_df = results_df.dropna(subset=['linkedin_company_urn']).drop_duplicates(subset=['linkedin_company_urn'])\n",
        "\n",
        "      return results_df['linkedin_company_urn'].tolist()\n",
        "\n",
        "    else:\n",
        "      df = df.dropna(subset=['ID']).drop_duplicates(subset=['ID'])\n",
        "\n",
        "      return df[\"ID\"].apply(lambda linkedin_id: f'(id%3Aurn%253Ali%253Aorganization%253A{linkedin_id}%2CselectionType%3AINCLUDED)').tolist()\n",
        "\n",
        "# Function to group list into batches\n",
        "def group_into_batches(lst, batch_size=20):\n",
        "    for i in range(0, len(lst), batch_size):\n",
        "        yield lst[i:i+batch_size]\n",
        "\n",
        "# Function to randomly sleep for rate-limiting\n",
        "def sleep_random_time():\n",
        "    time.sleep(2 * random.random())\n",
        "\n",
        "# BetterContact API request function for bulk data\n",
        "def call_better_contact_api_bulk(data_list):\n",
        "    url = \"https://app.bettercontact.rocks/api/v2/async\"\n",
        "    querystring = {\"api_key\":\"<API_KEY>\"}\n",
        "\n",
        "    payload = {\n",
        "        \"data\": data_list,\n",
        "        \"webhook\": \"https://hooks.zapier.com/hooks/catch/9883452/251gst6/\",\n",
        "        \"verify_catch_all\": True,\n",
        "        \"enrich_phone_number\": False,\n",
        "    }\n",
        "    headers = {\"Content-Type\": \"application/json\"}\n",
        "\n",
        "\n",
        "    response = requests.request(\"POST\", url, json=payload, headers=headers, params=querystring)\n",
        "\n",
        "    if response.status_code == 201:\n",
        "        print(f\"Success: {response.json()}\")\n",
        "    else:\n",
        "        print(f\"Error: {response.status_code}, {response.text}\")\n",
        "\n",
        "# Base URLs for different query types\n",
        "query_base_urls = {\n",
        "    \"Founders\": \"https://www.linkedin.com/sales/search/people?query=(recentSearchParam%3A(id%3A3126161513%2CdoLogHistory%3Atrue)%2Cfilters%3AList((type%3ACURRENT_TITLE%2Cvalues%3AList((id%3A8%2Ctext%3AChief%2520Executive%2520Officer%2CselectionType%3AINCLUDED)%2C(id%3A35%2Ctext%3AFounder%2CselectionType%3AINCLUDED)%2C(id%3A103%2Ctext%3ACo-Founder%2CselectionType%3AINCLUDED)))%2C(type%3AREGION%2Cvalues%3AList((id%3A103644278%2Ctext%3AUnited%2520States%2CselectionType%3AINCLUDED)%2C(id%3A101165590%2Ctext%3AUnited%2520Kingdom%2CselectionType%3AINCLUDED)%2C(id%3A105646813%2Ctext%3ASpain%2CselectionType%3AINCLUDED)%2C(id%3A100456013%2Ctext%3AFinland%2CselectionType%3AINCLUDED)%2C(id%3A105117694%2Ctext%3ASweden%2CselectionType%3AINCLUDED)%2C(id%3A100565514%2Ctext%3ABelgium%2CselectionType%3AINCLUDED)%2C(id%3A102890719%2Ctext%3ANetherlands%2CselectionType%3AINCLUDED)%2C(id%3A104042105%2Ctext%3ALuxembourg%2CselectionType%3AINCLUDED)%2C(id%3A101174742%2Ctext%3ACanada%2CselectionType%3AINCLUDED)))%2C(type%3ACURRENT_COMPANY%2Cvalues%3AList({list}))))&sessionId=T26sTufNShK1Bdm%2BATCbtw%3D%3D\",\n",
        "    \"Finance\": \"https://www.linkedin.com/sales/search/people?query=(recentSearchParam%3A(id%3A3365498601%2CdoLogHistory%3Atrue)%2Cfilters%3AList((type%3AFUNCTION%2Cvalues%3AList((id%3A26%2Ctext%3AFinance%2CselectionType%3AINCLUDED)))%2C(type%3ASENIORITY_LEVEL%2Cvalues%3AList((id%3A220%2Ctext%3ADirector%2CselectionType%3AINCLUDED)%2C(id%3A200%2Ctext%3AEntry%2520Level%2520Manager%2CselectionType%3AINCLUDED)%2C(id%3A130%2Ctext%3AStrategic%2CselectionType%3AINCLUDED)%2C(id%3A210%2Ctext%3AExperienced%2520Manager%2CselectionType%3AINCLUDED)%2C(id%3A310%2Ctext%3ACXO%2CselectionType%3AINCLUDED)%2C(id%3A300%2Ctext%3AVice%2520President%2CselectionType%3AINCLUDED)%2C(id%3A320%2Ctext%3AOwner%2520%252F%2520Partner%2CselectionType%3AINCLUDED)))%2C(type%3AREGION%2Cvalues%3AList((id%3A103644278%2Ctext%3AUnited%2520States%2CselectionType%3AINCLUDED)%2C(id%3A101165590%2Ctext%3AUnited%2520Kingdom%2CselectionType%3AINCLUDED)%2C(id%3A101174742%2Ctext%3ACanada%2CselectionType%3AINCLUDED)%2C(id%3A102890719%2Ctext%3ANetherlands%2CselectionType%3AINCLUDED)%2C(id%3A105646813%2Ctext%3ASpain%2CselectionType%3AINCLUDED)))%2C(type%3ACURRENT_COMPANY%2Cvalues%3AList({list}))))&sessionId=53xZKPF3TB6JlmpsRw2THw%3D%3D\",\n",
        "    \"Sales\": \"https://www.linkedin.com/sales/search/people?query=(recentSearchParam%3A(id%3A3365498601%2CdoLogHistory%3Atrue)%2Cfilters%3AList((type%3AFUNCTION%2Cvalues%3AList((id%3A26%2Ctext%3ASales%2CselectionType%3AINCLUDED)))%2C(type%3ASENIORITY_LEVEL%2Cvalues%3AList((id%3A220%2Ctext%3ADirector%2CselectionType%3AINCLUDED)%2C(id%3A200%2Ctext%3AEntry%2520Level%2520Manager%2CselectionType%3AINCLUDED)%2C(id%3A130%2Ctext%3AStrategic%2CselectionType%3AINCLUDED)%2C(id%3A210%2Ctext%3AExperienced%2520Manager%2CselectionType%3AINCLUDED)%2C(id%3A310%2Ctext%3ACXO%2CselectionType%3AINCLUDED)%2C(id%3A300%2Ctext%3AVice%2520President%2CselectionType%3AINCLUDED)%2C(id%3A320%2Ctext%3AOwner%2520%252F%2520Partner%2CselectionType%3AINCLUDED)))%2C(type%3AREGION%2Cvalues%3AList((id%3A103644278%2Ctext%3AUnited%2520States%2CselectionType%3AINCLUDED)%2C(id%3A101165590%2Ctext%3AUnited%2520Kingdom%2CselectionType%3AINCLUDED)%2C(id%3A101174742%2Ctext%3ACanada%2CselectionType%3AINCLUDED)%2C(id%3A102890719%2Ctext%3ANetherlands%2CselectionType%3AINCLUDED)%2C(id%3A105646813%2Ctext%3ASpain%2CselectionType%3AINCLUDED)))%2C(type%3ACURRENT_COMPANY%2Cvalues%3AList({list}))))&sessionId=53xZKPF3TB6JlmpsRw2THw%3D%3D\"\n",
        "    \"Customer Success\": \"https://www.linkedin.com/sales/search/people?query=(recentSearchParam%3A(id%3A3365498601%2CdoLogHistory%3Atrue)%2Cfilters%3AList((type%3AFUNCTION%2Cvalues%3AList((id%3A26%2Ctext%3ACustomer%2520Success%2520and%2520Support%2CselectionType%3AINCLUDED)))%2C(type%3ASENIORITY_LEVEL%2Cvalues%3AList((id%3A220%2Ctext%3ADirector%2CselectionType%3AINCLUDED)%2C(id%3A200%2Ctext%3AEntry%2520Level%2520Manager%2CselectionType%3AINCLUDED)%2C(id%3A130%2Ctext%3AStrategic%2CselectionType%3AINCLUDED)%2C(id%3A210%2Ctext%3AExperienced%2520Manager%2CselectionType%3AINCLUDED)%2C(id%3A310%2Ctext%3ACXO%2CselectionType%3AINCLUDED)%2C(id%3A300%2Ctext%3AVice%2520President%2CselectionType%3AINCLUDED)%2C(id%3A320%2Ctext%3AOwner%2520%252F%2520Partner%2CselectionType%3AINCLUDED)))%2C(type%3AREGION%2Cvalues%3AList((id%3A103644278%2Ctext%3AUnited%2520States%2CselectionType%3AINCLUDED)%2C(id%3A101165590%2Ctext%3AUnited%2520Kingdom%2CselectionType%3AINCLUDED)%2C(id%3A101174742%2Ctext%3ACanada%2CselectionType%3AINCLUDED)%2C(id%3A102890719%2Ctext%3ANetherlands%2CselectionType%3AINCLUDED)%2C(id%3A105646813%2Ctext%3ASpain%2CselectionType%3AINCLUDED)))%2C(type%3ACURRENT_COMPANY%2Cvalues%3AList({list}))))&sessionId=53xZKPF3TB6JlmpsRw2THw%3D%3D\"\n",
        "}\n",
        "\n"
      ]
    },
    {
      "cell_type": "code",
      "execution_count": null,
      "metadata": {
        "colab": {
          "base_uri": "https://localhost:8080/",
          "height": 1000,
          "referenced_widgets": [
            "644dbe80e9c44c7491b176fce6cdaf4a",
            "47bbab6860984ce58d5db9fe427f583c",
            "e9879f77f4124932aaaa555178fe4c87",
            "aaf2287b55dc43c8b92fc6bbd6e448a0",
            "5b9152080ea54fdda1fafb7764d9cb51",
            "652dea9881eb47d8bfe35952e428ffbd",
            "69e67905b6b543c2a30883d2d0d920dc",
            "5e67d1fcb7da4f3c9da1e26e085bbbd1",
            "097ff685c96b4ea4b37357fd412600b7",
            "831e01bfd61a4fdbac94fe769d49d60d",
            "69aa40ccd35344d39916ae8baee63d9b",
            "590525204d78419c9a2fa6fa691f5572",
            "9fe62a2de4ca42589d07382a8a7e71ba",
            "ab2be96db4f1454aa84774cf845a4775"
          ]
        },
        "id": "jHn7fNQvmBVv",
        "outputId": "689493c2-4363-4e07-d44d-de4c2c5a09a1"
      },
      "outputs": [],
      "source": [
        "# This piece just processes the company list and prepares it for the person prospection in the next cell.\n",
        "strings = []\n",
        "input_file_input = widgets.Text(description=\"Input File:\", value=\"domains.csv\")\n",
        "domain_name_column = widgets.Text(description=\"Domain col:\", value=\"domain\")\n",
        "list_type_options = widgets.Dropdown(\n",
        "    options=[\"Domain\", \"ID\"],\n",
        "    description=\"List type\"\n",
        ")\n",
        "run_button = widgets.Button(description=\"Run Script\")\n",
        "output_area = widgets.Output()\n",
        "\n",
        "# Display the GUI\n",
        "display(input_file_input, list_type_options, domain_name_column, run_button, output_area)\n",
        "\n",
        "# Function to process everything and generate output\n",
        "def process_data(_):\n",
        "    global strings\n",
        "    with output_area:\n",
        "        output_area.clear_output()\n",
        "        input_file = input_file_input.value\n",
        "        list_type = list_type_options.value\n",
        "        domain_column = domain_name_column.value\n",
        "\n",
        "        if not input_file or not list_type or not domain_column:\n",
        "            print(\"Please fill all fields.\")\n",
        "            return\n",
        "\n",
        "        strings = load_and_process_csv(input_file, list_type, domain_column)\n",
        "\n",
        "# Bind button click to processing function\n",
        "run_button.on_click(process_data)"
      ]
    },
    {
      "cell_type": "code",
      "execution_count": null,
      "metadata": {
        "colab": {
          "base_uri": "https://localhost:8080/",
          "height": 171,
          "referenced_widgets": [
            "b3be777b18f3424cbc0ab612e1040f74",
            "dab8ca106f5548e2aee758a4525ac7c8",
            "8fb69810fb85456b8382c85dfac1bf0a",
            "9da8cd4d2e394a17be35f320e5010c84",
            "ba65999be7f9412b9a476866579670d6",
            "6ca3deeece6a470d995d0c9fa0b8ddb3",
            "996cbd382848437fad97a3384ca1ab14",
            "2bb7bd2eb7b447408007f1600e990262",
            "367c01da36ae48d5b70507358fdcf9fb",
            "4517db6dd889462ca8525e5af2e7869e",
            "0d6f718f807549b7a6480cf252986fb8",
            "9cc69e06818f49258b82317d310a253a",
            "5eef82a63b83461891c2b0cc36c766b4",
            "117f32f4098a4619bb6c38d54bf01e08",
            "883ff13e45f3415f913e773b6ad6e116",
            "53f535122e314c0f97dee7087d4ceff5",
            "723d64ec3d724eba93b41ba859da682c"
          ]
        },
        "id": "Lct9vGB-nFWp",
        "outputId": "ee31625e-2191-4385-8440-31b90bca1d77"
      },
      "outputs": [],
      "source": [
        "# GUI Elements\n",
        "cookie_input = widgets.Text(description=\"Cookie:\")\n",
        "csrf_token_input = widgets.Text(description=\"CSRF Token:\")\n",
        "output_file_input = widgets.Text(description=\"Output File:\", value=\"output.csv\")\n",
        "query_options = widgets.Dropdown(\n",
        "    options=[\"Sales\", \"Finance\", \"Founders\"],\n",
        "    description=\"Query Type:\"\n",
        ")\n",
        "run_button = widgets.Button(description=\"Run Script\")\n",
        "output_area = widgets.Output()\n",
        "\n",
        "# Display the GUI\n",
        "display(cookie_input, csrf_token_input, output_file_input, query_options, run_button, output_area)\n",
        "\n",
        "# Function to process everything and generate output\n",
        "def process_data(_):\n",
        "    with output_area:\n",
        "        output_area.clear_output()\n",
        "        cookie = cookie_input.value\n",
        "        csrf_token = csrf_token_input.value\n",
        "        input_file = input_file_input.value\n",
        "        output_file = output_file_input.value\n",
        "        query_type = query_options.value\n",
        "        base_url = query_base_urls[query_type]\n",
        "        list_type = list_type_options.value\n",
        "\n",
        "        if not cookie or not csrf_token or not output_file:\n",
        "            print(\"Please fill all fields.\")\n",
        "            return\n",
        "        batches = list(group_into_batches(strings, 20))\n",
        "        urls = [base_url.replace(\"{list}\", \"%2C\".join(batch)) for batch in batches]\n",
        "\n",
        "        # Initialize progress bar\n",
        "        progress_bar = widgets.IntProgress(value=0, min=0, max=len(urls), description=\"Progress:\")\n",
        "        display(progress_bar)\n",
        "\n",
        "        lead_data = []\n",
        "        total_searches = 0\n",
        "\n",
        "        for url in urls:\n",
        "            li_query = re.sub(r'text:([^,)]*)', encode_text_values, extract_li_query(url))\n",
        "            li_query = url_encode_urn_substring(li_query)\n",
        "            leads, total_searches = make_linkedin_request(li_query, cookie, csrf_token, total_searches)\n",
        "            lead_data.extend(leads)\n",
        "\n",
        "            progress_bar.value += 1  # Update progress bar\n",
        "            sleep_random_time()\n",
        "\n",
        "        final_df = pd.DataFrame(lead_data)\n",
        "\n",
        "\n",
        "        final_df['currentJobTitle'] = final_df['currentPositions'].apply(lambda pos: pos[0]['title'] if pos else None)\n",
        "        final_df['currentCompanyName'] = final_df['currentPositions'].apply(lambda pos: pos[0]['companyName'] if pos else None)\n",
        "        final_df['unique_id'] = final_df['entityUrn'].str.extract(r'urn:li:fs_salesProfile:\\(([^,]+)')\n",
        "        final_df['linkedin_url'] = \"https://linkedin.com/in/\" + final_df['unique_id']\n",
        "        final_df = final_df.drop(columns=['unique_id'])\n",
        "\n",
        "        final_df.to_csv(output_file)\n",
        "        print(\"Data processing complete. Output saved to:\", output_file)\n",
        "\n",
        "        contact_data_list = final_df.apply(lambda row: {\n",
        "            \"first_name\": row.get('firstName', ''),\n",
        "            \"last_name\": row.get('lastName', ''),\n",
        "            \"company\": row.get('currentCompanyName', ''),\n",
        "            \"linkedin_url\": row.get('linkedin_url', ''),\n",
        "            \"custom_fields\": {\n",
        "                \"list\": 'sales_people',\n",
        "                \"job_title\": row.get('currentJobTitle', ''),\n",
        "            }\n",
        "        }, axis=1).tolist()\n",
        "\n",
        "        # Call BetterContact API with all contacts at once\n",
        "        call_better_contact_api_bulk(contact_data_list)\n",
        "\n",
        "# Bind button click to processing function\n",
        "run_button.on_click(process_data)"
      ]
    }
  ],
  "metadata": {
    "colab": {
      "provenance": []
    },
    "kernelspec": {
      "display_name": "maquinillo-h_Y_WDD6-py3.10",
      "language": "python",
      "name": "python3"
    },
    "language_info": {
      "name": "python",
      "version": "3.10.8"
    },
    "widgets": {
      "application/vnd.jupyter.widget-state+json": {
        "097ff685c96b4ea4b37357fd412600b7": {
          "model_module": "@jupyter-widgets/controls",
          "model_module_version": "1.5.0",
          "model_name": "DescriptionStyleModel",
          "state": {
            "_model_module": "@jupyter-widgets/controls",
            "_model_module_version": "1.5.0",
            "_model_name": "DescriptionStyleModel",
            "_view_count": null,
            "_view_module": "@jupyter-widgets/base",
            "_view_module_version": "1.2.0",
            "_view_name": "StyleView",
            "description_width": ""
          }
        },
        "0d6f718f807549b7a6480cf252986fb8": {
          "model_module": "@jupyter-widgets/base",
          "model_module_version": "1.2.0",
          "model_name": "LayoutModel",
          "state": {
            "_model_module": "@jupyter-widgets/base",
            "_model_module_version": "1.2.0",
            "_model_name": "LayoutModel",
            "_view_count": null,
            "_view_module": "@jupyter-widgets/base",
            "_view_module_version": "1.2.0",
            "_view_name": "LayoutView",
            "align_content": null,
            "align_items": null,
            "align_self": null,
            "border": null,
            "bottom": null,
            "display": null,
            "flex": null,
            "flex_flow": null,
            "grid_area": null,
            "grid_auto_columns": null,
            "grid_auto_flow": null,
            "grid_auto_rows": null,
            "grid_column": null,
            "grid_gap": null,
            "grid_row": null,
            "grid_template_areas": null,
            "grid_template_columns": null,
            "grid_template_rows": null,
            "height": null,
            "justify_content": null,
            "justify_items": null,
            "left": null,
            "margin": null,
            "max_height": null,
            "max_width": null,
            "min_height": null,
            "min_width": null,
            "object_fit": null,
            "object_position": null,
            "order": null,
            "overflow": null,
            "overflow_x": null,
            "overflow_y": null,
            "padding": null,
            "right": null,
            "top": null,
            "visibility": null,
            "width": null
          }
        },
        "117f32f4098a4619bb6c38d54bf01e08": {
          "model_module": "@jupyter-widgets/base",
          "model_module_version": "1.2.0",
          "model_name": "LayoutModel",
          "state": {
            "_model_module": "@jupyter-widgets/base",
            "_model_module_version": "1.2.0",
            "_model_name": "LayoutModel",
            "_view_count": null,
            "_view_module": "@jupyter-widgets/base",
            "_view_module_version": "1.2.0",
            "_view_name": "LayoutView",
            "align_content": null,
            "align_items": null,
            "align_self": null,
            "border": null,
            "bottom": null,
            "display": null,
            "flex": null,
            "flex_flow": null,
            "grid_area": null,
            "grid_auto_columns": null,
            "grid_auto_flow": null,
            "grid_auto_rows": null,
            "grid_column": null,
            "grid_gap": null,
            "grid_row": null,
            "grid_template_areas": null,
            "grid_template_columns": null,
            "grid_template_rows": null,
            "height": null,
            "justify_content": null,
            "justify_items": null,
            "left": null,
            "margin": null,
            "max_height": null,
            "max_width": null,
            "min_height": null,
            "min_width": null,
            "object_fit": null,
            "object_position": null,
            "order": null,
            "overflow": null,
            "overflow_x": null,
            "overflow_y": null,
            "padding": null,
            "right": null,
            "top": null,
            "visibility": null,
            "width": null
          }
        },
        "2bb7bd2eb7b447408007f1600e990262": {
          "model_module": "@jupyter-widgets/base",
          "model_module_version": "1.2.0",
          "model_name": "LayoutModel",
          "state": {
            "_model_module": "@jupyter-widgets/base",
            "_model_module_version": "1.2.0",
            "_model_name": "LayoutModel",
            "_view_count": null,
            "_view_module": "@jupyter-widgets/base",
            "_view_module_version": "1.2.0",
            "_view_name": "LayoutView",
            "align_content": null,
            "align_items": null,
            "align_self": null,
            "border": null,
            "bottom": null,
            "display": null,
            "flex": null,
            "flex_flow": null,
            "grid_area": null,
            "grid_auto_columns": null,
            "grid_auto_flow": null,
            "grid_auto_rows": null,
            "grid_column": null,
            "grid_gap": null,
            "grid_row": null,
            "grid_template_areas": null,
            "grid_template_columns": null,
            "grid_template_rows": null,
            "height": null,
            "justify_content": null,
            "justify_items": null,
            "left": null,
            "margin": null,
            "max_height": null,
            "max_width": null,
            "min_height": null,
            "min_width": null,
            "object_fit": null,
            "object_position": null,
            "order": null,
            "overflow": null,
            "overflow_x": null,
            "overflow_y": null,
            "padding": null,
            "right": null,
            "top": null,
            "visibility": null,
            "width": null
          }
        },
        "367c01da36ae48d5b70507358fdcf9fb": {
          "model_module": "@jupyter-widgets/controls",
          "model_module_version": "1.5.0",
          "model_name": "DescriptionStyleModel",
          "state": {
            "_model_module": "@jupyter-widgets/controls",
            "_model_module_version": "1.5.0",
            "_model_name": "DescriptionStyleModel",
            "_view_count": null,
            "_view_module": "@jupyter-widgets/base",
            "_view_module_version": "1.2.0",
            "_view_name": "StyleView",
            "description_width": ""
          }
        },
        "4517db6dd889462ca8525e5af2e7869e": {
          "model_module": "@jupyter-widgets/controls",
          "model_module_version": "1.5.0",
          "model_name": "DropdownModel",
          "state": {
            "_dom_classes": [],
            "_model_module": "@jupyter-widgets/controls",
            "_model_module_version": "1.5.0",
            "_model_name": "DropdownModel",
            "_options_labels": [
              "Sales",
              "Finance",
              "Founders"
            ],
            "_view_count": null,
            "_view_module": "@jupyter-widgets/controls",
            "_view_module_version": "1.5.0",
            "_view_name": "DropdownView",
            "description": "Query Type:",
            "description_tooltip": null,
            "disabled": false,
            "index": 1,
            "layout": "IPY_MODEL_0d6f718f807549b7a6480cf252986fb8",
            "style": "IPY_MODEL_9cc69e06818f49258b82317d310a253a"
          }
        },
        "47bbab6860984ce58d5db9fe427f583c": {
          "model_module": "@jupyter-widgets/base",
          "model_module_version": "1.2.0",
          "model_name": "LayoutModel",
          "state": {
            "_model_module": "@jupyter-widgets/base",
            "_model_module_version": "1.2.0",
            "_model_name": "LayoutModel",
            "_view_count": null,
            "_view_module": "@jupyter-widgets/base",
            "_view_module_version": "1.2.0",
            "_view_name": "LayoutView",
            "align_content": null,
            "align_items": null,
            "align_self": null,
            "border": null,
            "bottom": null,
            "display": null,
            "flex": null,
            "flex_flow": null,
            "grid_area": null,
            "grid_auto_columns": null,
            "grid_auto_flow": null,
            "grid_auto_rows": null,
            "grid_column": null,
            "grid_gap": null,
            "grid_row": null,
            "grid_template_areas": null,
            "grid_template_columns": null,
            "grid_template_rows": null,
            "height": null,
            "justify_content": null,
            "justify_items": null,
            "left": null,
            "margin": null,
            "max_height": null,
            "max_width": null,
            "min_height": null,
            "min_width": null,
            "object_fit": null,
            "object_position": null,
            "order": null,
            "overflow": null,
            "overflow_x": null,
            "overflow_y": null,
            "padding": null,
            "right": null,
            "top": null,
            "visibility": null,
            "width": null
          }
        },
        "53f535122e314c0f97dee7087d4ceff5": {
          "model_module": "@jupyter-widgets/output",
          "model_module_version": "1.0.0",
          "model_name": "OutputModel",
          "state": {
            "_dom_classes": [],
            "_model_module": "@jupyter-widgets/output",
            "_model_module_version": "1.0.0",
            "_model_name": "OutputModel",
            "_view_count": null,
            "_view_module": "@jupyter-widgets/output",
            "_view_module_version": "1.0.0",
            "_view_name": "OutputView",
            "layout": "IPY_MODEL_723d64ec3d724eba93b41ba859da682c",
            "msg_id": "",
            "outputs": []
          }
        },
        "590525204d78419c9a2fa6fa691f5572": {
          "model_module": "@jupyter-widgets/controls",
          "model_module_version": "1.5.0",
          "model_name": "ButtonStyleModel",
          "state": {
            "_model_module": "@jupyter-widgets/controls",
            "_model_module_version": "1.5.0",
            "_model_name": "ButtonStyleModel",
            "_view_count": null,
            "_view_module": "@jupyter-widgets/base",
            "_view_module_version": "1.2.0",
            "_view_name": "StyleView",
            "button_color": null,
            "font_weight": ""
          }
        },
        "5b9152080ea54fdda1fafb7764d9cb51": {
          "model_module": "@jupyter-widgets/base",
          "model_module_version": "1.2.0",
          "model_name": "LayoutModel",
          "state": {
            "_model_module": "@jupyter-widgets/base",
            "_model_module_version": "1.2.0",
            "_model_name": "LayoutModel",
            "_view_count": null,
            "_view_module": "@jupyter-widgets/base",
            "_view_module_version": "1.2.0",
            "_view_name": "LayoutView",
            "align_content": null,
            "align_items": null,
            "align_self": null,
            "border": null,
            "bottom": null,
            "display": null,
            "flex": null,
            "flex_flow": null,
            "grid_area": null,
            "grid_auto_columns": null,
            "grid_auto_flow": null,
            "grid_auto_rows": null,
            "grid_column": null,
            "grid_gap": null,
            "grid_row": null,
            "grid_template_areas": null,
            "grid_template_columns": null,
            "grid_template_rows": null,
            "height": null,
            "justify_content": null,
            "justify_items": null,
            "left": null,
            "margin": null,
            "max_height": null,
            "max_width": null,
            "min_height": null,
            "min_width": null,
            "object_fit": null,
            "object_position": null,
            "order": null,
            "overflow": null,
            "overflow_x": null,
            "overflow_y": null,
            "padding": null,
            "right": null,
            "top": null,
            "visibility": null,
            "width": null
          }
        },
        "5e67d1fcb7da4f3c9da1e26e085bbbd1": {
          "model_module": "@jupyter-widgets/base",
          "model_module_version": "1.2.0",
          "model_name": "LayoutModel",
          "state": {
            "_model_module": "@jupyter-widgets/base",
            "_model_module_version": "1.2.0",
            "_model_name": "LayoutModel",
            "_view_count": null,
            "_view_module": "@jupyter-widgets/base",
            "_view_module_version": "1.2.0",
            "_view_name": "LayoutView",
            "align_content": null,
            "align_items": null,
            "align_self": null,
            "border": null,
            "bottom": null,
            "display": null,
            "flex": null,
            "flex_flow": null,
            "grid_area": null,
            "grid_auto_columns": null,
            "grid_auto_flow": null,
            "grid_auto_rows": null,
            "grid_column": null,
            "grid_gap": null,
            "grid_row": null,
            "grid_template_areas": null,
            "grid_template_columns": null,
            "grid_template_rows": null,
            "height": null,
            "justify_content": null,
            "justify_items": null,
            "left": null,
            "margin": null,
            "max_height": null,
            "max_width": null,
            "min_height": null,
            "min_width": null,
            "object_fit": null,
            "object_position": null,
            "order": null,
            "overflow": null,
            "overflow_x": null,
            "overflow_y": null,
            "padding": null,
            "right": null,
            "top": null,
            "visibility": null,
            "width": null
          }
        },
        "5eef82a63b83461891c2b0cc36c766b4": {
          "model_module": "@jupyter-widgets/controls",
          "model_module_version": "1.5.0",
          "model_name": "ButtonModel",
          "state": {
            "_dom_classes": [],
            "_model_module": "@jupyter-widgets/controls",
            "_model_module_version": "1.5.0",
            "_model_name": "ButtonModel",
            "_view_count": null,
            "_view_module": "@jupyter-widgets/controls",
            "_view_module_version": "1.5.0",
            "_view_name": "ButtonView",
            "button_style": "",
            "description": "Run Script",
            "disabled": false,
            "icon": "",
            "layout": "IPY_MODEL_117f32f4098a4619bb6c38d54bf01e08",
            "style": "IPY_MODEL_883ff13e45f3415f913e773b6ad6e116",
            "tooltip": ""
          }
        },
        "644dbe80e9c44c7491b176fce6cdaf4a": {
          "model_module": "@jupyter-widgets/controls",
          "model_module_version": "1.5.0",
          "model_name": "TextModel",
          "state": {
            "_dom_classes": [],
            "_model_module": "@jupyter-widgets/controls",
            "_model_module_version": "1.5.0",
            "_model_name": "TextModel",
            "_view_count": null,
            "_view_module": "@jupyter-widgets/controls",
            "_view_module_version": "1.5.0",
            "_view_name": "TextView",
            "continuous_update": true,
            "description": "Input File:",
            "description_tooltip": null,
            "disabled": false,
            "layout": "IPY_MODEL_47bbab6860984ce58d5db9fe427f583c",
            "placeholder": "​",
            "style": "IPY_MODEL_e9879f77f4124932aaaa555178fe4c87",
            "value": "domains.csv"
          }
        },
        "652dea9881eb47d8bfe35952e428ffbd": {
          "model_module": "@jupyter-widgets/controls",
          "model_module_version": "1.5.0",
          "model_name": "DescriptionStyleModel",
          "state": {
            "_model_module": "@jupyter-widgets/controls",
            "_model_module_version": "1.5.0",
            "_model_name": "DescriptionStyleModel",
            "_view_count": null,
            "_view_module": "@jupyter-widgets/base",
            "_view_module_version": "1.2.0",
            "_view_name": "StyleView",
            "description_width": ""
          }
        },
        "69aa40ccd35344d39916ae8baee63d9b": {
          "model_module": "@jupyter-widgets/base",
          "model_module_version": "1.2.0",
          "model_name": "LayoutModel",
          "state": {
            "_model_module": "@jupyter-widgets/base",
            "_model_module_version": "1.2.0",
            "_model_name": "LayoutModel",
            "_view_count": null,
            "_view_module": "@jupyter-widgets/base",
            "_view_module_version": "1.2.0",
            "_view_name": "LayoutView",
            "align_content": null,
            "align_items": null,
            "align_self": null,
            "border": null,
            "bottom": null,
            "display": null,
            "flex": null,
            "flex_flow": null,
            "grid_area": null,
            "grid_auto_columns": null,
            "grid_auto_flow": null,
            "grid_auto_rows": null,
            "grid_column": null,
            "grid_gap": null,
            "grid_row": null,
            "grid_template_areas": null,
            "grid_template_columns": null,
            "grid_template_rows": null,
            "height": null,
            "justify_content": null,
            "justify_items": null,
            "left": null,
            "margin": null,
            "max_height": null,
            "max_width": null,
            "min_height": null,
            "min_width": null,
            "object_fit": null,
            "object_position": null,
            "order": null,
            "overflow": null,
            "overflow_x": null,
            "overflow_y": null,
            "padding": null,
            "right": null,
            "top": null,
            "visibility": null,
            "width": null
          }
        },
        "69e67905b6b543c2a30883d2d0d920dc": {
          "model_module": "@jupyter-widgets/controls",
          "model_module_version": "1.5.0",
          "model_name": "TextModel",
          "state": {
            "_dom_classes": [],
            "_model_module": "@jupyter-widgets/controls",
            "_model_module_version": "1.5.0",
            "_model_name": "TextModel",
            "_view_count": null,
            "_view_module": "@jupyter-widgets/controls",
            "_view_module_version": "1.5.0",
            "_view_name": "TextView",
            "continuous_update": true,
            "description": "Domain col:",
            "description_tooltip": null,
            "disabled": false,
            "layout": "IPY_MODEL_5e67d1fcb7da4f3c9da1e26e085bbbd1",
            "placeholder": "​",
            "style": "IPY_MODEL_097ff685c96b4ea4b37357fd412600b7",
            "value": "domain"
          }
        },
        "6ca3deeece6a470d995d0c9fa0b8ddb3": {
          "model_module": "@jupyter-widgets/controls",
          "model_module_version": "1.5.0",
          "model_name": "DescriptionStyleModel",
          "state": {
            "_model_module": "@jupyter-widgets/controls",
            "_model_module_version": "1.5.0",
            "_model_name": "DescriptionStyleModel",
            "_view_count": null,
            "_view_module": "@jupyter-widgets/base",
            "_view_module_version": "1.2.0",
            "_view_name": "StyleView",
            "description_width": ""
          }
        },
        "723d64ec3d724eba93b41ba859da682c": {
          "model_module": "@jupyter-widgets/base",
          "model_module_version": "1.2.0",
          "model_name": "LayoutModel",
          "state": {
            "_model_module": "@jupyter-widgets/base",
            "_model_module_version": "1.2.0",
            "_model_name": "LayoutModel",
            "_view_count": null,
            "_view_module": "@jupyter-widgets/base",
            "_view_module_version": "1.2.0",
            "_view_name": "LayoutView",
            "align_content": null,
            "align_items": null,
            "align_self": null,
            "border": null,
            "bottom": null,
            "display": null,
            "flex": null,
            "flex_flow": null,
            "grid_area": null,
            "grid_auto_columns": null,
            "grid_auto_flow": null,
            "grid_auto_rows": null,
            "grid_column": null,
            "grid_gap": null,
            "grid_row": null,
            "grid_template_areas": null,
            "grid_template_columns": null,
            "grid_template_rows": null,
            "height": null,
            "justify_content": null,
            "justify_items": null,
            "left": null,
            "margin": null,
            "max_height": null,
            "max_width": null,
            "min_height": null,
            "min_width": null,
            "object_fit": null,
            "object_position": null,
            "order": null,
            "overflow": null,
            "overflow_x": null,
            "overflow_y": null,
            "padding": null,
            "right": null,
            "top": null,
            "visibility": null,
            "width": null
          }
        },
        "831e01bfd61a4fdbac94fe769d49d60d": {
          "model_module": "@jupyter-widgets/controls",
          "model_module_version": "1.5.0",
          "model_name": "ButtonModel",
          "state": {
            "_dom_classes": [],
            "_model_module": "@jupyter-widgets/controls",
            "_model_module_version": "1.5.0",
            "_model_name": "ButtonModel",
            "_view_count": null,
            "_view_module": "@jupyter-widgets/controls",
            "_view_module_version": "1.5.0",
            "_view_name": "ButtonView",
            "button_style": "",
            "description": "Run Script",
            "disabled": false,
            "icon": "",
            "layout": "IPY_MODEL_69aa40ccd35344d39916ae8baee63d9b",
            "style": "IPY_MODEL_590525204d78419c9a2fa6fa691f5572",
            "tooltip": ""
          }
        },
        "883ff13e45f3415f913e773b6ad6e116": {
          "model_module": "@jupyter-widgets/controls",
          "model_module_version": "1.5.0",
          "model_name": "ButtonStyleModel",
          "state": {
            "_model_module": "@jupyter-widgets/controls",
            "_model_module_version": "1.5.0",
            "_model_name": "ButtonStyleModel",
            "_view_count": null,
            "_view_module": "@jupyter-widgets/base",
            "_view_module_version": "1.2.0",
            "_view_name": "StyleView",
            "button_color": null,
            "font_weight": ""
          }
        },
        "8fb69810fb85456b8382c85dfac1bf0a": {
          "model_module": "@jupyter-widgets/controls",
          "model_module_version": "1.5.0",
          "model_name": "DescriptionStyleModel",
          "state": {
            "_model_module": "@jupyter-widgets/controls",
            "_model_module_version": "1.5.0",
            "_model_name": "DescriptionStyleModel",
            "_view_count": null,
            "_view_module": "@jupyter-widgets/base",
            "_view_module_version": "1.2.0",
            "_view_name": "StyleView",
            "description_width": ""
          }
        },
        "996cbd382848437fad97a3384ca1ab14": {
          "model_module": "@jupyter-widgets/controls",
          "model_module_version": "1.5.0",
          "model_name": "TextModel",
          "state": {
            "_dom_classes": [],
            "_model_module": "@jupyter-widgets/controls",
            "_model_module_version": "1.5.0",
            "_model_name": "TextModel",
            "_view_count": null,
            "_view_module": "@jupyter-widgets/controls",
            "_view_module_version": "1.5.0",
            "_view_name": "TextView",
            "continuous_update": true,
            "description": "Output File:",
            "description_tooltip": null,
            "disabled": false,
            "layout": "IPY_MODEL_2bb7bd2eb7b447408007f1600e990262",
            "placeholder": "​",
            "style": "IPY_MODEL_367c01da36ae48d5b70507358fdcf9fb",
            "value": "outputfinance.csv"
          }
        },
        "9cc69e06818f49258b82317d310a253a": {
          "model_module": "@jupyter-widgets/controls",
          "model_module_version": "1.5.0",
          "model_name": "DescriptionStyleModel",
          "state": {
            "_model_module": "@jupyter-widgets/controls",
            "_model_module_version": "1.5.0",
            "_model_name": "DescriptionStyleModel",
            "_view_count": null,
            "_view_module": "@jupyter-widgets/base",
            "_view_module_version": "1.2.0",
            "_view_name": "StyleView",
            "description_width": ""
          }
        },
        "9da8cd4d2e394a17be35f320e5010c84": {
          "model_module": "@jupyter-widgets/controls",
          "model_module_version": "1.5.0",
          "model_name": "TextModel",
          "state": {
            "_dom_classes": [],
            "_model_module": "@jupyter-widgets/controls",
            "_model_module_version": "1.5.0",
            "_model_name": "TextModel",
            "_view_count": null,
            "_view_module": "@jupyter-widgets/controls",
            "_view_module_version": "1.5.0",
            "_view_name": "TextView",
            "continuous_update": true,
            "description": "CSRF Token:",
            "description_tooltip": null,
            "disabled": false,
            "layout": "IPY_MODEL_ba65999be7f9412b9a476866579670d6",
            "placeholder": "​",
            "style": "IPY_MODEL_6ca3deeece6a470d995d0c9fa0b8ddb3",
            "value": ""
          }
        },
        "9fe62a2de4ca42589d07382a8a7e71ba": {
          "model_module": "@jupyter-widgets/output",
          "model_module_version": "1.0.0",
          "model_name": "OutputModel",
          "state": {
            "_dom_classes": [],
            "_model_module": "@jupyter-widgets/output",
            "_model_module_version": "1.0.0",
            "_model_name": "OutputModel",
            "_view_count": null,
            "_view_module": "@jupyter-widgets/output",
            "_view_module_version": "1.0.0",
            "_view_name": "OutputView",
            "layout": "IPY_MODEL_ab2be96db4f1454aa84774cf845a4775",
            "msg_id": "",
            "outputs": [
              {
                "name": "stdout",
                "output_type": "stream",
                "text": [
                  "Fetching https://uk.linkedin.com/company/mindgenius-ltd\n",
                  "Fetching https://www.linkedin.com/company/openprise\n",
                  "Fetching https://www.linkedin.com/company/mangoapps-inc\n",
                  "Fetching https://www.linkedin.com/company/endorlabs\n"
                ]
              },
              {
                "name": "stdout",
                "output_type": "stream",
                "text": [
                  "Fetching https://www.linkedin.com/company/click-boarding-llc\n",
                  "Fetching https://www.linkedin.com/company/tallyfor\n",
                  "Fetching https://www.linkedin.com/company/anvilogic\n",
                  "Fetching https://www.linkedin.com/company/coderhq\n",
                  "Fetching https://www.linkedin.com/company/letsgroopit\n",
                  "Fetching https://ca.linkedin.com/company/minutebox\n"
                ]
              },
              {
                "name": "stdout",
                "output_type": "stream",
                "text": [
                  "Fetching https://www.linkedin.com/company/teamconserv\n"
                ]
              },
              {
                "name": "stdout",
                "output_type": "stream",
                "text": [
                  "Fetching https://www.linkedin.com/company/rollforward-accounting-&-cloud-services\n"
                ]
              },
              {
                "name": "stdout",
                "output_type": "stream",
                "text": [
                  "Fetching https://www.linkedin.com/company/advarra\n"
                ]
              },
              {
                "name": "stdout",
                "output_type": "stream",
                "text": [
                  "Fetching https://www.linkedin.com/company/seatti\n"
                ]
              },
              {
                "name": "stdout",
                "output_type": "stream",
                "text": [
                  "Fetching https://www.linkedin.com/company/pastperfect-software-inc.\n"
                ]
              },
              {
                "name": "stdout",
                "output_type": "stream",
                "text": [
                  "Fetching https://www.linkedin.com/company/insycle\n",
                  "Fetching https://www.linkedin.com/company/paw-loyalty\n"
                ]
              },
              {
                "name": "stdout",
                "output_type": "stream",
                "text": [
                  "Fetching https://www.linkedin.com/company/reptricsFetching https://www.linkedin.com/company/airtable\n",
                  "\n"
                ]
              },
              {
                "name": "stdout",
                "output_type": "stream",
                "text": [
                  "Fetching https://www.linkedin.com/company/subscriptFetching https://www.linkedin.com/company/resourcedynamicsinc\n",
                  "\n"
                ]
              },
              {
                "name": "stdout",
                "output_type": "stream",
                "text": [
                  "Fetching https://www.linkedin.com/company/berkman-solutions\n"
                ]
              },
              {
                "name": "stdout",
                "output_type": "stream",
                "text": [
                  "Fetching https://www.linkedin.com/company/in1touch-saas\n"
                ]
              },
              {
                "name": "stdout",
                "output_type": "stream",
                "text": [
                  "Fetching https://www.linkedin.com/company/sonarsource\n"
                ]
              },
              {
                "name": "stdout",
                "output_type": "stream",
                "text": [
                  "Fetching https://www.linkedin.com/company/abstractops\n",
                  "Fetching https://www.linkedin.com/company/searchblox\n"
                ]
              },
              {
                "name": "stdout",
                "output_type": "stream",
                "text": [
                  "Fetching https://www.linkedin.com/company/robin-poweredFetching https://www.linkedin.com/company/glue-up\n",
                  "\n"
                ]
              },
              {
                "name": "stdout",
                "output_type": "stream",
                "text": [
                  "Fetching https://www.linkedin.com/company/peopleboxai\n",
                  "Fetching https://www.linkedin.com/company/lottiefiles\n",
                  "Fetching https://www.linkedin.com/company/blueoptima\n"
                ]
              },
              {
                "name": "stdout",
                "output_type": "stream",
                "text": [
                  "Fetching https://www.linkedin.com/company/rae-internet-inc\n"
                ]
              },
              {
                "name": "stdout",
                "output_type": "stream",
                "text": [
                  "Fetching https://www.linkedin.com/company/waydev\n"
                ]
              },
              {
                "name": "stdout",
                "output_type": "stream",
                "text": [
                  "Fetching https://www.linkedin.com/company/quantaq\n"
                ]
              },
              {
                "name": "stdout",
                "output_type": "stream",
                "text": [
                  "Fetching https://www.linkedin.com/company/shortpoint\n"
                ]
              },
              {
                "name": "stdout",
                "output_type": "stream",
                "text": [
                  "Fetching https://www.linkedin.com/company/planswift\n",
                  "Fetching https://www.linkedin.com/company/novi-ams\n"
                ]
              },
              {
                "name": "stdout",
                "output_type": "stream",
                "text": [
                  "Fetching https://uk.linkedin.com/company/metering-technology-solutions-ltd\n"
                ]
              },
              {
                "name": "stdout",
                "output_type": "stream",
                "text": [
                  "Fetching https://in.linkedin.com/company/integrately\n"
                ]
              },
              {
                "name": "stdout",
                "output_type": "stream",
                "text": [
                  "Fetching https://www.linkedin.com/company/allstacks\n"
                ]
              },
              {
                "name": "stdout",
                "output_type": "stream",
                "text": [
                  "Fetching https://www.linkedin.com/company/luna-imaging-inc.\n"
                ]
              },
              {
                "name": "stdout",
                "output_type": "stream",
                "text": [
                  "Fetching https://www.linkedin.com/company/egnyte\n",
                  "Fetching https://uk.linkedin.com/company/boxxstep\n"
                ]
              },
              {
                "name": "stdout",
                "output_type": "stream",
                "text": [
                  "Fetching https://www.linkedin.com/company/user-interviews\n"
                ]
              },
              {
                "name": "stdout",
                "output_type": "stream",
                "text": [
                  "Fetching https://www.linkedin.com/company/motivosity\n",
                  "Fetching https://www.linkedin.com/company/netsuite\n"
                ]
              },
              {
                "name": "stdout",
                "output_type": "stream",
                "text": [
                  "Fetching https://www.linkedin.com/company/humantic-ai\n"
                ]
              },
              {
                "name": "stdout",
                "output_type": "stream",
                "text": [
                  "Fetching https://www.linkedin.com/company/kardin-systems\n"
                ]
              },
              {
                "name": "stdout",
                "output_type": "stream",
                "text": [
                  "Fetching https://www.linkedin.com/company/oculu-llc\n"
                ]
              },
              {
                "name": "stdout",
                "output_type": "stream",
                "text": [
                  "Fetching https://www.linkedin.com/company/crystal_knows\n"
                ]
              },
              {
                "name": "stdout",
                "output_type": "stream",
                "text": [
                  "Fetching https://uk.linkedin.com/company/equalsmoney\n"
                ]
              },
              {
                "name": "stdout",
                "output_type": "stream",
                "text": [
                  "Fetching https://www.linkedin.com/company/symphonic-source\n"
                ]
              },
              {
                "name": "stdout",
                "output_type": "stream",
                "text": [
                  "Fetching https://www.linkedin.com/company/align-today\n"
                ]
              },
              {
                "name": "stdout",
                "output_type": "stream",
                "text": [
                  "Fetching https://www.linkedin.com/company/payhawk\n"
                ]
              },
              {
                "name": "stdout",
                "output_type": "stream",
                "text": [
                  "Fetching https://uk.linkedin.com/company/cyscale\n"
                ]
              },
              {
                "name": "stdout",
                "output_type": "stream",
                "text": [
                  "Fetching https://www.linkedin.com/company/honehqFetching https://www.linkedin.com/company/appsembler\n",
                  "Fetching https://www.linkedin.com/company/rissoft---realty-information-systems\n",
                  "\n"
                ]
              },
              {
                "name": "stdout",
                "output_type": "stream",
                "text": [
                  "Fetching https://www.linkedin.com/company/15five\n"
                ]
              },
              {
                "name": "stdout",
                "output_type": "stream",
                "text": [
                  "Fetching https://uk.linkedin.com/company/ncrcg-cyber-path\n"
                ]
              },
              {
                "name": "stdout",
                "output_type": "stream",
                "text": [
                  "Fetching https://www.linkedin.com/company/activenav\n"
                ]
              },
              {
                "name": "stdout",
                "output_type": "stream",
                "text": [
                  "Fetching https://www.linkedin.com/company/contractzen\n"
                ]
              },
              {
                "name": "stdout",
                "output_type": "stream",
                "text": [
                  "Fetching https://www.linkedin.com/company/playbookux\n"
                ]
              },
              {
                "name": "stdout",
                "output_type": "stream",
                "text": [
                  "Fetching https://www.linkedin.com/company/drifty-co-\n"
                ]
              },
              {
                "name": "stdout",
                "output_type": "stream",
                "text": [
                  "Fetching https://www.linkedin.com/company/surveysparrow\n"
                ]
              },
              {
                "name": "stdout",
                "output_type": "stream",
                "text": [
                  "Fetching https://www.linkedin.com/company/growthzone-ams\n",
                  "Fetching https://www.linkedin.com/company/recdesk\n",
                  "Fetching https://www.linkedin.com/company/impact-infrastructure-llc\n"
                ]
              },
              {
                "name": "stdout",
                "output_type": "stream",
                "text": [
                  "Fetching https://uk.linkedin.com/company/safepassme\n"
                ]
              },
              {
                "name": "stdout",
                "output_type": "stream",
                "text": [
                  "Fetching https://www.linkedin.com/company/linearb\n"
                ]
              },
              {
                "name": "stdout",
                "output_type": "stream",
                "text": [
                  "Fetching https://lb.linkedin.com/company/ironsoftware\n"
                ]
              },
              {
                "name": "stdout",
                "output_type": "stream",
                "text": [
                  "Fetching https://ca.linkedin.com/company/kondukto\n"
                ]
              },
              {
                "name": "stdout",
                "output_type": "stream",
                "text": [
                  "Fetching https://www.linkedin.com/company/bonusly\n"
                ]
              },
              {
                "name": "stdout",
                "output_type": "stream",
                "text": [
                  "Fetching https://be.linkedin.com/company/involv-intranet\n"
                ]
              },
              {
                "name": "stdout",
                "output_type": "stream",
                "text": [
                  "Fetching https://www.linkedin.com/company/ingeniux-corporation\n"
                ]
              },
              {
                "name": "stdout",
                "output_type": "stream",
                "text": [
                  "Fetching https://bb.linkedin.com/company/fundcount\n"
                ]
              },
              {
                "name": "stdout",
                "output_type": "stream",
                "text": [
                  "Fetching https://ca.linkedin.com/company/unito-\n"
                ]
              },
              {
                "name": "stdout",
                "output_type": "stream",
                "text": [
                  "Fetching https://www.linkedin.com/company/mango-practice-management\n",
                  "Fetching https://www.linkedin.com/company/artsystems\n"
                ]
              },
              {
                "name": "stdout",
                "output_type": "stream",
                "text": [
                  "Fetching https://www.linkedin.com/company/bluebeam-software\n"
                ]
              },
              {
                "name": "stdout",
                "output_type": "stream",
                "text": [
                  "Fetching https://www.linkedin.com/company/cultureally\n"
                ]
              },
              {
                "name": "stdout",
                "output_type": "stream",
                "text": [
                  "Fetching https://de.linkedin.com/company/mooncamp\n",
                  "Fetching https://www.linkedin.com/company/avatier\n"
                ]
              },
              {
                "name": "stdout",
                "output_type": "stream",
                "text": [
                  "Fetching https://www.linkedin.com/company/eptura\n"
                ]
              },
              {
                "name": "stdout",
                "output_type": "stream",
                "text": [
                  "Fetching https://www.linkedin.com/company/ovaledge\n"
                ]
              },
              {
                "name": "stdout",
                "output_type": "stream",
                "text": [
                  "Fetching https://www.linkedin.com/company/filejetinc\n"
                ]
              },
              {
                "name": "stdout",
                "output_type": "stream",
                "text": [
                  "Fetching https://www.linkedin.com/company/cloudtruth\n"
                ]
              },
              {
                "name": "stdout",
                "output_type": "stream",
                "text": [
                  "Fetching https://www.linkedin.com/company/amc-technology\n"
                ]
              },
              {
                "name": "stdout",
                "output_type": "stream",
                "text": [
                  "Fetching https://www.linkedin.com/company/simplerisk\n"
                ]
              }
            ]
          }
        },
        "aaf2287b55dc43c8b92fc6bbd6e448a0": {
          "model_module": "@jupyter-widgets/controls",
          "model_module_version": "1.5.0",
          "model_name": "DropdownModel",
          "state": {
            "_dom_classes": [],
            "_model_module": "@jupyter-widgets/controls",
            "_model_module_version": "1.5.0",
            "_model_name": "DropdownModel",
            "_options_labels": [
              "Domain",
              "ID"
            ],
            "_view_count": null,
            "_view_module": "@jupyter-widgets/controls",
            "_view_module_version": "1.5.0",
            "_view_name": "DropdownView",
            "description": "List type",
            "description_tooltip": null,
            "disabled": false,
            "index": 0,
            "layout": "IPY_MODEL_5b9152080ea54fdda1fafb7764d9cb51",
            "style": "IPY_MODEL_652dea9881eb47d8bfe35952e428ffbd"
          }
        },
        "ab2be96db4f1454aa84774cf845a4775": {
          "model_module": "@jupyter-widgets/base",
          "model_module_version": "1.2.0",
          "model_name": "LayoutModel",
          "state": {
            "_model_module": "@jupyter-widgets/base",
            "_model_module_version": "1.2.0",
            "_model_name": "LayoutModel",
            "_view_count": null,
            "_view_module": "@jupyter-widgets/base",
            "_view_module_version": "1.2.0",
            "_view_name": "LayoutView",
            "align_content": null,
            "align_items": null,
            "align_self": null,
            "border": null,
            "bottom": null,
            "display": null,
            "flex": null,
            "flex_flow": null,
            "grid_area": null,
            "grid_auto_columns": null,
            "grid_auto_flow": null,
            "grid_auto_rows": null,
            "grid_column": null,
            "grid_gap": null,
            "grid_row": null,
            "grid_template_areas": null,
            "grid_template_columns": null,
            "grid_template_rows": null,
            "height": null,
            "justify_content": null,
            "justify_items": null,
            "left": null,
            "margin": null,
            "max_height": null,
            "max_width": null,
            "min_height": null,
            "min_width": null,
            "object_fit": null,
            "object_position": null,
            "order": null,
            "overflow": null,
            "overflow_x": null,
            "overflow_y": null,
            "padding": null,
            "right": null,
            "top": null,
            "visibility": null,
            "width": null
          }
        },
        "b3be777b18f3424cbc0ab612e1040f74": {
          "model_module": "@jupyter-widgets/controls",
          "model_module_version": "1.5.0",
          "model_name": "TextModel",
          "state": {
            "_dom_classes": [],
            "_model_module": "@jupyter-widgets/controls",
            "_model_module_version": "1.5.0",
            "_model_name": "TextModel",
            "_view_count": null,
            "_view_module": "@jupyter-widgets/controls",
            "_view_module_version": "1.5.0",
            "_view_name": "TextView",
            "continuous_update": true,
            "description": "Cookie:",
            "description_tooltip": null,
            "disabled": false,
            "layout": "IPY_MODEL_dab8ca106f5548e2aee758a4525ac7c8",
            "placeholder": "​",
            "style": "IPY_MODEL_8fb69810fb85456b8382c85dfac1bf0a",
            "value": ""
          }
        },
        "ba65999be7f9412b9a476866579670d6": {
          "model_module": "@jupyter-widgets/base",
          "model_module_version": "1.2.0",
          "model_name": "LayoutModel",
          "state": {
            "_model_module": "@jupyter-widgets/base",
            "_model_module_version": "1.2.0",
            "_model_name": "LayoutModel",
            "_view_count": null,
            "_view_module": "@jupyter-widgets/base",
            "_view_module_version": "1.2.0",
            "_view_name": "LayoutView",
            "align_content": null,
            "align_items": null,
            "align_self": null,
            "border": null,
            "bottom": null,
            "display": null,
            "flex": null,
            "flex_flow": null,
            "grid_area": null,
            "grid_auto_columns": null,
            "grid_auto_flow": null,
            "grid_auto_rows": null,
            "grid_column": null,
            "grid_gap": null,
            "grid_row": null,
            "grid_template_areas": null,
            "grid_template_columns": null,
            "grid_template_rows": null,
            "height": null,
            "justify_content": null,
            "justify_items": null,
            "left": null,
            "margin": null,
            "max_height": null,
            "max_width": null,
            "min_height": null,
            "min_width": null,
            "object_fit": null,
            "object_position": null,
            "order": null,
            "overflow": null,
            "overflow_x": null,
            "overflow_y": null,
            "padding": null,
            "right": null,
            "top": null,
            "visibility": null,
            "width": null
          }
        },
        "dab8ca106f5548e2aee758a4525ac7c8": {
          "model_module": "@jupyter-widgets/base",
          "model_module_version": "1.2.0",
          "model_name": "LayoutModel",
          "state": {
            "_model_module": "@jupyter-widgets/base",
            "_model_module_version": "1.2.0",
            "_model_name": "LayoutModel",
            "_view_count": null,
            "_view_module": "@jupyter-widgets/base",
            "_view_module_version": "1.2.0",
            "_view_name": "LayoutView",
            "align_content": null,
            "align_items": null,
            "align_self": null,
            "border": null,
            "bottom": null,
            "display": null,
            "flex": null,
            "flex_flow": null,
            "grid_area": null,
            "grid_auto_columns": null,
            "grid_auto_flow": null,
            "grid_auto_rows": null,
            "grid_column": null,
            "grid_gap": null,
            "grid_row": null,
            "grid_template_areas": null,
            "grid_template_columns": null,
            "grid_template_rows": null,
            "height": null,
            "justify_content": null,
            "justify_items": null,
            "left": null,
            "margin": null,
            "max_height": null,
            "max_width": null,
            "min_height": null,
            "min_width": null,
            "object_fit": null,
            "object_position": null,
            "order": null,
            "overflow": null,
            "overflow_x": null,
            "overflow_y": null,
            "padding": null,
            "right": null,
            "top": null,
            "visibility": null,
            "width": null
          }
        },
        "e9879f77f4124932aaaa555178fe4c87": {
          "model_module": "@jupyter-widgets/controls",
          "model_module_version": "1.5.0",
          "model_name": "DescriptionStyleModel",
          "state": {
            "_model_module": "@jupyter-widgets/controls",
            "_model_module_version": "1.5.0",
            "_model_name": "DescriptionStyleModel",
            "_view_count": null,
            "_view_module": "@jupyter-widgets/base",
            "_view_module_version": "1.2.0",
            "_view_name": "StyleView",
            "description_width": ""
          }
        }
      }
    }
  },
  "nbformat": 4,
  "nbformat_minor": 0
}

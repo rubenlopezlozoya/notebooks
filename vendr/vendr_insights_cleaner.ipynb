{
 "cells": [
  {
   "cell_type": "code",
   "execution_count": null,
   "metadata": {
    "vscode": {
     "languageId": "plaintext"
    }
   },
   "outputs": [],
   "source": [
    "import pandas as pd\n",
    "import ast\n",
    "\n",
    "# Sample data, replace with your actual dataframe\n",
    "df = pd.read_csv('./data/vendr_shortlist.csv')\n",
    "\n",
    "# df = df.dropna(subset=['communityInsights'])\n",
    "\n",
    "# Function to convert the communityInsights to a single text column with bullet points\n",
    "def convert_to_bullet_points(insight):\n",
    "    try:\n",
    "        # Parse the string representation of the list of dictionaries\n",
    "        insights_list = ast.literal_eval(insight)\n",
    "\n",
    "        # Extract 'value' from each dictionary and format as a bullet point list\n",
    "        bullet_points = \"\\n\".join([f\"- {item['value']}\" for item in insights_list])\n",
    "        \n",
    "        return bullet_points\n",
    "    except Exception as e:\n",
    "        return \"\"\n",
    "\n",
    "# Apply the function to the communityInsights column\n",
    "df['communityInsightsText'] = df['communityInsights'].apply(convert_to_bullet_points)\n",
    "\n",
    "df.to_csv('./data/abm_vendr_enriched.csv')"
   ]
  }
 ],
 "metadata": {
  "language_info": {
   "name": "python"
  }
 },
 "nbformat": 4,
 "nbformat_minor": 2
}

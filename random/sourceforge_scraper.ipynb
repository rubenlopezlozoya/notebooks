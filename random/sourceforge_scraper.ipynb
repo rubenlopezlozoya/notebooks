{
 "cells": [
  {
   "cell_type": "code",
   "execution_count": null,
   "metadata": {},
   "outputs": [],
   "source": [
    "import requests\n",
    "from bs4 import BeautifulSoup\n",
    "from concurrent.futures import ThreadPoolExecutor\n",
    "\n",
    "# ZenRows API key\n",
    "ZENROWS_API_KEY = \"<API_KEY>\"\n",
    "\n",
    "# Base URL\n",
    "BASE_URL = \"https://sourceforge.net/software/saas/?sort=rating_count&page=\"\n",
    "\n",
    "def fetch_with_zenrows(page):\n",
    "    \"\"\"Fetches a page using the ZenRows API.\"\"\"\n",
    "    url = f\"{BASE_URL}{page}\"\n",
    "    try:\n",
    "        params = {\n",
    "            'url': url,\n",
    "            'apikey': ZENROWS_API_KEY,\n",
    "        }\n",
    "        response = requests.get('https://api.zenrows.com/v1/', params=params)\n",
    "\n",
    "        if response.status_code == 200:\n",
    "            return page, response.text\n",
    "        else:\n",
    "            print(f\"ZenRows request failed for page {page}: {response.status_code}, {response.text}\")\n",
    "            return page, None\n",
    "    except Exception as e:\n",
    "        print(f\"Error with ZenRows request for page {page}: {e}\")\n",
    "        return page, None\n",
    "\n",
    "def parse_page(page, html_content):\n",
    "    \"\"\"Parses a single page's HTML content for .subtitle items.\"\"\"\n",
    "    if not html_content:\n",
    "        return []\n",
    "\n",
    "    soup = BeautifulSoup(html_content, 'html.parser')\n",
    "    subtitle_items = soup.select('.subtitle')\n",
    "    return [item.get_text(strip=True) for item in subtitle_items]\n",
    "\n",
    "def iterate_pages_parallel(start_page=1, end_page=1000, workers=50):\n",
    "    \"\"\"Fetches and parses pages in parallel.\"\"\"\n",
    "    subtitles = []\n",
    "\n",
    "    with ThreadPoolExecutor(max_workers=workers) as executor:\n",
    "        # Submit tasks for each page\n",
    "        futures = {executor.submit(fetch_with_zenrows, page): page for page in range(start_page, end_page + 1)}\n",
    "\n",
    "        for future in futures:\n",
    "            try:\n",
    "                page, html_content = future.result()\n",
    "                print(f\"Processing page {page}...\")\n",
    "\n",
    "                # Parse the page and collect subtitles\n",
    "                page_subtitles = parse_page(page, html_content)\n",
    "                subtitles.extend(page_subtitles)\n",
    "\n",
    "                print(f\"Page {page} fetched successfully. Found {len(page_subtitles)} .subtitle items. Total: {len(subtitles)}\")\n",
    "            except Exception as e:\n",
    "                print(f\"Error processing page {futures[future]}: {e}\")\n",
    "\n",
    "    return subtitles\n",
    "\n",
    "if __name__ == \"__main__\":\n",
    "    # Fetch all subtitles from pages 1 to 1000 using 50 workers\n",
    "    all_subtitles = iterate_pages_parallel(start_page=1, end_page=1000, workers=50)\n",
    "    print(f\"Total subtitles retrieved: {len(all_subtitles)}\")\n",
    "\n",
    "    # Save to CSV\n",
    "    import csv\n",
    "    with open('subtitles.csv', 'w', newline='', encoding='utf-8') as file:\n",
    "        csv.writer(file).writerows([[subtitle] for subtitle in all_subtitles])\n"
   ]
  },
  {
   "cell_type": "code",
   "execution_count": null,
   "metadata": {},
   "outputs": [],
   "source": [
    "print(len(all_subtitles))"
   ]
  },
  {
   "cell_type": "code",
   "execution_count": null,
   "metadata": {},
   "outputs": [],
   "source": [
    "import csv\n",
    "\n",
    "with open('sourceforge_companies.csv', 'w', newline='', encoding='utf-8') as file: csv.writer(file).writerows([[subtitle] for subtitle in all_subtitles])\n"
   ]
  }
 ],
 "metadata": {
  "kernelspec": {
   "display_name": "maquinillo-h_Y_WDD6-py3.10",
   "language": "python",
   "name": "python3"
  },
  "language_info": {
   "codemirror_mode": {
    "name": "ipython",
    "version": 3
   },
   "file_extension": ".py",
   "mimetype": "text/x-python",
   "name": "python",
   "nbconvert_exporter": "python",
   "pygments_lexer": "ipython3",
   "version": "3.10.8"
  }
 },
 "nbformat": 4,
 "nbformat_minor": 2
}

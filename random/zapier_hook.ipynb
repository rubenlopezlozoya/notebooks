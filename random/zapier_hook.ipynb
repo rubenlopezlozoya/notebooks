{
 "cells": [
  {
   "cell_type": "code",
   "execution_count": null,
   "metadata": {},
   "outputs": [],
   "source": [
    "import requests\n",
    "import json\n",
    "import http\n",
    "import urllib\n",
    "import re\n",
    "import time\n",
    "from bs4 import BeautifulSoup\n",
    "\n",
    "\n",
    "input_data = {'first_name': \"rubenillo\", \"last_name\": \"Lopez\", 'email': \"ruben@capchase.com\", \"buyer_name\": \"Capchase\", \"vendor_name\": \"ACME\", \"website\": \"capchase.com\"}\n",
    "\n",
    "API_KEY = 'fb5fac53-27ea-421e-8d6e-3089a636d81e_hshxle5'\n",
    "url = f\"https://server.smartlead.ai/api/v1/campaigns/1373137/leads?api_key={API_KEY}\"\n",
    "\n",
    "payload = {\n",
    "    \"lead_list\": [\n",
    "        {\n",
    "            \"first_name\": input_data['first_name'],\n",
    "            \"last_name\": input_data['last_name'],\n",
    "            \"email\": input_data['email'],\n",
    "            \"company_name\": input_data['buyer_name'],\n",
    "            \"custom_fields\": {\n",
    "                \"vendor_name\": input_data['vendor_name'],\n",
    "            },\n",
    "            \"company_url\": input_data['website']\n",
    "        }\n",
    "    ],\n",
    "    \"settings\": {\n",
    "        \"ignore_global_block_list\": True,\n",
    "        \"ignore_unsubscribe_list\": True,\n",
    "        \"ignore_community_bounce_list\": True,\n",
    "        \"ignore_duplicate_leads_in_other_campaign\": False\n",
    "    }\n",
    "}\n",
    "\n",
    "headers = {\n",
    "    \"Content-Type\": \"application/json\"\n",
    "}\n",
    "\n",
    "add_lead_response = requests.post(url, json=payload, headers=headers)\n",
    "\n",
    "\n",
    "\n",
    "\n",
    "# lead_url = f\"https://server.smartlead.ai/api/v1/leads/?api_key={API_KEY}&email={input_data['email']}\"\n",
    "\n",
    "# get_lead_response = requests.get(lead_url, headers=headers)\n",
    "\n",
    "\n",
    "# lead_data = get_lead_response.json()\n",
    "# print({'lead_id': lead_data['id']})\n",
    "\n"
   ]
  }
 ],
 "metadata": {
  "kernelspec": {
   "display_name": "maquinillo-h_Y_WDD6-py3.10",
   "language": "python",
   "name": "python3"
  },
  "language_info": {
   "codemirror_mode": {
    "name": "ipython",
    "version": 3
   },
   "file_extension": ".py",
   "mimetype": "text/x-python",
   "name": "python",
   "nbconvert_exporter": "python",
   "pygments_lexer": "ipython3",
   "version": "3.10.8"
  }
 },
 "nbformat": 4,
 "nbformat_minor": 2
}

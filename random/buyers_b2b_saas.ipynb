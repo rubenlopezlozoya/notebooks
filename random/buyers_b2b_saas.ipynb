{
 "cells": [
  {
   "cell_type": "code",
   "execution_count": 10,
   "metadata": {},
   "outputs": [
    {
     "name": "stdout",
     "output_type": "stream",
     "text": [
      "Updated DataFrame saved to buyers_enriched_with_domain_match.csv\n"
     ]
    }
   ],
   "source": [
    "import pandas as pd\n",
    "\n",
    "# Read the CSV file into a DataFrame\n",
    "file_path = 'buyers_enriched.csv'  # Update with your file path\n",
    "buyers_df = pd.read_csv(file_path)\n",
    "\n",
    "# Ensure the necessary columns exist\n",
    "if 'Domain' in buyers_df.columns and 'domain_found' in buyers_df.columns and 'List of Buyer Emails' in buyers_df.columns:\n",
    "    # Create a new column 'is_domain_match' based on comparison\n",
    "    buyers_df['is_domain_match'] = buyers_df['Domain'] == buyers_df['domain_found']\n",
    "\n",
    "    # Extract the first email that does not end with certain domains and is not empty, then get its domain\n",
    "    def extract_email_domain(email_list):\n",
    "        if pd.isna(email_list):\n",
    "            return None\n",
    "        emails = email_list.split(',')\n",
    "        excluded_domains = {'gmail.com', 'live.com', 'icloud.com', 'outlook.com'}\n",
    "        for email in emails:\n",
    "            email = email.strip()\n",
    "            if email and email.split('@')[-1] not in excluded_domains:\n",
    "                return email.split('@')[-1]  # Return the domain part\n",
    "        return None\n",
    "\n",
    "    buyers_df['email_domain'] = buyers_df['List of Buyer Emails'].apply(extract_email_domain)\n",
    "\n",
    "    # Create new columns 'email_domain_match' and 'email_domain_found_match'\n",
    "    buyers_df['email_domain_match'] = buyers_df['email_domain'] == buyers_df['Domain']\n",
    "    buyers_df['email_domain_found_match'] = buyers_df['email_domain'] == buyers_df['domain_found']\n",
    "\n",
    "    # Add this to become more restrictive buyers_df['email_domain_match'] | buyers_df['email_domain_found_match'] and remove | buyers_df['email_domain'].notna()\n",
    "    # Create a new column 'is_valid_domain'\n",
    "    buyers_df['is_valid_domain'] =  buyers_df['is_domain_match'] | buyers_df['email_domain'].notna()\n",
    "\n",
    "    # Create a new column 'final_domain'\n",
    "    buyers_df['final_domain'] = buyers_df['email_domain'].combine_first(buyers_df.apply(lambda row: row['Domain'] if row['is_domain_match'] else None, axis=1))\n",
    "\n",
    "    # Save the updated DataFrame back to a CSV file if needed\n",
    "    output_file = 'buyers_enriched_with_domain_match.csv'\n",
    "    buyers_df.dropna(subset=[\"final_domain\"], inplace=True)\n",
    "    buyers_df.to_csv(output_file, index=False)\n",
    "    print(f\"Updated DataFrame saved to {output_file}\")\n",
    "else:\n",
    "    print(\"Error: Required columns 'Domain', 'domain_found', and 'List of Buyer Emails' are not present in the CSV file.\")\n"
   ]
  },
  {
   "cell_type": "code",
   "execution_count": 5,
   "metadata": {},
   "outputs": [],
   "source": [
    "import pandas as pd\n",
    "\n",
    "# Function to remove duplicates within a cell\n",
    "def clean_emails(cell):\n",
    "    if pd.isna(cell):  # Check for NaN\n",
    "        return cell\n",
    "    emails = cell.split(\",\")\n",
    "    unique_emails = sorted(set(email.strip() for email in emails if email.strip()))  # Remove duplicates and empty strings\n",
    "    return \",\".join(unique_emails)\n",
    "\n",
    "buyers_df = pd.read_csv('buyers_enriched_with_domain_match.csv')\n",
    "buyers_b2b_saas_df = pd.read_csv('b2b_saas_buyers.csv')\n",
    "\n",
    "# Apply the function to the specified columns\n",
    "buyers_df[\"List of Buyer Emails\"] = buyers_df[\"List of Buyer Emails\"].apply(clean_emails)\n",
    "buyers_df[\"List of Vendor Emails\"] = buyers_df[\"List of Vendor Emails\"].apply(clean_emails)\n",
    "buyers_df = pd.merge(buyers_df, buyers_b2b_saas_df, left_on=['final_domain'], right_on=['domain'], how=\"inner\")\n",
    "buyers_df.to_csv('buyers_enriched_with_domain_match.csv')"
   ]
  }
 ],
 "metadata": {
  "kernelspec": {
   "display_name": "maquinillo-h_Y_WDD6-py3.10",
   "language": "python",
   "name": "python3"
  },
  "language_info": {
   "codemirror_mode": {
    "name": "ipython",
    "version": 3
   },
   "file_extension": ".py",
   "mimetype": "text/x-python",
   "name": "python",
   "nbconvert_exporter": "python",
   "pygments_lexer": "ipython3",
   "version": "3.10.8"
  }
 },
 "nbformat": 4,
 "nbformat_minor": 2
}

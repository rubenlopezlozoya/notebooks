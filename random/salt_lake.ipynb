{
 "cells": [
  {
   "cell_type": "code",
   "execution_count": 1,
   "metadata": {},
   "outputs": [
    {
     "name": "stderr",
     "output_type": "stream",
     "text": [
      "100%|██████████| 281/281 [06:53<00:00,  1.47s/it]\n"
     ]
    }
   ],
   "source": [
    "import pandas as pd\n",
    "import requests\n",
    "from openai import OpenAI\n",
    "from pydantic import BaseModel\n",
    "import pandas as pd\n",
    "from tqdm import tqdm\n",
    "import concurrent.futures\n",
    "import json\n",
    "\n",
    "# Initialize OpenAI client\n",
    "client = OpenAI()\n",
    "\n",
    "# Define response models using Pydantic for book validation\n",
    "\n",
    "class Cafe(BaseModel):\n",
    "    name: str\n",
    "    address: str\n",
    "    rating: float\n",
    "    less_formal_name: str\n",
    "\n",
    "# Function to call OpenAI for book extraction\n",
    "def extract_cafe_address(row):\n",
    "    prompt = (\n",
    "        f\"Find me the nearest coffee shop to this address: {row['match']}. Make sure the rating is above 4.0, avoid coffee chains like Dunkin, Starbucks, etc. In addition to name and address, return a less formal name of saying the name. For example, if a coffee is called The Ground Coffee Establishment, just say the Ground.\"\n",
    "    )\n",
    "    \n",
    "    try:\n",
    "        response = client.beta.chat.completions.parse(\n",
    "            model=\"gpt-4o-mini\",\n",
    "            messages=[{\"role\": \"user\", \"content\": prompt}],\n",
    "            response_format=Cafe\n",
    "        )\n",
    "        return response.choices[0].message.parsed\n",
    "    except Exception as e:\n",
    "        return [{\"error\": str(e)}]\n",
    "\n",
    "df = pd.read_csv('filtered_people.csv')\n",
    "\n",
    "tqdm.pandas()\n",
    "\n",
    "df[\"cafe_recommendation\"] = df.progress_apply(extract_cafe_address, axis=1)\n",
    "\n",
    "\n",
    "\n",
    "\n",
    "\n"
   ]
  },
  {
   "cell_type": "code",
   "execution_count": 2,
   "metadata": {},
   "outputs": [],
   "source": [
    "df.to_csv('cofee_locations.csv')"
   ]
  }
 ],
 "metadata": {
  "kernelspec": {
   "display_name": "maquinillo-h_Y_WDD6-py3.10",
   "language": "python",
   "name": "python3"
  },
  "language_info": {
   "codemirror_mode": {
    "name": "ipython",
    "version": 3
   },
   "file_extension": ".py",
   "mimetype": "text/x-python",
   "name": "python",
   "nbconvert_exporter": "python",
   "pygments_lexer": "ipython3",
   "version": "3.10.8"
  }
 },
 "nbformat": 4,
 "nbformat_minor": 2
}
